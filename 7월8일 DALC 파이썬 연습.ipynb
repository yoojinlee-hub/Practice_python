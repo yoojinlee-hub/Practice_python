{
  "nbformat": 4,
  "nbformat_minor": 0,
  "metadata": {
    "colab": {
      "name": "Untitled12.ipynb",
      "provenance": [],
      "authorship_tag": "ABX9TyMSkPj0aorp26JiWDDObvbz",
      "include_colab_link": true
    },
    "kernelspec": {
      "name": "python3",
      "display_name": "Python 3"
    },
    "language_info": {
      "name": "python"
    }
  },
  "cells": [
    {
      "cell_type": "markdown",
      "metadata": {
        "id": "view-in-github",
        "colab_type": "text"
      },
      "source": [
        "<a href=\"https://colab.research.google.com/github/yoojinlee-hub/Practice_python/blob/main/7%EC%9B%948%EC%9D%BC%20DALC%20%ED%8C%8C%EC%9D%B4%EC%8D%AC%20%EC%97%B0%EC%8A%B5.ipynb\" target=\"_parent\"><img src=\"https://colab.research.google.com/assets/colab-badge.svg\" alt=\"Open In Colab\"/></a>"
      ]
    },
    {
      "cell_type": "markdown",
      "metadata": {
        "id": "QyHpqQkzuBE9"
      },
      "source": [
        "18.6 심사문제 반복문 제어"
      ]
    },
    {
      "cell_type": "code",
      "metadata": {
        "colab": {
          "base_uri": "https://localhost:8080/"
        },
        "id": "V71IoGWqp7ej",
        "outputId": "69b667fb-cd1f-40dc-9c00-c11a1927aea4"
      },
      "source": [
        "start, stop = map(int, input().split())\n",
        " \n",
        "i = start\n",
        " \n",
        "while True:\n",
        "    if i % 10 == 3:\n",
        "        i += 1\n",
        "        continue \n",
        "    if i > stop:\n",
        "        break\n",
        "    print(i, end=' ')\n",
        "    i += 1\n",
        "   \n",
        "   "
      ],
      "execution_count": 4,
      "outputs": [
        {
          "output_type": "stream",
          "text": [
            "1 20\n",
            "1 2 4 5 6 7 8 9 10 11 12 14 15 16 17 18 19 20 "
          ],
          "name": "stdout"
        }
      ]
    },
    {
      "cell_type": "markdown",
      "metadata": {
        "id": "zsnaAVG2uHT8"
      },
      "source": [
        "19.6 심사문제 계단식 별 출력"
      ]
    },
    {
      "cell_type": "code",
      "metadata": {
        "colab": {
          "base_uri": "https://localhost:8080/"
        },
        "id": "kGsgdbvpuLP0",
        "outputId": "e8c170c3-1c66-497e-f178-dcaecb700c1d"
      },
      "source": [
        "num = int(input())\n",
        "for i in range(num+1):\n",
        "    print(' ' * (num - i), end=' ')\n",
        "    print(\"*\" * (i * 2 - 1))\n",
        "\n",
        "\n",
        "    "
      ],
      "execution_count": 14,
      "outputs": [
        {
          "output_type": "stream",
          "text": [
            "5\n",
            "      \n",
            "     *\n",
            "    ***\n",
            "   *****\n",
            "  *******\n",
            " *********\n"
          ],
          "name": "stdout"
        }
      ]
    },
    {
      "cell_type": "code",
      "metadata": {
        "colab": {
          "base_uri": "https://localhost:8080/"
        },
        "id": "S6tAtaD41pKc",
        "outputId": "0ef24c44-1e58-40af-86eb-a25190547c60"
      },
      "source": [
        "height=int(input())\n",
        "for i in range(height):\n",
        "    for j in reversed(range(height)):\n",
        "        if j > i:\n",
        "            print(' ', end='')\n",
        "        else:\n",
        "            print('*', end='')\n",
        "    for j in range(height):\n",
        "        if j < i:\n",
        "            print('*', end='')\n",
        "    print()\n"
      ],
      "execution_count": 13,
      "outputs": [
        {
          "output_type": "stream",
          "text": [
            "5\n",
            "    *\n",
            "   ***\n",
            "  *****\n",
            " *******\n",
            "*********\n"
          ],
          "name": "stdout"
        }
      ]
    },
    {
      "cell_type": "markdown",
      "metadata": {
        "id": "t37LnvGfuLgz"
      },
      "source": [
        "20.8 심사문제 Fizzbuzz문제"
      ]
    },
    {
      "cell_type": "code",
      "metadata": {
        "colab": {
          "base_uri": "https://localhost:8080/"
        },
        "id": "UTb9lG0IuO_8",
        "outputId": "592848bc-953e-4983-8a23-0ac3264b085c"
      },
      "source": [
        "num1=int(input())\n",
        "num2=int(input())\n",
        "\n",
        "for i in range(num1,num2+1):\n",
        "  if i%5==0 and i%7==0:\n",
        "    print('FizzBuzz')\n",
        "  elif i%5==0:\n",
        "    print('Fizz')\n",
        "  elif i%7==0:\n",
        "    print('Buzz')\n",
        "  else:\n",
        "    print(i)\n",
        "  "
      ],
      "execution_count": 17,
      "outputs": [
        {
          "output_type": "stream",
          "text": [
            "35\n",
            "40\n",
            "FizzBuzz\n",
            "36\n",
            "37\n",
            "38\n",
            "39\n",
            "Fizz\n"
          ],
          "name": "stdout"
        }
      ]
    },
    {
      "cell_type": "code",
      "metadata": {
        "colab": {
          "base_uri": "https://localhost:8080/"
        },
        "id": "4g5LjJZ05Bt3",
        "outputId": "a154bb54-b989-49e5-b297-01eb8c1245dc"
      },
      "source": [
        "num1,num2=map(int,input().split())\n",
        "\n",
        "for i in range(num1,num2+1):\n",
        "  if i%5==0 and i%7==0:\n",
        "    print('FizzBuzz')\n",
        "  elif i%5==0:\n",
        "    print('Fizz')\n",
        "  elif i%7==0:\n",
        "    print('Buzz')\n",
        "  else:\n",
        "    print(i)"
      ],
      "execution_count": 19,
      "outputs": [
        {
          "output_type": "stream",
          "text": [
            "35 40\n",
            "FizzBuzz\n",
            "36\n",
            "37\n",
            "38\n",
            "39\n",
            "Fizz\n"
          ],
          "name": "stdout"
        }
      ]
    }
  ]
}