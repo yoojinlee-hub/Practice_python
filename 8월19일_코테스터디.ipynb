{
  "nbformat": 4,
  "nbformat_minor": 0,
  "metadata": {
    "colab": {
      "name": "8월19일 코테스터디.ipynb",
      "provenance": [],
      "authorship_tag": "ABX9TyP0bYstef4gwk+3JPWVgg33",
      "include_colab_link": true
    },
    "kernelspec": {
      "name": "python3",
      "display_name": "Python 3"
    },
    "language_info": {
      "name": "python"
    }
  },
  "cells": [
    {
      "cell_type": "markdown",
      "metadata": {
        "id": "view-in-github",
        "colab_type": "text"
      },
      "source": [
        "<a href=\"https://colab.research.google.com/github/yoojinlee-hub/Practice_python/blob/main/8%EC%9B%9419%EC%9D%BC_%EC%BD%94%ED%85%8C%EC%8A%A4%ED%84%B0%EB%94%94.ipynb\" target=\"_parent\"><img src=\"https://colab.research.google.com/assets/colab-badge.svg\" alt=\"Open In Colab\"/></a>"
      ]
    },
    {
      "cell_type": "markdown",
      "metadata": {
        "id": "_PUIeGw8rMSI"
      },
      "source": [
        "카카오 코딩테스트 연습 - 숫자 문자열과 영단어\n",
        "<br>https://programmers.co.kr/learn/courses/30/lessons/81301?language=python3"
      ]
    },
    {
      "cell_type": "code",
      "metadata": {
        "id": "EfOw4PCcveSc"
      },
      "source": [
        "def solution(s):\n",
        "    answer = s \n",
        "    answer = answer.replace('zero', '0')\n",
        "    answer = answer.replace('one', '1')\n",
        "    answer = answer.replace('two', '2')\n",
        "    answer = answer.replace('three', '3')\n",
        "    answer = answer.replace('four', '4')\n",
        "    answer = answer.replace('five', '5')\n",
        "    answer = answer.replace('six', '6')\n",
        "    answer = answer.replace('seven', '7')\n",
        "    answer = answer.replace('eight', '8')\n",
        "    answer = answer.replace('nine', '9')\n",
        "\n",
        "\n",
        "    return int(answer)"
      ],
      "execution_count": 6,
      "outputs": []
    },
    {
      "cell_type": "markdown",
      "metadata": {
        "id": "WcSIwBAnvixu"
      },
      "source": [
        "replace함수참고 : https://ponyozzang.tistory.com/334"
      ]
    },
    {
      "cell_type": "markdown",
      "metadata": {
        "id": "fvUoaE-cwY2o"
      },
      "source": [
        "*구글링*"
      ]
    },
    {
      "cell_type": "code",
      "metadata": {
        "id": "EFZ_3ASRqziU"
      },
      "source": [
        "##구글링 https://velog.io/@fftl/%ED%94%84%EB%A1%9C%EA%B7%B8%EB%9E%98%EB%A8%B8%EC%8A%A4-%EC%88%AB%EC%9E%90-%EB%AC%B8%EC%9E%90%EC%97%B4%EA%B3%BC-%EC%98%81%EB%8B%A8%EC%96%B4-%ED%8C%8C%EC%9D%B4%EC%8D%AC\n",
        "def solution(strs):\n",
        "    diction = {\n",
        "        \"zero\" : \"0\", \"one\" : \"1\", \"two\" : \"2\",\n",
        "        \"three\" : \"3\", \"four\" : \"4\", \"five\" : \"5\",\n",
        "        \"six\" : \"6\", \"seven\" : \"7\", \"eight\" : \"8\",\n",
        "        \"nine\" : \"9\"\n",
        "    };\n",
        "    \n",
        "    arr = []; \t\t#반환된 숫자들을 담을 arr\n",
        "    string = \"\";\t#문자열을 담아줄 string\n",
        "    \n",
        "    for s in strs:\n",
        "        if s.isalpha():\t\t#만약 이번 s가 영문자일 경우\n",
        "            string += s;\t#string에 이어 붙여줍니다.\n",
        "            \n",
        "            if string in diction: #현재 string이 diction에 존재하면\n",
        "                arr.append(diction[string]); #해당 string에 맞는 숫자를 arr에 담아줍니다.\n",
        "                string = \"\";\t#string을 \"\"으로 초기화 해 다음 문자를 준비합니다.\n",
        "        else:\t\t#숫자일 경우 바로 arr에 담아줍니다.\n",
        "            arr.append(s);\n",
        "\n",
        "\t\n",
        "    answer = int(\"\".join(arr));\t#arr를 이어붙여 준뒤 int형으로 변환하여 asnwer에 담아줍니다.\n",
        "    \n",
        "    #끝!\n",
        "    return answer;"
      ],
      "execution_count": 5,
      "outputs": []
    },
    {
      "cell_type": "markdown",
      "metadata": {
        "id": "718kxsPIw8DX"
      },
      "source": [
        "\n",
        "\n",
        "---\n",
        "\n"
      ]
    },
    {
      "cell_type": "markdown",
      "metadata": {
        "id": "kiTbiK38xAf-"
      },
      "source": [
        "카카오 코딩테스트 연습 - 신규아이디추천<br>\n",
        "https://programmers.co.kr/learn/courses/30/lessons/72410"
      ]
    },
    {
      "cell_type": "code",
      "metadata": {
        "id": "PGl7NK3_yTN3"
      },
      "source": [
        ""
      ],
      "execution_count": null,
      "outputs": []
    }
  ]
}