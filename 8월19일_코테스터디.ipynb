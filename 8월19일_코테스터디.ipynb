{
  "nbformat": 4,
  "nbformat_minor": 0,
  "metadata": {
    "colab": {
      "name": "8월19일 코테스터디.ipynb",
      "provenance": [],
      "authorship_tag": "ABX9TyP/++XD4MVe3OVyK01czl5q",
      "include_colab_link": true
    },
    "kernelspec": {
      "name": "python3",
      "display_name": "Python 3"
    },
    "language_info": {
      "name": "python"
    }
  },
  "cells": [
    {
      "cell_type": "markdown",
      "metadata": {
        "id": "view-in-github",
        "colab_type": "text"
      },
      "source": [
        "<a href=\"https://colab.research.google.com/github/yoojinlee-hub/Practice_python/blob/main/8%EC%9B%9419%EC%9D%BC_%EC%BD%94%ED%85%8C%EC%8A%A4%ED%84%B0%EB%94%94.ipynb\" target=\"_parent\"><img src=\"https://colab.research.google.com/assets/colab-badge.svg\" alt=\"Open In Colab\"/></a>"
      ]
    },
    {
      "cell_type": "markdown",
      "metadata": {
        "id": "_PUIeGw8rMSI"
      },
      "source": [
        "카카오 코딩테스트 연습 - 숫자 문자열과 영단어\n",
        "<br>https://programmers.co.kr/learn/courses/30/lessons/81301?language=python3"
      ]
    },
    {
      "cell_type": "code",
      "metadata": {
        "id": "EfOw4PCcveSc"
      },
      "source": [
        "def solution(s): #파이썬은 switch가 없다\n",
        "    answer = s \n",
        "    answer = answer.replace('zero', '0')\n",
        "    answer = answer.replace('one', '1')\n",
        "    answer = answer.replace('two', '2')\n",
        "    answer = answer.replace('three', '3')\n",
        "    answer = answer.replace('four', '4')\n",
        "    answer = answer.replace('five', '5')\n",
        "    answer = answer.replace('six', '6')\n",
        "    answer = answer.replace('seven', '7')\n",
        "    answer = answer.replace('eight', '8')\n",
        "    answer = answer.replace('nine', '9')\n",
        "\n",
        "\n",
        "    return int(answer)"
      ],
      "execution_count": 6,
      "outputs": []
    },
    {
      "cell_type": "markdown",
      "metadata": {
        "id": "WcSIwBAnvixu"
      },
      "source": [
        "replace함수참고 : https://ponyozzang.tistory.com/334"
      ]
    },
    {
      "cell_type": "markdown",
      "metadata": {
        "id": "fvUoaE-cwY2o"
      },
      "source": [
        "*구글링*"
      ]
    },
    {
      "cell_type": "code",
      "metadata": {
        "id": "EFZ_3ASRqziU"
      },
      "source": [
        "##구글링 https://velog.io/@fftl/%ED%94%84%EB%A1%9C%EA%B7%B8%EB%9E%98%EB%A8%B8%EC%8A%A4-%EC%88%AB%EC%9E%90-%EB%AC%B8%EC%9E%90%EC%97%B4%EA%B3%BC-%EC%98%81%EB%8B%A8%EC%96%B4-%ED%8C%8C%EC%9D%B4%EC%8D%AC\n",
        "def solution(strs):\n",
        "    diction = {\n",
        "        \"zero\" : \"0\", \"one\" : \"1\", \"two\" : \"2\",\n",
        "        \"three\" : \"3\", \"four\" : \"4\", \"five\" : \"5\",\n",
        "        \"six\" : \"6\", \"seven\" : \"7\", \"eight\" : \"8\",\n",
        "        \"nine\" : \"9\"\n",
        "    };\n",
        "    \n",
        "    arr = []; \t\t#반환된 숫자들을 담을 arr\n",
        "    string = \"\";\t#문자열을 담아줄 string\n",
        "    \n",
        "    for s in strs:\n",
        "        if s.isalpha():\t\t#만약 이번 s가 영문자일 경우\n",
        "            string += s;\t#string에 이어 붙여줍니다.\n",
        "            \n",
        "            if string in diction: #현재 string이 diction에 존재하면\n",
        "                arr.append(diction[string]); #해당 string에 맞는 숫자를 arr에 담아줍니다.\n",
        "                string = \"\";\t#string을 \"\"으로 초기화 해 다음 문자를 준비합니다.\n",
        "        else:\t\t#숫자일 경우 바로 arr에 담아줍니다.\n",
        "            arr.append(s);\n",
        "\n",
        "\t\n",
        "    answer = int(\"\".join(arr));\t#arr를 이어붙여 준뒤 int형으로 변환하여 asnwer에 담아줍니다.\n",
        "    \n",
        "    #끝!\n",
        "    return answer;"
      ],
      "execution_count": 5,
      "outputs": []
    },
    {
      "cell_type": "markdown",
      "metadata": {
        "id": "718kxsPIw8DX"
      },
      "source": [
        "\n",
        "\n",
        "---\n",
        "\n"
      ]
    },
    {
      "cell_type": "markdown",
      "metadata": {
        "id": "kiTbiK38xAf-"
      },
      "source": [
        "카카오 코딩테스트 연습 - 신규아이디추천<br>\n",
        "https://programmers.co.kr/learn/courses/30/lessons/72410"
      ]
    },
    {
      "cell_type": "markdown",
      "metadata": {
        "id": "YVL0ZSHH-_p1"
      },
      "source": [
        "파이썬 re모듈<br>\n",
        "\n",
        "1.   https://ponyozzang.tistory.com/335\n",
        "2.   https://velog.io/@ednadev/%ED%8C%8C%EC%9D%B4%EC%8D%AC-%EC%A0%95%EA%B7%9C%ED%91%9C%ED%98%84%EC%8B%9D%EA%B3%BC-re%EB%AA%A8%EB%93%88\n",
        "\n"
      ]
    },
    {
      "cell_type": "markdown",
      "metadata": {
        "id": "eLLY8k32D7At"
      },
      "source": [
        "1단계 new_id의 모든 대문자를 대응되는 소문자로 치환합니다.\n",
        "2단계 new_id에서 알파벳 소문자, 숫자, 빼기(-), 밑줄(_), 마침표(.)를 제외한 모든 문자를 제거합니다.\n",
        "3단계 new_id에서 마침표(.)가 2번 이상 연속된 부분을 하나의 마침표(.)로 치환합니다.\n",
        "4단계 new_id에서 마침표(.)가 처음이나 끝에 위치한다면 제거합니다.\n",
        "5단계 new_id가 빈 문자열이라면, new_id에 \"a\"를 대입합니다.\n",
        "6단계 new_id의 길이가 16자 이상이면, new_id의 첫 15개의 문자를 제외한 나머지 문자들을 모두 제거합니다.\n",
        "     만약 제거 후 마침표(.)가 new_id의 끝에 위치한다면 끝에 위치한 마침표(.) 문자를 제거합니다.\n",
        "7단계 new_id의 길이가 2자 이하라면, new_id의 마지막 문자를 new_id의 길이가 3이 될 때까지 반복해서 끝에 붙입니다."
      ]
    },
    {
      "cell_type": "code",
      "metadata": {
        "id": "PGl7NK3_yTN3"
      },
      "source": [
        "###오답###\n",
        "import re\n",
        "def solution(new_id):\n",
        "    new_id = new_id.lower() #소문자로(1)\n",
        "    new_id = re.sub(r\"[^a-zA-Z0-9-_.]\", \"\", new_id) #특수문자 제거(2)\n",
        "    answer = new_id\n",
        "\n",
        "    while '..' in answer: #점이 두개면 한개로 바꾸기(3)\n",
        "      answer= answer.replace('..','.')\n",
        "\n",
        "    if answer : #(4)\n",
        "      if answer[0] == '.':\n",
        "        answer = answer[1:]\n",
        "      if answer[-1] == '.':\n",
        "        answer = answer[:-1]\n",
        "    \n",
        "    if answer == '': #(5)\n",
        "      answer += 'a'\n",
        "\n",
        "    if len(answer) >= 16: #(6)\n",
        "      answer = answer[:15]\n",
        "    \n",
        "    if len(answer) <=2: #(7)\n",
        "      answer = answer + answer[-1]*(3-len(answer))\n",
        "\n",
        "    \n",
        "    return answer"
      ],
      "execution_count": 8,
      "outputs": []
    }
  ]
}