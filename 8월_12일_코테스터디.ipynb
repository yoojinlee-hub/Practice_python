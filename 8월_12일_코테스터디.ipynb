{
  "nbformat": 4,
  "nbformat_minor": 0,
  "metadata": {
    "colab": {
      "name": "8월 12일 코테스터디.ipynb",
      "provenance": [],
      "authorship_tag": "ABX9TyMuQn3bqJUyKFP61RaBfqm9",
      "include_colab_link": true
    },
    "kernelspec": {
      "name": "python3",
      "display_name": "Python 3"
    },
    "language_info": {
      "name": "python"
    }
  },
  "cells": [
    {
      "cell_type": "markdown",
      "metadata": {
        "id": "view-in-github",
        "colab_type": "text"
      },
      "source": [
        "<a href=\"https://colab.research.google.com/github/yoojinlee-hub/Practice_python/blob/main/8%EC%9B%94_12%EC%9D%BC_%EC%BD%94%ED%85%8C%EC%8A%A4%ED%84%B0%EB%94%94.ipynb\" target=\"_parent\"><img src=\"https://colab.research.google.com/assets/colab-badge.svg\" alt=\"Open In Colab\"/></a>"
      ]
    },
    {
      "cell_type": "markdown",
      "metadata": {
        "id": "MInDDbC3DtVd"
      },
      "source": [
        "백준 5597번<br>https://www.acmicpc.net/problem/5597"
      ]
    },
    {
      "cell_type": "markdown",
      "metadata": {
        "id": "zZjF85T_FgBm"
      },
      "source": [
        "파이썬 remove 함수<br>https://ooyoung.tistory.com/49 //array의 요소를 삭제"
      ]
    },
    {
      "cell_type": "code",
      "metadata": {
        "colab": {
          "base_uri": "https://localhost:8080/"
        },
        "id": "nQlrlKKZDQBv",
        "outputId": "fde703b4-aee6-4c5f-cd90-1bfbd6c1129e"
      },
      "source": [
        "students = [i for i in range(1, 31)] #30번까지\n",
        "\n",
        "for _ in range(28):\n",
        "    n = int(input())\n",
        "    students.remove(n) #제외하기\n",
        "\n",
        "print(min(students))\n",
        "print(max(students))"
      ],
      "execution_count": 3,
      "outputs": [
        {
          "output_type": "stream",
          "text": [
            "3\n",
            "1\n",
            "4\n",
            "5\n",
            "7\n",
            "9\n",
            "6\n",
            "10\n",
            "11\n",
            "12\n",
            "13\n",
            "14\n",
            "15\n",
            "16\n",
            "17\n",
            "18\n",
            "19\n",
            "20\n",
            "21\n",
            "22\n",
            "23\n",
            "24\n",
            "25\n",
            "26\n",
            "27\n",
            "28\n",
            "29\n",
            "30\n",
            "2\n",
            "8\n"
          ],
          "name": "stdout"
        }
      ]
    },
    {
      "cell_type": "markdown",
      "metadata": {
        "id": "AULlWXnwF0JG"
      },
      "source": [
        "\n",
        "\n",
        "---\n",
        "\n"
      ]
    },
    {
      "cell_type": "markdown",
      "metadata": {
        "id": "LUFyCMMHGAR2"
      },
      "source": [
        "백준 7510 고급수학 <br> https://www.acmicpc.net/problem/7510"
      ]
    },
    {
      "cell_type": "code",
      "metadata": {
        "colab": {
          "base_uri": "https://localhost:8080/"
        },
        "id": "fwPeji5WGEqn",
        "outputId": "24b8528e-a8a5-48da-a3ee-5074eaaa1af1"
      },
      "source": [
        "num = int(input()) #Scenario num\n",
        "\n",
        "for i in range(num):\n",
        "  triList=list(map(int,input().split(' ')))\n",
        "  triList.sort() #정렬\n",
        "  print(\"Scenario #%d:\"%(i+1)) #c언어의 \"%d\",i+1\n",
        "  if pow(triList[2],2)==pow(triList[0],2)+pow(triList[1],2): #제곱함수\n",
        "        print('yes\\n')\n",
        "  else:\n",
        "        print('no\\n')"
      ],
      "execution_count": 13,
      "outputs": [
        {
          "output_type": "stream",
          "text": [
            "2\n",
            "36 77 85\n",
            "Scenario #1:\n",
            "yes\n",
            "\n",
            "40 55 69\n",
            "Scenario #2:\n",
            "no\n",
            "\n"
          ],
          "name": "stdout"
        }
      ]
    },
    {
      "cell_type": "markdown",
      "metadata": {
        "id": "ropqNus5KMYk"
      },
      "source": [
        "\n",
        "\n",
        "---\n",
        "\n"
      ]
    },
    {
      "cell_type": "markdown",
      "metadata": {
        "id": "0IrXaCRPKNQc"
      },
      "source": [
        "백준 1874 스택수열 <br>https://www.acmicpc.net/problem/1874<br>\n",
        "스택은 자료를 넣는 (push) 입구와 자료를 뽑는 (pop) 입구가 같아 제일 나중에 들어간 자료가 제일 먼저 나오는 (LIFO, Last in First out) 특성을 가지고 있다."
      ]
    },
    {
      "cell_type": "markdown",
      "metadata": {
        "id": "7jPj3a16EmNA"
      },
      "source": [
        "https://wtg-study.tistory.com/53"
      ]
    }
  ]
}