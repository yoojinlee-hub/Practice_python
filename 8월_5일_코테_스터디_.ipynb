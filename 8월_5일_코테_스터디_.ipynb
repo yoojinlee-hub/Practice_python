{
  "nbformat": 4,
  "nbformat_minor": 0,
  "metadata": {
    "colab": {
      "name": "8월 5일 코테 스터디 .ipynb",
      "provenance": [],
      "collapsed_sections": [],
      "authorship_tag": "ABX9TyOfykGP2bgWRaDe2kAmMU1Q",
      "include_colab_link": true
    },
    "kernelspec": {
      "name": "python3",
      "display_name": "Python 3"
    },
    "language_info": {
      "name": "python"
    }
  },
  "cells": [
    {
      "cell_type": "markdown",
      "metadata": {
        "id": "view-in-github",
        "colab_type": "text"
      },
      "source": [
        "<a href=\"https://colab.research.google.com/github/yoojinlee-hub/Practice_python/blob/main/8%EC%9B%94_5%EC%9D%BC_%EC%BD%94%ED%85%8C_%EC%8A%A4%ED%84%B0%EB%94%94_.ipynb\" target=\"_parent\"><img src=\"https://colab.research.google.com/assets/colab-badge.svg\" alt=\"Open In Colab\"/></a>"
      ]
    },
    {
      "cell_type": "markdown",
      "metadata": {
        "id": "_Ovzmr3sEDKm"
      },
      "source": [
        "파이썬 코딩 도장 38.7<br>\n",
        "https://dojang.io/mod/quiz/attempt.php?attempt=1489542&cmid=2404"
      ]
    },
    {
      "cell_type": "code",
      "metadata": {
        "id": "GcH1G9eiFWVc"
      },
      "source": [
        "try:\n",
        "    x = int(input('나눌 숫자를 입력하세요: '))\n",
        "    y = 10 / x\n",
        "    print(y)\n",
        "except:    # 예외가 발생했을 때 실행됨\n",
        "    print('예외가 발생했습니다.')"
      ],
      "execution_count": null,
      "outputs": []
    },
    {
      "cell_type": "code",
      "metadata": {
        "id": "TNsXMM5NFQI0"
      },
      "source": [
        "try:\n",
        "    실행할 코드\n",
        "except:\n",
        "    예외가 발생했을 때 처리하는 코드\n",
        "else:\n",
        "    예외가 발생하지 않았을 때 실행할 코드\n",
        "finally:\n",
        "    예외 발생 여부와 상관없이 항상 실행할 코드"
      ],
      "execution_count": null,
      "outputs": []
    },
    {
      "cell_type": "code",
      "metadata": {
        "colab": {
          "base_uri": "https://localhost:8080/"
        },
        "id": "UMJcH-H-E8rb",
        "outputId": "b786bda1-bb87-4913-d30e-5cd3c4ec95b0"
      },
      "source": [
        "#38.3 예외 발생시키기\n",
        "try:\n",
        "    x = int(input('3의 배수를 입력하세요: '))\n",
        "    if x % 3 != 0:                                 # x가 3의 배수가 아니면\n",
        "        raise Exception('3의 배수가 아닙니다.')    # 예외를 발생시킴\n",
        "    print(x)\n",
        "except Exception as e:                             # 예외가 발생했을 때 실행됨\n",
        "    print('예외가 발생했습니다.', e)"
      ],
      "execution_count": 3,
      "outputs": [
        {
          "output_type": "stream",
          "text": [
            "3의 배수를 입력하세요: 5\n",
            "예외가 발생했습니다. 3의 배수가 아닙니다.\n"
          ],
          "name": "stdout"
        }
      ]
    },
    {
      "cell_type": "code",
      "metadata": {
        "colab": {
          "base_uri": "https://localhost:8080/"
        },
        "id": "pKx3PXAiEuSk",
        "outputId": "13ecd716-a2f3-4a3e-97b3-15c2327c41e8"
      },
      "source": [
        "#38.4 예외만들기\n",
        "class NotThreeMultipleError(Exception):    # Exception을 상속받아서 새로운 예외를 만듦\n",
        "    def __init__(self):\n",
        "        super().__init__('3의 배수가 아닙니다.')\n",
        " \n",
        "def three_multiple():\n",
        "    try:\n",
        "        x = int(input('3의 배수를 입력하세요: '))\n",
        "        if x % 3 != 0:                     # x가 3의 배수가 아니면\n",
        "            raise NotThreeMultipleError    # NotThreeMultipleError 예외를 발생시킴\n",
        "        print(x)\n",
        "    except Exception as e:\n",
        "        print('예외가 발생했습니다.', e)\n",
        " \n",
        "three_multiple()"
      ],
      "execution_count": 2,
      "outputs": [
        {
          "output_type": "stream",
          "text": [
            "3의 배수를 입력하세요: 5\n",
            "예외가 발생했습니다. 3의 배수가 아닙니다.\n"
          ],
          "name": "stdout"
        }
      ]
    },
    {
      "cell_type": "code",
      "metadata": {
        "colab": {
          "base_uri": "https://localhost:8080/"
        },
        "id": "_MV31r6HD9LX",
        "outputId": "ebf3f700-5a56-47b2-f1f6-fd3256956987"
      },
      "source": [
        "#38.6 파일 예외 처리하기\n",
        "try:\n",
        "  file = open('maria.txt','r')\n",
        "except FileNotFoundError:\n",
        "  print('파일이 없습니다')\n",
        "else:\n",
        "  s = file.read()\n",
        "  file.close()"
      ],
      "execution_count": 1,
      "outputs": [
        {
          "output_type": "stream",
          "text": [
            "파일이 없습니다\n"
          ],
          "name": "stdout"
        }
      ]
    },
    {
      "cell_type": "code",
      "metadata": {
        "colab": {
          "base_uri": "https://localhost:8080/"
        },
        "id": "yCyBK4CNER97",
        "outputId": "a00ae64e-f626-4d3b-c6b0-77f16ad1a13a"
      },
      "source": [
        "#정답이 아니라고 떴지만, NotPalindromeError부터 쓰면 정답임,,\n",
        "def palindrome(word):\n",
        "  list_word = list(word)\n",
        "  opp = list(word[::-1]) #word를 반대로 뒤집은 word[::-1]\n",
        "  isit = 0\n",
        "  for i in range(len(list_word)):\n",
        "    if list_word[i] != opp[i]:\n",
        "      raise NotPalindromeError\n",
        "      break\n",
        "    else:\n",
        "      isit += 1\n",
        "  if (isit != 0):\n",
        "    print(word)\n",
        "\n",
        "class NotPalindromeError(Exception):    # Exception을 상속받아서 새로운 예외를 만듦\n",
        "    def __init__(self):\n",
        "        super().__init__('회문이 아닙니다')\n",
        "try:\n",
        "    word = input()\n",
        "    palindrome(word)\n",
        "except NotPalindromeError as e:\n",
        "    print(e)"
      ],
      "execution_count": 27,
      "outputs": [
        {
          "output_type": "stream",
          "text": [
            "hello\n",
            "회문이 아닙니다\n"
          ],
          "name": "stdout"
        }
      ]
    },
    {
      "cell_type": "code",
      "metadata": {
        "colab": {
          "base_uri": "https://localhost:8080/"
        },
        "id": "8kIPkKxkBqgh",
        "outputId": "93a74773-74fa-441b-fd91-42116d71582b"
      },
      "source": [
        "class NotPalindromeError(Exception):\n",
        "  def __init__(self):\n",
        "    super().__init__('회문이 아닙니다.')\n",
        "\n",
        "def palindrome(word):\n",
        "  if word != word[::-1]:\n",
        "    raise NotPalindromeError\n",
        "  print(word)\n",
        "\n",
        "try:\n",
        "    word = input()\n",
        "    palindrome(word)\n",
        "except NotPalindromeError as e:\n",
        "    print(e)"
      ],
      "execution_count": 28,
      "outputs": [
        {
          "output_type": "stream",
          "text": [
            "level\n",
            "level\n"
          ],
          "name": "stdout"
        }
      ]
    },
    {
      "cell_type": "markdown",
      "metadata": {
        "id": "P-bLQm4bIeZV"
      },
      "source": [
        "\n",
        "\n",
        "---\n",
        "\n"
      ]
    },
    {
      "cell_type": "markdown",
      "metadata": {
        "id": "hrxQOTN6IfOr"
      },
      "source": [
        "백준 1789 수들의 합<br>\n",
        "https://www.acmicpc.net/problem/1789<br>\n",
        "서로 다른 N개의 자연수의 합이 S라고 한다. S를 알 때, 자연수 N의 최댓값은 얼마일까?"
      ]
    },
    {
      "cell_type": "markdown",
      "metadata": {
        "id": "Ur3r-byOMrHz"
      },
      "source": [
        "C언어<br>***오답***<br>\n",
        "//서로 다른 N개의 자연수의 합이 S라고 한다. S를 알 때, 자연수 N의 최댓값은 얼마일까?\n",
        "int main(void) {\n",
        "    long long int S;\n",
        "    long long int i, sum = 0;\n",
        "    int N = 0;\n",
        "\n",
        "    scanf(\"%lld\", &S);\n",
        "\n",
        "    for (i = 1; ; i++) {\n",
        "        sum += i; //1부터 더해나가야 최댓값\n",
        "        N++;\n",
        "        if (sum >= S)\n",
        "            break;\n",
        "    }\n",
        "    \n",
        "    printf(\"%d\\n\", N-1);\n",
        "\n",
        "    return 0;\n",
        "}"
      ]
    },
    {
      "cell_type": "markdown",
      "metadata": {
        "id": "SMh9J0fvU5w9"
      },
      "source": [
        "C언어 정답 <br>\n",
        "\n",
        "int main() {\n",
        "\n",
        "\tlong long int S, i, n=0;\n",
        "\n",
        "\tint cnt=0;\n",
        "\n",
        "\tscanf(\"%lld\", &S);\n",
        "\n",
        "\tfor(i=1; ; i++) {\n",
        "\n",
        "\t\tn += i;\n",
        "\n",
        "\t\tcnt++;\n",
        "\n",
        "\t\tif(n > S) {\n",
        "\n",
        "                        cnt--;\n",
        "\n",
        "\t\t\tbreak;\n",
        "\n",
        "\t\t}\n",
        "\n",
        "\t}\n",
        "\n",
        "\tprintf(\"%d\\n\", cnt);\n",
        "\n",
        "\treturn 0;\n",
        "\n",
        "}"
      ]
    },
    {
      "cell_type": "markdown",
      "metadata": {
        "id": "9kp4WD1zWLG2"
      },
      "source": [
        "c언어 차이 => sum >=S 는 틀리고, sum > S 는 맞다"
      ]
    },
    {
      "cell_type": "code",
      "metadata": {
        "colab": {
          "base_uri": "https://localhost:8080/"
        },
        "id": "kt-AQVhNIscd",
        "outputId": "28b75488-a2d8-4fa9-aeab-16ae9b46fc07"
      },
      "source": [
        "#파이썬\n",
        "s = int(input())\n",
        "n = 1\n",
        "while n * (n + 1) / 2 <= s: #n * (n + 1) / 2는 1부터 n까지의 합의 공식 #'='가 없으면 오답\n",
        "    n += 1\n",
        "print(n - 1)"
      ],
      "execution_count": 16,
      "outputs": [
        {
          "output_type": "stream",
          "text": [
            "200\n",
            "19\n"
          ],
          "name": "stdout"
        }
      ]
    },
    {
      "cell_type": "markdown",
      "metadata": {
        "id": "z9dN3rc5V5Wt"
      },
      "source": [
        "\n",
        "\n",
        "---\n",
        "\n"
      ]
    },
    {
      "cell_type": "markdown",
      "metadata": {
        "id": "cjUet3rsWcSb"
      },
      "source": [
        "백준 3460 이진수<br>\n",
        "https://www.acmicpc.net/problem/3460\n"
      ]
    },
    {
      "cell_type": "markdown",
      "metadata": {
        "id": "CTvoJXqdZpiM"
      },
      "source": [
        "C언어 정답 <br>\n",
        "int main(void) {\n",
        "\tint T, i, j, n, cnt;\n",
        "\n",
        "\tscanf(\"%d\", &T);\n",
        "\n",
        "\tfor (i = 1; i <= T; i++) {\n",
        "\t\tscanf(\"%d\", &n);\n",
        "\t\tcnt = 0;\n",
        "\t\twhile (n != 0) {\n",
        "\t\t\tif (n % 2 != 0) //이진수 구하는 방법\n",
        "\t\t\t\tprintf(\"%d \", cnt);\n",
        "\t\t\tn = n / 2;\n",
        "\t\t\tcnt++;\n",
        "\t\t}\n",
        "\t\tprintf(\"\\n\");\n",
        "\t}\n",
        "\treturn 0;\n",
        "}"
      ]
    },
    {
      "cell_type": "code",
      "metadata": {
        "id": "IPS3KX1_4MAy"
      },
      "source": [
        "#안됨\n",
        "T = int(input())\n",
        "for i in range(T):\n",
        "  N = int(input())\n",
        "  cnt=0\n",
        "  while ( N != 0):\n",
        "    if (N % 2 != 0):\n",
        "      print(cnt, end=' ')\n",
        "    N /= 2\n",
        "    cnt = cnt + 1\n",
        "\n"
      ],
      "execution_count": null,
      "outputs": []
    },
    {
      "cell_type": "code",
      "metadata": {
        "colab": {
          "base_uri": "https://localhost:8080/"
        },
        "id": "PwvLWK52WidU",
        "outputId": "16fc9f51-5f7f-4930-f7b7-3129fcded0ce"
      },
      "source": [
        "##모르겠음##\n",
        "t = int(input())\n",
        "for i in range(t):\n",
        "    n = int(input())\n",
        "    n = str(bin(n)[2:])\n",
        "    for j in range(1, len(n) + 1):\n",
        "        if n[-j] == '1':\n",
        "            print(j - 1, end=' ')"
      ],
      "execution_count": 17,
      "outputs": [
        {
          "output_type": "stream",
          "text": [
            "1\n",
            "13\n",
            "0 2 3 "
          ],
          "name": "stdout"
        }
      ]
    }
  ]
}