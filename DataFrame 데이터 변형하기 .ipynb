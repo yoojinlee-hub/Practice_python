{
  "nbformat": 4,
  "nbformat_minor": 0,
  "metadata": {
    "colab": {
      "name": "Untitled17.ipynb",
      "provenance": [],
      "mount_file_id": "1HKBSF9BovZ_Ma2o0R2ssIGjBwwKICBv9",
      "authorship_tag": "ABX9TyPkIvbGURfZqmuvKQkNaK+q",
      "include_colab_link": true
    },
    "kernelspec": {
      "name": "python3",
      "display_name": "Python 3"
    },
    "language_info": {
      "name": "python"
    }
  },
  "cells": [
    {
      "cell_type": "markdown",
      "metadata": {
        "id": "view-in-github",
        "colab_type": "text"
      },
      "source": [
        "<a href=\"https://colab.research.google.com/github/yoojinlee-hub/Practice_python/blob/main/DataFrame%20%EB%8D%B0%EC%9D%B4%ED%84%B0%20%EB%B3%80%ED%98%95%ED%95%98%EA%B8%B0%20.ipynb\" target=\"_parent\"><img src=\"https://colab.research.google.com/assets/colab-badge.svg\" alt=\"Open In Colab\"/></a>"
      ]
    },
    {
      "cell_type": "markdown",
      "metadata": {
        "id": "xnB5X4voDlzg"
      },
      "source": [
        "DataFrame에 값 쓰기"
      ]
    },
    {
      "cell_type": "code",
      "metadata": {
        "colab": {
          "base_uri": "https://localhost:8080/"
        },
        "id": "DxDoJaGtDbw-",
        "outputId": "a1967865-3234-43ab-8f7c-61e415f4be13"
      },
      "source": [
        "from google.colab import drive\n",
        "drive.mount('/content/drive')"
      ],
      "execution_count": 1,
      "outputs": [
        {
          "output_type": "stream",
          "text": [
            "Mounted at /content/drive\n"
          ],
          "name": "stdout"
        }
      ]
    },
    {
      "cell_type": "code",
      "metadata": {
        "colab": {
          "base_uri": "https://localhost:8080/",
          "height": 266
        },
        "id": "bI3kfpyADqAe",
        "outputId": "1623abba-d6e3-4f64-83f0-a9b3b343020b"
      },
      "source": [
        "import pandas as pd\n",
        "iphone_df=pd.read_csv('/content/drive/MyDrive/iphone.csv',index_col=0)\n",
        "iphone_df"
      ],
      "execution_count": 2,
      "outputs": [
        {
          "output_type": "execute_result",
          "data": {
            "text/html": [
              "<div>\n",
              "<style scoped>\n",
              "    .dataframe tbody tr th:only-of-type {\n",
              "        vertical-align: middle;\n",
              "    }\n",
              "\n",
              "    .dataframe tbody tr th {\n",
              "        vertical-align: top;\n",
              "    }\n",
              "\n",
              "    .dataframe thead th {\n",
              "        text-align: right;\n",
              "    }\n",
              "</style>\n",
              "<table border=\"1\" class=\"dataframe\">\n",
              "  <thead>\n",
              "    <tr style=\"text-align: right;\">\n",
              "      <th></th>\n",
              "      <th>출시일</th>\n",
              "      <th>디스플레이</th>\n",
              "      <th>메모리</th>\n",
              "      <th>출시 버전</th>\n",
              "      <th>Face ID</th>\n",
              "    </tr>\n",
              "  </thead>\n",
              "  <tbody>\n",
              "    <tr>\n",
              "      <th>iPhone 7</th>\n",
              "      <td>2016-09-16</td>\n",
              "      <td>4.7</td>\n",
              "      <td>2GB</td>\n",
              "      <td>iOS 10.0</td>\n",
              "      <td>No</td>\n",
              "    </tr>\n",
              "    <tr>\n",
              "      <th>iPhone 7 Plus</th>\n",
              "      <td>2016-09-16</td>\n",
              "      <td>5.5</td>\n",
              "      <td>3GB</td>\n",
              "      <td>iOS 10.0</td>\n",
              "      <td>No</td>\n",
              "    </tr>\n",
              "    <tr>\n",
              "      <th>iPhone 8</th>\n",
              "      <td>2017-09-22</td>\n",
              "      <td>4.7</td>\n",
              "      <td>2GB</td>\n",
              "      <td>iOS 11.0</td>\n",
              "      <td>No</td>\n",
              "    </tr>\n",
              "    <tr>\n",
              "      <th>iPhone 8 Plus</th>\n",
              "      <td>2017-09-22</td>\n",
              "      <td>5.5</td>\n",
              "      <td>3GB</td>\n",
              "      <td>iOS 11.0</td>\n",
              "      <td>No</td>\n",
              "    </tr>\n",
              "    <tr>\n",
              "      <th>iPhone X</th>\n",
              "      <td>2017-11-03</td>\n",
              "      <td>5.8</td>\n",
              "      <td>3GB</td>\n",
              "      <td>iOS 11.1</td>\n",
              "      <td>Yes</td>\n",
              "    </tr>\n",
              "    <tr>\n",
              "      <th>iPhone XS</th>\n",
              "      <td>2018-09-21</td>\n",
              "      <td>5.8</td>\n",
              "      <td>4GB</td>\n",
              "      <td>iOS 12.0</td>\n",
              "      <td>Yes</td>\n",
              "    </tr>\n",
              "    <tr>\n",
              "      <th>iPhone XS Max</th>\n",
              "      <td>2018-09-21</td>\n",
              "      <td>6.5</td>\n",
              "      <td>4GB</td>\n",
              "      <td>iOS 12.0</td>\n",
              "      <td>Yes</td>\n",
              "    </tr>\n",
              "  </tbody>\n",
              "</table>\n",
              "</div>"
            ],
            "text/plain": [
              "                      출시일  디스플레이  메모리     출시 버전 Face ID\n",
              "iPhone 7       2016-09-16    4.7  2GB  iOS 10.0      No\n",
              "iPhone 7 Plus  2016-09-16    5.5  3GB  iOS 10.0      No\n",
              "iPhone 8       2017-09-22    4.7  2GB  iOS 11.0      No\n",
              "iPhone 8 Plus  2017-09-22    5.5  3GB  iOS 11.0      No\n",
              "iPhone X       2017-11-03    5.8  3GB  iOS 11.1     Yes\n",
              "iPhone XS      2018-09-21    5.8  4GB  iOS 12.0     Yes\n",
              "iPhone XS Max  2018-09-21    6.5  4GB  iOS 12.0     Yes"
            ]
          },
          "metadata": {
            "tags": []
          },
          "execution_count": 2
        }
      ]
    },
    {
      "cell_type": "code",
      "metadata": {
        "colab": {
          "base_uri": "https://localhost:8080/",
          "height": 35
        },
        "id": "jhJ6tsFcD2q3",
        "outputId": "20c9aa20-dd0a-4fe6-e712-6e01ccdfb0da"
      },
      "source": [
        "iphone_df.loc['iPhone 8','메모리']"
      ],
      "execution_count": 5,
      "outputs": [
        {
          "output_type": "execute_result",
          "data": {
            "application/vnd.google.colaboratory.intrinsic+json": {
              "type": "string"
            },
            "text/plain": [
              "'2.5GB'"
            ]
          },
          "metadata": {
            "tags": []
          },
          "execution_count": 5
        }
      ]
    },
    {
      "cell_type": "code",
      "metadata": {
        "id": "V1N9KqfHD8sQ"
      },
      "source": [
        "iphone_df.loc['iPhone 8','메모리']='2.5GB'"
      ],
      "execution_count": 4,
      "outputs": []
    },
    {
      "cell_type": "code",
      "metadata": {
        "colab": {
          "base_uri": "https://localhost:8080/",
          "height": 266
        },
        "id": "SBxDRXzVEBp3",
        "outputId": "1496c2b7-aac5-4edc-aa48-9b6fd89f6523"
      },
      "source": [
        "iphone_df"
      ],
      "execution_count": 6,
      "outputs": [
        {
          "output_type": "execute_result",
          "data": {
            "text/html": [
              "<div>\n",
              "<style scoped>\n",
              "    .dataframe tbody tr th:only-of-type {\n",
              "        vertical-align: middle;\n",
              "    }\n",
              "\n",
              "    .dataframe tbody tr th {\n",
              "        vertical-align: top;\n",
              "    }\n",
              "\n",
              "    .dataframe thead th {\n",
              "        text-align: right;\n",
              "    }\n",
              "</style>\n",
              "<table border=\"1\" class=\"dataframe\">\n",
              "  <thead>\n",
              "    <tr style=\"text-align: right;\">\n",
              "      <th></th>\n",
              "      <th>출시일</th>\n",
              "      <th>디스플레이</th>\n",
              "      <th>메모리</th>\n",
              "      <th>출시 버전</th>\n",
              "      <th>Face ID</th>\n",
              "    </tr>\n",
              "  </thead>\n",
              "  <tbody>\n",
              "    <tr>\n",
              "      <th>iPhone 7</th>\n",
              "      <td>2016-09-16</td>\n",
              "      <td>4.7</td>\n",
              "      <td>2GB</td>\n",
              "      <td>iOS 10.0</td>\n",
              "      <td>No</td>\n",
              "    </tr>\n",
              "    <tr>\n",
              "      <th>iPhone 7 Plus</th>\n",
              "      <td>2016-09-16</td>\n",
              "      <td>5.5</td>\n",
              "      <td>3GB</td>\n",
              "      <td>iOS 10.0</td>\n",
              "      <td>No</td>\n",
              "    </tr>\n",
              "    <tr>\n",
              "      <th>iPhone 8</th>\n",
              "      <td>2017-09-22</td>\n",
              "      <td>4.7</td>\n",
              "      <td>2.5GB</td>\n",
              "      <td>iOS 11.0</td>\n",
              "      <td>No</td>\n",
              "    </tr>\n",
              "    <tr>\n",
              "      <th>iPhone 8 Plus</th>\n",
              "      <td>2017-09-22</td>\n",
              "      <td>5.5</td>\n",
              "      <td>3GB</td>\n",
              "      <td>iOS 11.0</td>\n",
              "      <td>No</td>\n",
              "    </tr>\n",
              "    <tr>\n",
              "      <th>iPhone X</th>\n",
              "      <td>2017-11-03</td>\n",
              "      <td>5.8</td>\n",
              "      <td>3GB</td>\n",
              "      <td>iOS 11.1</td>\n",
              "      <td>Yes</td>\n",
              "    </tr>\n",
              "    <tr>\n",
              "      <th>iPhone XS</th>\n",
              "      <td>2018-09-21</td>\n",
              "      <td>5.8</td>\n",
              "      <td>4GB</td>\n",
              "      <td>iOS 12.0</td>\n",
              "      <td>Yes</td>\n",
              "    </tr>\n",
              "    <tr>\n",
              "      <th>iPhone XS Max</th>\n",
              "      <td>2018-09-21</td>\n",
              "      <td>6.5</td>\n",
              "      <td>4GB</td>\n",
              "      <td>iOS 12.0</td>\n",
              "      <td>Yes</td>\n",
              "    </tr>\n",
              "  </tbody>\n",
              "</table>\n",
              "</div>"
            ],
            "text/plain": [
              "                      출시일  디스플레이    메모리     출시 버전 Face ID\n",
              "iPhone 7       2016-09-16    4.7    2GB  iOS 10.0      No\n",
              "iPhone 7 Plus  2016-09-16    5.5    3GB  iOS 10.0      No\n",
              "iPhone 8       2017-09-22    4.7  2.5GB  iOS 11.0      No\n",
              "iPhone 8 Plus  2017-09-22    5.5    3GB  iOS 11.0      No\n",
              "iPhone X       2017-11-03    5.8    3GB  iOS 11.1     Yes\n",
              "iPhone XS      2018-09-21    5.8    4GB  iOS 12.0     Yes\n",
              "iPhone XS Max  2018-09-21    6.5    4GB  iOS 12.0     Yes"
            ]
          },
          "metadata": {
            "tags": []
          },
          "execution_count": 6
        }
      ]
    },
    {
      "cell_type": "code",
      "metadata": {
        "colab": {
          "base_uri": "https://localhost:8080/",
          "height": 266
        },
        "id": "D2eXlDVJEFy3",
        "outputId": "615824ca-2d77-4bbe-ef7a-546a321d5015"
      },
      "source": [
        "iphone_df.loc['iPhone 8','출시 버전']='ios 10.3'\n",
        "iphone_df"
      ],
      "execution_count": 8,
      "outputs": [
        {
          "output_type": "execute_result",
          "data": {
            "text/html": [
              "<div>\n",
              "<style scoped>\n",
              "    .dataframe tbody tr th:only-of-type {\n",
              "        vertical-align: middle;\n",
              "    }\n",
              "\n",
              "    .dataframe tbody tr th {\n",
              "        vertical-align: top;\n",
              "    }\n",
              "\n",
              "    .dataframe thead th {\n",
              "        text-align: right;\n",
              "    }\n",
              "</style>\n",
              "<table border=\"1\" class=\"dataframe\">\n",
              "  <thead>\n",
              "    <tr style=\"text-align: right;\">\n",
              "      <th></th>\n",
              "      <th>출시일</th>\n",
              "      <th>디스플레이</th>\n",
              "      <th>메모리</th>\n",
              "      <th>출시 버전</th>\n",
              "      <th>Face ID</th>\n",
              "    </tr>\n",
              "  </thead>\n",
              "  <tbody>\n",
              "    <tr>\n",
              "      <th>iPhone 7</th>\n",
              "      <td>2016-09-16</td>\n",
              "      <td>4.7</td>\n",
              "      <td>2GB</td>\n",
              "      <td>iOS 10.0</td>\n",
              "      <td>No</td>\n",
              "    </tr>\n",
              "    <tr>\n",
              "      <th>iPhone 7 Plus</th>\n",
              "      <td>2016-09-16</td>\n",
              "      <td>5.5</td>\n",
              "      <td>3GB</td>\n",
              "      <td>iOS 10.0</td>\n",
              "      <td>No</td>\n",
              "    </tr>\n",
              "    <tr>\n",
              "      <th>iPhone 8</th>\n",
              "      <td>2017-09-22</td>\n",
              "      <td>4.7</td>\n",
              "      <td>2.5GB</td>\n",
              "      <td>ios 10.3</td>\n",
              "      <td>No</td>\n",
              "    </tr>\n",
              "    <tr>\n",
              "      <th>iPhone 8 Plus</th>\n",
              "      <td>2017-09-22</td>\n",
              "      <td>5.5</td>\n",
              "      <td>3GB</td>\n",
              "      <td>iOS 11.0</td>\n",
              "      <td>No</td>\n",
              "    </tr>\n",
              "    <tr>\n",
              "      <th>iPhone X</th>\n",
              "      <td>2017-11-03</td>\n",
              "      <td>5.8</td>\n",
              "      <td>3GB</td>\n",
              "      <td>iOS 11.1</td>\n",
              "      <td>Yes</td>\n",
              "    </tr>\n",
              "    <tr>\n",
              "      <th>iPhone XS</th>\n",
              "      <td>2018-09-21</td>\n",
              "      <td>5.8</td>\n",
              "      <td>4GB</td>\n",
              "      <td>iOS 12.0</td>\n",
              "      <td>Yes</td>\n",
              "    </tr>\n",
              "    <tr>\n",
              "      <th>iPhone XS Max</th>\n",
              "      <td>2018-09-21</td>\n",
              "      <td>6.5</td>\n",
              "      <td>4GB</td>\n",
              "      <td>iOS 12.0</td>\n",
              "      <td>Yes</td>\n",
              "    </tr>\n",
              "  </tbody>\n",
              "</table>\n",
              "</div>"
            ],
            "text/plain": [
              "                      출시일  디스플레이    메모리     출시 버전 Face ID\n",
              "iPhone 7       2016-09-16    4.7    2GB  iOS 10.0      No\n",
              "iPhone 7 Plus  2016-09-16    5.5    3GB  iOS 10.0      No\n",
              "iPhone 8       2017-09-22    4.7  2.5GB  ios 10.3      No\n",
              "iPhone 8 Plus  2017-09-22    5.5    3GB  iOS 11.0      No\n",
              "iPhone X       2017-11-03    5.8    3GB  iOS 11.1     Yes\n",
              "iPhone XS      2018-09-21    5.8    4GB  iOS 12.0     Yes\n",
              "iPhone XS Max  2018-09-21    6.5    4GB  iOS 12.0     Yes"
            ]
          },
          "metadata": {
            "tags": []
          },
          "execution_count": 8
        }
      ]
    },
    {
      "cell_type": "code",
      "metadata": {
        "colab": {
          "base_uri": "https://localhost:8080/"
        },
        "id": "mv7uIym5EOm4",
        "outputId": "f6873dfb-c3fd-414b-f695-6f18669ff58d"
      },
      "source": [
        "iphone_df.loc['iPhone 8']"
      ],
      "execution_count": 9,
      "outputs": [
        {
          "output_type": "execute_result",
          "data": {
            "text/plain": [
              "출시일        2017-09-22\n",
              "디스플레이             4.7\n",
              "메모리             2.5GB\n",
              "출시 버전        ios 10.3\n",
              "Face ID            No\n",
              "Name: iPhone 8, dtype: object"
            ]
          },
          "metadata": {
            "tags": []
          },
          "execution_count": 9
        }
      ]
    },
    {
      "cell_type": "code",
      "metadata": {
        "colab": {
          "base_uri": "https://localhost:8080/"
        },
        "id": "hhcm4tVKEVAw",
        "outputId": "fed06c98-45ba-484b-fab9-a1d574145c62"
      },
      "source": [
        "iphone_df.loc['iPhone 8']=['2016-09-22','4.7','2GB','ios 11.0','No']\n",
        "iphone_df.loc['iPhone 8']"
      ],
      "execution_count": 12,
      "outputs": [
        {
          "output_type": "execute_result",
          "data": {
            "text/plain": [
              "출시일        2016-09-22\n",
              "디스플레이             4.7\n",
              "메모리               2GB\n",
              "출시 버전        ios 11.0\n",
              "Face ID            No\n",
              "Name: iPhone 8, dtype: object"
            ]
          },
          "metadata": {
            "tags": []
          },
          "execution_count": 12
        }
      ]
    },
    {
      "cell_type": "code",
      "metadata": {
        "colab": {
          "base_uri": "https://localhost:8080/"
        },
        "id": "XNRCSamNEnJI",
        "outputId": "3aa8532d-1f2d-415d-8ded-7f2ed11c8d4a"
      },
      "source": [
        "iphone_df['디스플레이']"
      ],
      "execution_count": 13,
      "outputs": [
        {
          "output_type": "execute_result",
          "data": {
            "text/plain": [
              "iPhone 7         4.7\n",
              "iPhone 7 Plus    5.5\n",
              "iPhone 8         4.7\n",
              "iPhone 8 Plus    5.5\n",
              "iPhone X         5.8\n",
              "iPhone XS        5.8\n",
              "iPhone XS Max    6.5\n",
              "Name: 디스플레이, dtype: object"
            ]
          },
          "metadata": {
            "tags": []
          },
          "execution_count": 13
        }
      ]
    },
    {
      "cell_type": "code",
      "metadata": {
        "id": "8zvtmimQErt4"
      },
      "source": [
        "iphone_df['디스플레이']=['4.7 in','5.5 in','4.7 in','5.5 in','5.8 in','5.8 in','6.5 in']"
      ],
      "execution_count": 15,
      "outputs": []
    },
    {
      "cell_type": "code",
      "metadata": {
        "colab": {
          "base_uri": "https://localhost:8080/",
          "height": 266
        },
        "id": "reknJ_QHE9Rn",
        "outputId": "aaed4028-0a16-49c5-b214-d88a5253fdaf"
      },
      "source": [
        "iphone_df"
      ],
      "execution_count": 16,
      "outputs": [
        {
          "output_type": "execute_result",
          "data": {
            "text/html": [
              "<div>\n",
              "<style scoped>\n",
              "    .dataframe tbody tr th:only-of-type {\n",
              "        vertical-align: middle;\n",
              "    }\n",
              "\n",
              "    .dataframe tbody tr th {\n",
              "        vertical-align: top;\n",
              "    }\n",
              "\n",
              "    .dataframe thead th {\n",
              "        text-align: right;\n",
              "    }\n",
              "</style>\n",
              "<table border=\"1\" class=\"dataframe\">\n",
              "  <thead>\n",
              "    <tr style=\"text-align: right;\">\n",
              "      <th></th>\n",
              "      <th>출시일</th>\n",
              "      <th>디스플레이</th>\n",
              "      <th>메모리</th>\n",
              "      <th>출시 버전</th>\n",
              "      <th>Face ID</th>\n",
              "    </tr>\n",
              "  </thead>\n",
              "  <tbody>\n",
              "    <tr>\n",
              "      <th>iPhone 7</th>\n",
              "      <td>2016-09-16</td>\n",
              "      <td>4.7 in</td>\n",
              "      <td>2GB</td>\n",
              "      <td>iOS 10.0</td>\n",
              "      <td>No</td>\n",
              "    </tr>\n",
              "    <tr>\n",
              "      <th>iPhone 7 Plus</th>\n",
              "      <td>2016-09-16</td>\n",
              "      <td>5.5 in</td>\n",
              "      <td>3GB</td>\n",
              "      <td>iOS 10.0</td>\n",
              "      <td>No</td>\n",
              "    </tr>\n",
              "    <tr>\n",
              "      <th>iPhone 8</th>\n",
              "      <td>2016-09-22</td>\n",
              "      <td>4.7 in</td>\n",
              "      <td>2GB</td>\n",
              "      <td>ios 11.0</td>\n",
              "      <td>No</td>\n",
              "    </tr>\n",
              "    <tr>\n",
              "      <th>iPhone 8 Plus</th>\n",
              "      <td>2017-09-22</td>\n",
              "      <td>5.5 in</td>\n",
              "      <td>3GB</td>\n",
              "      <td>iOS 11.0</td>\n",
              "      <td>No</td>\n",
              "    </tr>\n",
              "    <tr>\n",
              "      <th>iPhone X</th>\n",
              "      <td>2017-11-03</td>\n",
              "      <td>5.8 in</td>\n",
              "      <td>3GB</td>\n",
              "      <td>iOS 11.1</td>\n",
              "      <td>Yes</td>\n",
              "    </tr>\n",
              "    <tr>\n",
              "      <th>iPhone XS</th>\n",
              "      <td>2018-09-21</td>\n",
              "      <td>5.8 in</td>\n",
              "      <td>4GB</td>\n",
              "      <td>iOS 12.0</td>\n",
              "      <td>Yes</td>\n",
              "    </tr>\n",
              "    <tr>\n",
              "      <th>iPhone XS Max</th>\n",
              "      <td>2018-09-21</td>\n",
              "      <td>6.5 in</td>\n",
              "      <td>4GB</td>\n",
              "      <td>iOS 12.0</td>\n",
              "      <td>Yes</td>\n",
              "    </tr>\n",
              "  </tbody>\n",
              "</table>\n",
              "</div>"
            ],
            "text/plain": [
              "                      출시일   디스플레이  메모리     출시 버전 Face ID\n",
              "iPhone 7       2016-09-16  4.7 in  2GB  iOS 10.0      No\n",
              "iPhone 7 Plus  2016-09-16  5.5 in  3GB  iOS 10.0      No\n",
              "iPhone 8       2016-09-22  4.7 in  2GB  ios 11.0      No\n",
              "iPhone 8 Plus  2017-09-22  5.5 in  3GB  iOS 11.0      No\n",
              "iPhone X       2017-11-03  5.8 in  3GB  iOS 11.1     Yes\n",
              "iPhone XS      2018-09-21  5.8 in  4GB  iOS 12.0     Yes\n",
              "iPhone XS Max  2018-09-21  6.5 in  4GB  iOS 12.0     Yes"
            ]
          },
          "metadata": {
            "tags": []
          },
          "execution_count": 16
        }
      ]
    },
    {
      "cell_type": "code",
      "metadata": {
        "colab": {
          "base_uri": "https://localhost:8080/",
          "height": 266
        },
        "id": "vUEoNHMfFECH",
        "outputId": "078c816f-954c-4d58-8d68-cad57ab77763"
      },
      "source": [
        "iphone_df['Face ID']=['No','No','No','No','No','No','No']\n",
        "iphone_df"
      ],
      "execution_count": 18,
      "outputs": [
        {
          "output_type": "execute_result",
          "data": {
            "text/html": [
              "<div>\n",
              "<style scoped>\n",
              "    .dataframe tbody tr th:only-of-type {\n",
              "        vertical-align: middle;\n",
              "    }\n",
              "\n",
              "    .dataframe tbody tr th {\n",
              "        vertical-align: top;\n",
              "    }\n",
              "\n",
              "    .dataframe thead th {\n",
              "        text-align: right;\n",
              "    }\n",
              "</style>\n",
              "<table border=\"1\" class=\"dataframe\">\n",
              "  <thead>\n",
              "    <tr style=\"text-align: right;\">\n",
              "      <th></th>\n",
              "      <th>출시일</th>\n",
              "      <th>디스플레이</th>\n",
              "      <th>메모리</th>\n",
              "      <th>출시 버전</th>\n",
              "      <th>Face ID</th>\n",
              "    </tr>\n",
              "  </thead>\n",
              "  <tbody>\n",
              "    <tr>\n",
              "      <th>iPhone 7</th>\n",
              "      <td>2016-09-16</td>\n",
              "      <td>4.7 in</td>\n",
              "      <td>2GB</td>\n",
              "      <td>iOS 10.0</td>\n",
              "      <td>No</td>\n",
              "    </tr>\n",
              "    <tr>\n",
              "      <th>iPhone 7 Plus</th>\n",
              "      <td>2016-09-16</td>\n",
              "      <td>5.5 in</td>\n",
              "      <td>3GB</td>\n",
              "      <td>iOS 10.0</td>\n",
              "      <td>No</td>\n",
              "    </tr>\n",
              "    <tr>\n",
              "      <th>iPhone 8</th>\n",
              "      <td>2016-09-22</td>\n",
              "      <td>4.7 in</td>\n",
              "      <td>2GB</td>\n",
              "      <td>ios 11.0</td>\n",
              "      <td>No</td>\n",
              "    </tr>\n",
              "    <tr>\n",
              "      <th>iPhone 8 Plus</th>\n",
              "      <td>2017-09-22</td>\n",
              "      <td>5.5 in</td>\n",
              "      <td>3GB</td>\n",
              "      <td>iOS 11.0</td>\n",
              "      <td>No</td>\n",
              "    </tr>\n",
              "    <tr>\n",
              "      <th>iPhone X</th>\n",
              "      <td>2017-11-03</td>\n",
              "      <td>5.8 in</td>\n",
              "      <td>3GB</td>\n",
              "      <td>iOS 11.1</td>\n",
              "      <td>No</td>\n",
              "    </tr>\n",
              "    <tr>\n",
              "      <th>iPhone XS</th>\n",
              "      <td>2018-09-21</td>\n",
              "      <td>5.8 in</td>\n",
              "      <td>4GB</td>\n",
              "      <td>iOS 12.0</td>\n",
              "      <td>No</td>\n",
              "    </tr>\n",
              "    <tr>\n",
              "      <th>iPhone XS Max</th>\n",
              "      <td>2018-09-21</td>\n",
              "      <td>6.5 in</td>\n",
              "      <td>4GB</td>\n",
              "      <td>iOS 12.0</td>\n",
              "      <td>No</td>\n",
              "    </tr>\n",
              "  </tbody>\n",
              "</table>\n",
              "</div>"
            ],
            "text/plain": [
              "                      출시일   디스플레이  메모리     출시 버전 Face ID\n",
              "iPhone 7       2016-09-16  4.7 in  2GB  iOS 10.0      No\n",
              "iPhone 7 Plus  2016-09-16  5.5 in  3GB  iOS 10.0      No\n",
              "iPhone 8       2016-09-22  4.7 in  2GB  ios 11.0      No\n",
              "iPhone 8 Plus  2017-09-22  5.5 in  3GB  iOS 11.0      No\n",
              "iPhone X       2017-11-03  5.8 in  3GB  iOS 11.1      No\n",
              "iPhone XS      2018-09-21  5.8 in  4GB  iOS 12.0      No\n",
              "iPhone XS Max  2018-09-21  6.5 in  4GB  iOS 12.0      No"
            ]
          },
          "metadata": {
            "tags": []
          },
          "execution_count": 18
        }
      ]
    },
    {
      "cell_type": "code",
      "metadata": {
        "colab": {
          "base_uri": "https://localhost:8080/",
          "height": 266
        },
        "id": "PmM45LdzFR1n",
        "outputId": "9e8b8815-bfe0-4ed3-e85a-5a5192a9cc36"
      },
      "source": [
        "iphone_df['Face ID']='Yes'\n",
        "iphone_df"
      ],
      "execution_count": 19,
      "outputs": [
        {
          "output_type": "execute_result",
          "data": {
            "text/html": [
              "<div>\n",
              "<style scoped>\n",
              "    .dataframe tbody tr th:only-of-type {\n",
              "        vertical-align: middle;\n",
              "    }\n",
              "\n",
              "    .dataframe tbody tr th {\n",
              "        vertical-align: top;\n",
              "    }\n",
              "\n",
              "    .dataframe thead th {\n",
              "        text-align: right;\n",
              "    }\n",
              "</style>\n",
              "<table border=\"1\" class=\"dataframe\">\n",
              "  <thead>\n",
              "    <tr style=\"text-align: right;\">\n",
              "      <th></th>\n",
              "      <th>출시일</th>\n",
              "      <th>디스플레이</th>\n",
              "      <th>메모리</th>\n",
              "      <th>출시 버전</th>\n",
              "      <th>Face ID</th>\n",
              "    </tr>\n",
              "  </thead>\n",
              "  <tbody>\n",
              "    <tr>\n",
              "      <th>iPhone 7</th>\n",
              "      <td>2016-09-16</td>\n",
              "      <td>4.7 in</td>\n",
              "      <td>2GB</td>\n",
              "      <td>iOS 10.0</td>\n",
              "      <td>Yes</td>\n",
              "    </tr>\n",
              "    <tr>\n",
              "      <th>iPhone 7 Plus</th>\n",
              "      <td>2016-09-16</td>\n",
              "      <td>5.5 in</td>\n",
              "      <td>3GB</td>\n",
              "      <td>iOS 10.0</td>\n",
              "      <td>Yes</td>\n",
              "    </tr>\n",
              "    <tr>\n",
              "      <th>iPhone 8</th>\n",
              "      <td>2016-09-22</td>\n",
              "      <td>4.7 in</td>\n",
              "      <td>2GB</td>\n",
              "      <td>ios 11.0</td>\n",
              "      <td>Yes</td>\n",
              "    </tr>\n",
              "    <tr>\n",
              "      <th>iPhone 8 Plus</th>\n",
              "      <td>2017-09-22</td>\n",
              "      <td>5.5 in</td>\n",
              "      <td>3GB</td>\n",
              "      <td>iOS 11.0</td>\n",
              "      <td>Yes</td>\n",
              "    </tr>\n",
              "    <tr>\n",
              "      <th>iPhone X</th>\n",
              "      <td>2017-11-03</td>\n",
              "      <td>5.8 in</td>\n",
              "      <td>3GB</td>\n",
              "      <td>iOS 11.1</td>\n",
              "      <td>Yes</td>\n",
              "    </tr>\n",
              "    <tr>\n",
              "      <th>iPhone XS</th>\n",
              "      <td>2018-09-21</td>\n",
              "      <td>5.8 in</td>\n",
              "      <td>4GB</td>\n",
              "      <td>iOS 12.0</td>\n",
              "      <td>Yes</td>\n",
              "    </tr>\n",
              "    <tr>\n",
              "      <th>iPhone XS Max</th>\n",
              "      <td>2018-09-21</td>\n",
              "      <td>6.5 in</td>\n",
              "      <td>4GB</td>\n",
              "      <td>iOS 12.0</td>\n",
              "      <td>Yes</td>\n",
              "    </tr>\n",
              "  </tbody>\n",
              "</table>\n",
              "</div>"
            ],
            "text/plain": [
              "                      출시일   디스플레이  메모리     출시 버전 Face ID\n",
              "iPhone 7       2016-09-16  4.7 in  2GB  iOS 10.0     Yes\n",
              "iPhone 7 Plus  2016-09-16  5.5 in  3GB  iOS 10.0     Yes\n",
              "iPhone 8       2016-09-22  4.7 in  2GB  ios 11.0     Yes\n",
              "iPhone 8 Plus  2017-09-22  5.5 in  3GB  iOS 11.0     Yes\n",
              "iPhone X       2017-11-03  5.8 in  3GB  iOS 11.1     Yes\n",
              "iPhone XS      2018-09-21  5.8 in  4GB  iOS 12.0     Yes\n",
              "iPhone XS Max  2018-09-21  6.5 in  4GB  iOS 12.0     Yes"
            ]
          },
          "metadata": {
            "tags": []
          },
          "execution_count": 19
        }
      ]
    },
    {
      "cell_type": "markdown",
      "metadata": {
        "id": "F03hpiX0FhAA"
      },
      "source": [
        "여러 줄 한번에 바꾸기"
      ]
    },
    {
      "cell_type": "code",
      "metadata": {
        "colab": {
          "base_uri": "https://localhost:8080/",
          "height": 266
        },
        "id": "1tSYsiZOFixA",
        "outputId": "36cd2ea4-e467-4c83-8302-76c8b71fb249"
      },
      "source": [
        "iphone_df[['디스플레이','Face ID']]"
      ],
      "execution_count": 20,
      "outputs": [
        {
          "output_type": "execute_result",
          "data": {
            "text/html": [
              "<div>\n",
              "<style scoped>\n",
              "    .dataframe tbody tr th:only-of-type {\n",
              "        vertical-align: middle;\n",
              "    }\n",
              "\n",
              "    .dataframe tbody tr th {\n",
              "        vertical-align: top;\n",
              "    }\n",
              "\n",
              "    .dataframe thead th {\n",
              "        text-align: right;\n",
              "    }\n",
              "</style>\n",
              "<table border=\"1\" class=\"dataframe\">\n",
              "  <thead>\n",
              "    <tr style=\"text-align: right;\">\n",
              "      <th></th>\n",
              "      <th>디스플레이</th>\n",
              "      <th>Face ID</th>\n",
              "    </tr>\n",
              "  </thead>\n",
              "  <tbody>\n",
              "    <tr>\n",
              "      <th>iPhone 7</th>\n",
              "      <td>4.7 in</td>\n",
              "      <td>Yes</td>\n",
              "    </tr>\n",
              "    <tr>\n",
              "      <th>iPhone 7 Plus</th>\n",
              "      <td>5.5 in</td>\n",
              "      <td>Yes</td>\n",
              "    </tr>\n",
              "    <tr>\n",
              "      <th>iPhone 8</th>\n",
              "      <td>4.7 in</td>\n",
              "      <td>Yes</td>\n",
              "    </tr>\n",
              "    <tr>\n",
              "      <th>iPhone 8 Plus</th>\n",
              "      <td>5.5 in</td>\n",
              "      <td>Yes</td>\n",
              "    </tr>\n",
              "    <tr>\n",
              "      <th>iPhone X</th>\n",
              "      <td>5.8 in</td>\n",
              "      <td>Yes</td>\n",
              "    </tr>\n",
              "    <tr>\n",
              "      <th>iPhone XS</th>\n",
              "      <td>5.8 in</td>\n",
              "      <td>Yes</td>\n",
              "    </tr>\n",
              "    <tr>\n",
              "      <th>iPhone XS Max</th>\n",
              "      <td>6.5 in</td>\n",
              "      <td>Yes</td>\n",
              "    </tr>\n",
              "  </tbody>\n",
              "</table>\n",
              "</div>"
            ],
            "text/plain": [
              "                디스플레이 Face ID\n",
              "iPhone 7       4.7 in     Yes\n",
              "iPhone 7 Plus  5.5 in     Yes\n",
              "iPhone 8       4.7 in     Yes\n",
              "iPhone 8 Plus  5.5 in     Yes\n",
              "iPhone X       5.8 in     Yes\n",
              "iPhone XS      5.8 in     Yes\n",
              "iPhone XS Max  6.5 in     Yes"
            ]
          },
          "metadata": {
            "tags": []
          },
          "execution_count": 20
        }
      ]
    },
    {
      "cell_type": "code",
      "metadata": {
        "colab": {
          "base_uri": "https://localhost:8080/",
          "height": 266
        },
        "id": "mQJdPUj9FrE4",
        "outputId": "4986f121-dd79-45e3-d0da-8fd9522517c0"
      },
      "source": [
        "iphone_df[['디스플레이','Face ID']]='x'\n",
        "iphone_df"
      ],
      "execution_count": 21,
      "outputs": [
        {
          "output_type": "execute_result",
          "data": {
            "text/html": [
              "<div>\n",
              "<style scoped>\n",
              "    .dataframe tbody tr th:only-of-type {\n",
              "        vertical-align: middle;\n",
              "    }\n",
              "\n",
              "    .dataframe tbody tr th {\n",
              "        vertical-align: top;\n",
              "    }\n",
              "\n",
              "    .dataframe thead th {\n",
              "        text-align: right;\n",
              "    }\n",
              "</style>\n",
              "<table border=\"1\" class=\"dataframe\">\n",
              "  <thead>\n",
              "    <tr style=\"text-align: right;\">\n",
              "      <th></th>\n",
              "      <th>출시일</th>\n",
              "      <th>디스플레이</th>\n",
              "      <th>메모리</th>\n",
              "      <th>출시 버전</th>\n",
              "      <th>Face ID</th>\n",
              "    </tr>\n",
              "  </thead>\n",
              "  <tbody>\n",
              "    <tr>\n",
              "      <th>iPhone 7</th>\n",
              "      <td>2016-09-16</td>\n",
              "      <td>x</td>\n",
              "      <td>2GB</td>\n",
              "      <td>iOS 10.0</td>\n",
              "      <td>x</td>\n",
              "    </tr>\n",
              "    <tr>\n",
              "      <th>iPhone 7 Plus</th>\n",
              "      <td>2016-09-16</td>\n",
              "      <td>x</td>\n",
              "      <td>3GB</td>\n",
              "      <td>iOS 10.0</td>\n",
              "      <td>x</td>\n",
              "    </tr>\n",
              "    <tr>\n",
              "      <th>iPhone 8</th>\n",
              "      <td>2016-09-22</td>\n",
              "      <td>x</td>\n",
              "      <td>2GB</td>\n",
              "      <td>ios 11.0</td>\n",
              "      <td>x</td>\n",
              "    </tr>\n",
              "    <tr>\n",
              "      <th>iPhone 8 Plus</th>\n",
              "      <td>2017-09-22</td>\n",
              "      <td>x</td>\n",
              "      <td>3GB</td>\n",
              "      <td>iOS 11.0</td>\n",
              "      <td>x</td>\n",
              "    </tr>\n",
              "    <tr>\n",
              "      <th>iPhone X</th>\n",
              "      <td>2017-11-03</td>\n",
              "      <td>x</td>\n",
              "      <td>3GB</td>\n",
              "      <td>iOS 11.1</td>\n",
              "      <td>x</td>\n",
              "    </tr>\n",
              "    <tr>\n",
              "      <th>iPhone XS</th>\n",
              "      <td>2018-09-21</td>\n",
              "      <td>x</td>\n",
              "      <td>4GB</td>\n",
              "      <td>iOS 12.0</td>\n",
              "      <td>x</td>\n",
              "    </tr>\n",
              "    <tr>\n",
              "      <th>iPhone XS Max</th>\n",
              "      <td>2018-09-21</td>\n",
              "      <td>x</td>\n",
              "      <td>4GB</td>\n",
              "      <td>iOS 12.0</td>\n",
              "      <td>x</td>\n",
              "    </tr>\n",
              "  </tbody>\n",
              "</table>\n",
              "</div>"
            ],
            "text/plain": [
              "                      출시일 디스플레이  메모리     출시 버전 Face ID\n",
              "iPhone 7       2016-09-16     x  2GB  iOS 10.0       x\n",
              "iPhone 7 Plus  2016-09-16     x  3GB  iOS 10.0       x\n",
              "iPhone 8       2016-09-22     x  2GB  ios 11.0       x\n",
              "iPhone 8 Plus  2017-09-22     x  3GB  iOS 11.0       x\n",
              "iPhone X       2017-11-03     x  3GB  iOS 11.1       x\n",
              "iPhone XS      2018-09-21     x  4GB  iOS 12.0       x\n",
              "iPhone XS Max  2018-09-21     x  4GB  iOS 12.0       x"
            ]
          },
          "metadata": {
            "tags": []
          },
          "execution_count": 21
        }
      ]
    },
    {
      "cell_type": "code",
      "metadata": {
        "colab": {
          "base_uri": "https://localhost:8080/",
          "height": 111
        },
        "id": "RqvJUaqNFubw",
        "outputId": "61ef0faa-761c-48b8-e5f0-80e34cee9c07"
      },
      "source": [
        "iphone_df.loc[['iPhone 7','iPhone X']]"
      ],
      "execution_count": 22,
      "outputs": [
        {
          "output_type": "execute_result",
          "data": {
            "text/html": [
              "<div>\n",
              "<style scoped>\n",
              "    .dataframe tbody tr th:only-of-type {\n",
              "        vertical-align: middle;\n",
              "    }\n",
              "\n",
              "    .dataframe tbody tr th {\n",
              "        vertical-align: top;\n",
              "    }\n",
              "\n",
              "    .dataframe thead th {\n",
              "        text-align: right;\n",
              "    }\n",
              "</style>\n",
              "<table border=\"1\" class=\"dataframe\">\n",
              "  <thead>\n",
              "    <tr style=\"text-align: right;\">\n",
              "      <th></th>\n",
              "      <th>출시일</th>\n",
              "      <th>디스플레이</th>\n",
              "      <th>메모리</th>\n",
              "      <th>출시 버전</th>\n",
              "      <th>Face ID</th>\n",
              "    </tr>\n",
              "  </thead>\n",
              "  <tbody>\n",
              "    <tr>\n",
              "      <th>iPhone 7</th>\n",
              "      <td>2016-09-16</td>\n",
              "      <td>x</td>\n",
              "      <td>2GB</td>\n",
              "      <td>iOS 10.0</td>\n",
              "      <td>x</td>\n",
              "    </tr>\n",
              "    <tr>\n",
              "      <th>iPhone X</th>\n",
              "      <td>2017-11-03</td>\n",
              "      <td>x</td>\n",
              "      <td>3GB</td>\n",
              "      <td>iOS 11.1</td>\n",
              "      <td>x</td>\n",
              "    </tr>\n",
              "  </tbody>\n",
              "</table>\n",
              "</div>"
            ],
            "text/plain": [
              "                 출시일 디스플레이  메모리     출시 버전 Face ID\n",
              "iPhone 7  2016-09-16     x  2GB  iOS 10.0       x\n",
              "iPhone X  2017-11-03     x  3GB  iOS 11.1       x"
            ]
          },
          "metadata": {
            "tags": []
          },
          "execution_count": 22
        }
      ]
    },
    {
      "cell_type": "code",
      "metadata": {
        "colab": {
          "base_uri": "https://localhost:8080/",
          "height": 266
        },
        "id": "NjyR25w6F3JR",
        "outputId": "ed03f211-ffae-475c-f2bb-44f37781a720"
      },
      "source": [
        "iphone_df.loc[['iPhone 7','iPhone X']] ='o'\n",
        "iphone_df"
      ],
      "execution_count": 23,
      "outputs": [
        {
          "output_type": "execute_result",
          "data": {
            "text/html": [
              "<div>\n",
              "<style scoped>\n",
              "    .dataframe tbody tr th:only-of-type {\n",
              "        vertical-align: middle;\n",
              "    }\n",
              "\n",
              "    .dataframe tbody tr th {\n",
              "        vertical-align: top;\n",
              "    }\n",
              "\n",
              "    .dataframe thead th {\n",
              "        text-align: right;\n",
              "    }\n",
              "</style>\n",
              "<table border=\"1\" class=\"dataframe\">\n",
              "  <thead>\n",
              "    <tr style=\"text-align: right;\">\n",
              "      <th></th>\n",
              "      <th>출시일</th>\n",
              "      <th>디스플레이</th>\n",
              "      <th>메모리</th>\n",
              "      <th>출시 버전</th>\n",
              "      <th>Face ID</th>\n",
              "    </tr>\n",
              "  </thead>\n",
              "  <tbody>\n",
              "    <tr>\n",
              "      <th>iPhone 7</th>\n",
              "      <td>o</td>\n",
              "      <td>o</td>\n",
              "      <td>o</td>\n",
              "      <td>o</td>\n",
              "      <td>o</td>\n",
              "    </tr>\n",
              "    <tr>\n",
              "      <th>iPhone 7 Plus</th>\n",
              "      <td>2016-09-16</td>\n",
              "      <td>x</td>\n",
              "      <td>3GB</td>\n",
              "      <td>iOS 10.0</td>\n",
              "      <td>x</td>\n",
              "    </tr>\n",
              "    <tr>\n",
              "      <th>iPhone 8</th>\n",
              "      <td>2016-09-22</td>\n",
              "      <td>x</td>\n",
              "      <td>2GB</td>\n",
              "      <td>ios 11.0</td>\n",
              "      <td>x</td>\n",
              "    </tr>\n",
              "    <tr>\n",
              "      <th>iPhone 8 Plus</th>\n",
              "      <td>2017-09-22</td>\n",
              "      <td>x</td>\n",
              "      <td>3GB</td>\n",
              "      <td>iOS 11.0</td>\n",
              "      <td>x</td>\n",
              "    </tr>\n",
              "    <tr>\n",
              "      <th>iPhone X</th>\n",
              "      <td>o</td>\n",
              "      <td>o</td>\n",
              "      <td>o</td>\n",
              "      <td>o</td>\n",
              "      <td>o</td>\n",
              "    </tr>\n",
              "    <tr>\n",
              "      <th>iPhone XS</th>\n",
              "      <td>2018-09-21</td>\n",
              "      <td>x</td>\n",
              "      <td>4GB</td>\n",
              "      <td>iOS 12.0</td>\n",
              "      <td>x</td>\n",
              "    </tr>\n",
              "    <tr>\n",
              "      <th>iPhone XS Max</th>\n",
              "      <td>2018-09-21</td>\n",
              "      <td>x</td>\n",
              "      <td>4GB</td>\n",
              "      <td>iOS 12.0</td>\n",
              "      <td>x</td>\n",
              "    </tr>\n",
              "  </tbody>\n",
              "</table>\n",
              "</div>"
            ],
            "text/plain": [
              "                      출시일 디스플레이  메모리     출시 버전 Face ID\n",
              "iPhone 7                o     o    o         o       o\n",
              "iPhone 7 Plus  2016-09-16     x  3GB  iOS 10.0       x\n",
              "iPhone 8       2016-09-22     x  2GB  ios 11.0       x\n",
              "iPhone 8 Plus  2017-09-22     x  3GB  iOS 11.0       x\n",
              "iPhone X                o     o    o         o       o\n",
              "iPhone XS      2018-09-21     x  4GB  iOS 12.0       x\n",
              "iPhone XS Max  2018-09-21     x  4GB  iOS 12.0       x"
            ]
          },
          "metadata": {
            "tags": []
          },
          "execution_count": 23
        }
      ]
    },
    {
      "cell_type": "code",
      "metadata": {
        "colab": {
          "base_uri": "https://localhost:8080/",
          "height": 204
        },
        "id": "H1F1jtuUF8eH",
        "outputId": "7f001ee1-caf2-4772-834d-afed88e32d28"
      },
      "source": [
        "iphone_df.loc['iPhone 7':'iPhone X']"
      ],
      "execution_count": 24,
      "outputs": [
        {
          "output_type": "execute_result",
          "data": {
            "text/html": [
              "<div>\n",
              "<style scoped>\n",
              "    .dataframe tbody tr th:only-of-type {\n",
              "        vertical-align: middle;\n",
              "    }\n",
              "\n",
              "    .dataframe tbody tr th {\n",
              "        vertical-align: top;\n",
              "    }\n",
              "\n",
              "    .dataframe thead th {\n",
              "        text-align: right;\n",
              "    }\n",
              "</style>\n",
              "<table border=\"1\" class=\"dataframe\">\n",
              "  <thead>\n",
              "    <tr style=\"text-align: right;\">\n",
              "      <th></th>\n",
              "      <th>출시일</th>\n",
              "      <th>디스플레이</th>\n",
              "      <th>메모리</th>\n",
              "      <th>출시 버전</th>\n",
              "      <th>Face ID</th>\n",
              "    </tr>\n",
              "  </thead>\n",
              "  <tbody>\n",
              "    <tr>\n",
              "      <th>iPhone 7</th>\n",
              "      <td>o</td>\n",
              "      <td>o</td>\n",
              "      <td>o</td>\n",
              "      <td>o</td>\n",
              "      <td>o</td>\n",
              "    </tr>\n",
              "    <tr>\n",
              "      <th>iPhone 7 Plus</th>\n",
              "      <td>2016-09-16</td>\n",
              "      <td>x</td>\n",
              "      <td>3GB</td>\n",
              "      <td>iOS 10.0</td>\n",
              "      <td>x</td>\n",
              "    </tr>\n",
              "    <tr>\n",
              "      <th>iPhone 8</th>\n",
              "      <td>2016-09-22</td>\n",
              "      <td>x</td>\n",
              "      <td>2GB</td>\n",
              "      <td>ios 11.0</td>\n",
              "      <td>x</td>\n",
              "    </tr>\n",
              "    <tr>\n",
              "      <th>iPhone 8 Plus</th>\n",
              "      <td>2017-09-22</td>\n",
              "      <td>x</td>\n",
              "      <td>3GB</td>\n",
              "      <td>iOS 11.0</td>\n",
              "      <td>x</td>\n",
              "    </tr>\n",
              "    <tr>\n",
              "      <th>iPhone X</th>\n",
              "      <td>o</td>\n",
              "      <td>o</td>\n",
              "      <td>o</td>\n",
              "      <td>o</td>\n",
              "      <td>o</td>\n",
              "    </tr>\n",
              "  </tbody>\n",
              "</table>\n",
              "</div>"
            ],
            "text/plain": [
              "                      출시일 디스플레이  메모리     출시 버전 Face ID\n",
              "iPhone 7                o     o    o         o       o\n",
              "iPhone 7 Plus  2016-09-16     x  3GB  iOS 10.0       x\n",
              "iPhone 8       2016-09-22     x  2GB  ios 11.0       x\n",
              "iPhone 8 Plus  2017-09-22     x  3GB  iOS 11.0       x\n",
              "iPhone X                o     o    o         o       o"
            ]
          },
          "metadata": {
            "tags": []
          },
          "execution_count": 24
        }
      ]
    },
    {
      "cell_type": "code",
      "metadata": {
        "colab": {
          "base_uri": "https://localhost:8080/",
          "height": 266
        },
        "id": "E7XgdZHCGD03",
        "outputId": "3df537f1-dcba-4c9b-bf61-678556b3fad7"
      },
      "source": [
        "iphone_df.loc['iPhone 7':'iPhone X']='o'\n",
        "iphone_df"
      ],
      "execution_count": 25,
      "outputs": [
        {
          "output_type": "execute_result",
          "data": {
            "text/html": [
              "<div>\n",
              "<style scoped>\n",
              "    .dataframe tbody tr th:only-of-type {\n",
              "        vertical-align: middle;\n",
              "    }\n",
              "\n",
              "    .dataframe tbody tr th {\n",
              "        vertical-align: top;\n",
              "    }\n",
              "\n",
              "    .dataframe thead th {\n",
              "        text-align: right;\n",
              "    }\n",
              "</style>\n",
              "<table border=\"1\" class=\"dataframe\">\n",
              "  <thead>\n",
              "    <tr style=\"text-align: right;\">\n",
              "      <th></th>\n",
              "      <th>출시일</th>\n",
              "      <th>디스플레이</th>\n",
              "      <th>메모리</th>\n",
              "      <th>출시 버전</th>\n",
              "      <th>Face ID</th>\n",
              "    </tr>\n",
              "  </thead>\n",
              "  <tbody>\n",
              "    <tr>\n",
              "      <th>iPhone 7</th>\n",
              "      <td>o</td>\n",
              "      <td>o</td>\n",
              "      <td>o</td>\n",
              "      <td>o</td>\n",
              "      <td>o</td>\n",
              "    </tr>\n",
              "    <tr>\n",
              "      <th>iPhone 7 Plus</th>\n",
              "      <td>o</td>\n",
              "      <td>o</td>\n",
              "      <td>o</td>\n",
              "      <td>o</td>\n",
              "      <td>o</td>\n",
              "    </tr>\n",
              "    <tr>\n",
              "      <th>iPhone 8</th>\n",
              "      <td>o</td>\n",
              "      <td>o</td>\n",
              "      <td>o</td>\n",
              "      <td>o</td>\n",
              "      <td>o</td>\n",
              "    </tr>\n",
              "    <tr>\n",
              "      <th>iPhone 8 Plus</th>\n",
              "      <td>o</td>\n",
              "      <td>o</td>\n",
              "      <td>o</td>\n",
              "      <td>o</td>\n",
              "      <td>o</td>\n",
              "    </tr>\n",
              "    <tr>\n",
              "      <th>iPhone X</th>\n",
              "      <td>o</td>\n",
              "      <td>o</td>\n",
              "      <td>o</td>\n",
              "      <td>o</td>\n",
              "      <td>o</td>\n",
              "    </tr>\n",
              "    <tr>\n",
              "      <th>iPhone XS</th>\n",
              "      <td>2018-09-21</td>\n",
              "      <td>x</td>\n",
              "      <td>4GB</td>\n",
              "      <td>iOS 12.0</td>\n",
              "      <td>x</td>\n",
              "    </tr>\n",
              "    <tr>\n",
              "      <th>iPhone XS Max</th>\n",
              "      <td>2018-09-21</td>\n",
              "      <td>x</td>\n",
              "      <td>4GB</td>\n",
              "      <td>iOS 12.0</td>\n",
              "      <td>x</td>\n",
              "    </tr>\n",
              "  </tbody>\n",
              "</table>\n",
              "</div>"
            ],
            "text/plain": [
              "                      출시일 디스플레이  메모리     출시 버전 Face ID\n",
              "iPhone 7                o     o    o         o       o\n",
              "iPhone 7 Plus           o     o    o         o       o\n",
              "iPhone 8                o     o    o         o       o\n",
              "iPhone 8 Plus           o     o    o         o       o\n",
              "iPhone X                o     o    o         o       o\n",
              "iPhone XS      2018-09-21     x  4GB  iOS 12.0       x\n",
              "iPhone XS Max  2018-09-21     x  4GB  iOS 12.0       x"
            ]
          },
          "metadata": {
            "tags": []
          },
          "execution_count": 25
        }
      ]
    },
    {
      "cell_type": "markdown",
      "metadata": {
        "id": "0-E5h8AmGwLp"
      },
      "source": [
        "\n",
        "\n",
        "---\n",
        "\n"
      ]
    },
    {
      "cell_type": "code",
      "metadata": {
        "colab": {
          "base_uri": "https://localhost:8080/",
          "height": 266
        },
        "id": "JAgAQjz9GPzI",
        "outputId": "e3465a0a-162a-430d-8403-bb46a12a1fd3"
      },
      "source": [
        "import pandas as pd\n",
        "iphone_df=pd.read_csv('/content/drive/MyDrive/iphone.csv',index_col=0)\n",
        "iphone_df"
      ],
      "execution_count": 26,
      "outputs": [
        {
          "output_type": "execute_result",
          "data": {
            "text/html": [
              "<div>\n",
              "<style scoped>\n",
              "    .dataframe tbody tr th:only-of-type {\n",
              "        vertical-align: middle;\n",
              "    }\n",
              "\n",
              "    .dataframe tbody tr th {\n",
              "        vertical-align: top;\n",
              "    }\n",
              "\n",
              "    .dataframe thead th {\n",
              "        text-align: right;\n",
              "    }\n",
              "</style>\n",
              "<table border=\"1\" class=\"dataframe\">\n",
              "  <thead>\n",
              "    <tr style=\"text-align: right;\">\n",
              "      <th></th>\n",
              "      <th>출시일</th>\n",
              "      <th>디스플레이</th>\n",
              "      <th>메모리</th>\n",
              "      <th>출시 버전</th>\n",
              "      <th>Face ID</th>\n",
              "    </tr>\n",
              "  </thead>\n",
              "  <tbody>\n",
              "    <tr>\n",
              "      <th>iPhone 7</th>\n",
              "      <td>2016-09-16</td>\n",
              "      <td>4.7</td>\n",
              "      <td>2GB</td>\n",
              "      <td>iOS 10.0</td>\n",
              "      <td>No</td>\n",
              "    </tr>\n",
              "    <tr>\n",
              "      <th>iPhone 7 Plus</th>\n",
              "      <td>2016-09-16</td>\n",
              "      <td>5.5</td>\n",
              "      <td>3GB</td>\n",
              "      <td>iOS 10.0</td>\n",
              "      <td>No</td>\n",
              "    </tr>\n",
              "    <tr>\n",
              "      <th>iPhone 8</th>\n",
              "      <td>2017-09-22</td>\n",
              "      <td>4.7</td>\n",
              "      <td>2GB</td>\n",
              "      <td>iOS 11.0</td>\n",
              "      <td>No</td>\n",
              "    </tr>\n",
              "    <tr>\n",
              "      <th>iPhone 8 Plus</th>\n",
              "      <td>2017-09-22</td>\n",
              "      <td>5.5</td>\n",
              "      <td>3GB</td>\n",
              "      <td>iOS 11.0</td>\n",
              "      <td>No</td>\n",
              "    </tr>\n",
              "    <tr>\n",
              "      <th>iPhone X</th>\n",
              "      <td>2017-11-03</td>\n",
              "      <td>5.8</td>\n",
              "      <td>3GB</td>\n",
              "      <td>iOS 11.1</td>\n",
              "      <td>Yes</td>\n",
              "    </tr>\n",
              "    <tr>\n",
              "      <th>iPhone XS</th>\n",
              "      <td>2018-09-21</td>\n",
              "      <td>5.8</td>\n",
              "      <td>4GB</td>\n",
              "      <td>iOS 12.0</td>\n",
              "      <td>Yes</td>\n",
              "    </tr>\n",
              "    <tr>\n",
              "      <th>iPhone XS Max</th>\n",
              "      <td>2018-09-21</td>\n",
              "      <td>6.5</td>\n",
              "      <td>4GB</td>\n",
              "      <td>iOS 12.0</td>\n",
              "      <td>Yes</td>\n",
              "    </tr>\n",
              "  </tbody>\n",
              "</table>\n",
              "</div>"
            ],
            "text/plain": [
              "                      출시일  디스플레이  메모리     출시 버전 Face ID\n",
              "iPhone 7       2016-09-16    4.7  2GB  iOS 10.0      No\n",
              "iPhone 7 Plus  2016-09-16    5.5  3GB  iOS 10.0      No\n",
              "iPhone 8       2017-09-22    4.7  2GB  iOS 11.0      No\n",
              "iPhone 8 Plus  2017-09-22    5.5  3GB  iOS 11.0      No\n",
              "iPhone X       2017-11-03    5.8  3GB  iOS 11.1     Yes\n",
              "iPhone XS      2018-09-21    5.8  4GB  iOS 12.0     Yes\n",
              "iPhone XS Max  2018-09-21    6.5  4GB  iOS 12.0     Yes"
            ]
          },
          "metadata": {
            "tags": []
          },
          "execution_count": 26
        }
      ]
    },
    {
      "cell_type": "code",
      "metadata": {
        "colab": {
          "base_uri": "https://localhost:8080/"
        },
        "id": "-2CZBKXRGQ4Q",
        "outputId": "50ca09ff-e788-48a5-9336-a8a557d1fdaf"
      },
      "source": [
        "iphone_df['디스플레이']>5"
      ],
      "execution_count": 27,
      "outputs": [
        {
          "output_type": "execute_result",
          "data": {
            "text/plain": [
              "iPhone 7         False\n",
              "iPhone 7 Plus     True\n",
              "iPhone 8         False\n",
              "iPhone 8 Plus     True\n",
              "iPhone X          True\n",
              "iPhone XS         True\n",
              "iPhone XS Max     True\n",
              "Name: 디스플레이, dtype: bool"
            ]
          },
          "metadata": {
            "tags": []
          },
          "execution_count": 27
        }
      ]
    },
    {
      "cell_type": "code",
      "metadata": {
        "colab": {
          "base_uri": "https://localhost:8080/",
          "height": 204
        },
        "id": "sJyAwA02GWoH",
        "outputId": "e68af23a-0578-4700-f2e9-1423257adbe8"
      },
      "source": [
        "iphone_df.loc[iphone_df['디스플레이']>5]"
      ],
      "execution_count": 28,
      "outputs": [
        {
          "output_type": "execute_result",
          "data": {
            "text/html": [
              "<div>\n",
              "<style scoped>\n",
              "    .dataframe tbody tr th:only-of-type {\n",
              "        vertical-align: middle;\n",
              "    }\n",
              "\n",
              "    .dataframe tbody tr th {\n",
              "        vertical-align: top;\n",
              "    }\n",
              "\n",
              "    .dataframe thead th {\n",
              "        text-align: right;\n",
              "    }\n",
              "</style>\n",
              "<table border=\"1\" class=\"dataframe\">\n",
              "  <thead>\n",
              "    <tr style=\"text-align: right;\">\n",
              "      <th></th>\n",
              "      <th>출시일</th>\n",
              "      <th>디스플레이</th>\n",
              "      <th>메모리</th>\n",
              "      <th>출시 버전</th>\n",
              "      <th>Face ID</th>\n",
              "    </tr>\n",
              "  </thead>\n",
              "  <tbody>\n",
              "    <tr>\n",
              "      <th>iPhone 7 Plus</th>\n",
              "      <td>2016-09-16</td>\n",
              "      <td>5.5</td>\n",
              "      <td>3GB</td>\n",
              "      <td>iOS 10.0</td>\n",
              "      <td>No</td>\n",
              "    </tr>\n",
              "    <tr>\n",
              "      <th>iPhone 8 Plus</th>\n",
              "      <td>2017-09-22</td>\n",
              "      <td>5.5</td>\n",
              "      <td>3GB</td>\n",
              "      <td>iOS 11.0</td>\n",
              "      <td>No</td>\n",
              "    </tr>\n",
              "    <tr>\n",
              "      <th>iPhone X</th>\n",
              "      <td>2017-11-03</td>\n",
              "      <td>5.8</td>\n",
              "      <td>3GB</td>\n",
              "      <td>iOS 11.1</td>\n",
              "      <td>Yes</td>\n",
              "    </tr>\n",
              "    <tr>\n",
              "      <th>iPhone XS</th>\n",
              "      <td>2018-09-21</td>\n",
              "      <td>5.8</td>\n",
              "      <td>4GB</td>\n",
              "      <td>iOS 12.0</td>\n",
              "      <td>Yes</td>\n",
              "    </tr>\n",
              "    <tr>\n",
              "      <th>iPhone XS Max</th>\n",
              "      <td>2018-09-21</td>\n",
              "      <td>6.5</td>\n",
              "      <td>4GB</td>\n",
              "      <td>iOS 12.0</td>\n",
              "      <td>Yes</td>\n",
              "    </tr>\n",
              "  </tbody>\n",
              "</table>\n",
              "</div>"
            ],
            "text/plain": [
              "                      출시일  디스플레이  메모리     출시 버전 Face ID\n",
              "iPhone 7 Plus  2016-09-16    5.5  3GB  iOS 10.0      No\n",
              "iPhone 8 Plus  2017-09-22    5.5  3GB  iOS 11.0      No\n",
              "iPhone X       2017-11-03    5.8  3GB  iOS 11.1     Yes\n",
              "iPhone XS      2018-09-21    5.8  4GB  iOS 12.0     Yes\n",
              "iPhone XS Max  2018-09-21    6.5  4GB  iOS 12.0     Yes"
            ]
          },
          "metadata": {
            "tags": []
          },
          "execution_count": 28
        }
      ]
    },
    {
      "cell_type": "code",
      "metadata": {
        "colab": {
          "base_uri": "https://localhost:8080/",
          "height": 266
        },
        "id": "YHZ_3MDaGfPo",
        "outputId": "1e377336-e9f7-4661-bd50-bbefbdc4c6bb"
      },
      "source": [
        "iphone_df.loc[iphone_df['디스플레이']>5] = 'p'\n",
        "iphone_df"
      ],
      "execution_count": 29,
      "outputs": [
        {
          "output_type": "execute_result",
          "data": {
            "text/html": [
              "<div>\n",
              "<style scoped>\n",
              "    .dataframe tbody tr th:only-of-type {\n",
              "        vertical-align: middle;\n",
              "    }\n",
              "\n",
              "    .dataframe tbody tr th {\n",
              "        vertical-align: top;\n",
              "    }\n",
              "\n",
              "    .dataframe thead th {\n",
              "        text-align: right;\n",
              "    }\n",
              "</style>\n",
              "<table border=\"1\" class=\"dataframe\">\n",
              "  <thead>\n",
              "    <tr style=\"text-align: right;\">\n",
              "      <th></th>\n",
              "      <th>출시일</th>\n",
              "      <th>디스플레이</th>\n",
              "      <th>메모리</th>\n",
              "      <th>출시 버전</th>\n",
              "      <th>Face ID</th>\n",
              "    </tr>\n",
              "  </thead>\n",
              "  <tbody>\n",
              "    <tr>\n",
              "      <th>iPhone 7</th>\n",
              "      <td>2016-09-16</td>\n",
              "      <td>4.7</td>\n",
              "      <td>2GB</td>\n",
              "      <td>iOS 10.0</td>\n",
              "      <td>No</td>\n",
              "    </tr>\n",
              "    <tr>\n",
              "      <th>iPhone 7 Plus</th>\n",
              "      <td>p</td>\n",
              "      <td>p</td>\n",
              "      <td>p</td>\n",
              "      <td>p</td>\n",
              "      <td>p</td>\n",
              "    </tr>\n",
              "    <tr>\n",
              "      <th>iPhone 8</th>\n",
              "      <td>2017-09-22</td>\n",
              "      <td>4.7</td>\n",
              "      <td>2GB</td>\n",
              "      <td>iOS 11.0</td>\n",
              "      <td>No</td>\n",
              "    </tr>\n",
              "    <tr>\n",
              "      <th>iPhone 8 Plus</th>\n",
              "      <td>p</td>\n",
              "      <td>p</td>\n",
              "      <td>p</td>\n",
              "      <td>p</td>\n",
              "      <td>p</td>\n",
              "    </tr>\n",
              "    <tr>\n",
              "      <th>iPhone X</th>\n",
              "      <td>p</td>\n",
              "      <td>p</td>\n",
              "      <td>p</td>\n",
              "      <td>p</td>\n",
              "      <td>p</td>\n",
              "    </tr>\n",
              "    <tr>\n",
              "      <th>iPhone XS</th>\n",
              "      <td>p</td>\n",
              "      <td>p</td>\n",
              "      <td>p</td>\n",
              "      <td>p</td>\n",
              "      <td>p</td>\n",
              "    </tr>\n",
              "    <tr>\n",
              "      <th>iPhone XS Max</th>\n",
              "      <td>p</td>\n",
              "      <td>p</td>\n",
              "      <td>p</td>\n",
              "      <td>p</td>\n",
              "      <td>p</td>\n",
              "    </tr>\n",
              "  </tbody>\n",
              "</table>\n",
              "</div>"
            ],
            "text/plain": [
              "                      출시일 디스플레이  메모리     출시 버전 Face ID\n",
              "iPhone 7       2016-09-16   4.7  2GB  iOS 10.0      No\n",
              "iPhone 7 Plus           p     p    p         p       p\n",
              "iPhone 8       2017-09-22   4.7  2GB  iOS 11.0      No\n",
              "iPhone 8 Plus           p     p    p         p       p\n",
              "iPhone X                p     p    p         p       p\n",
              "iPhone XS               p     p    p         p       p\n",
              "iPhone XS Max           p     p    p         p       p"
            ]
          },
          "metadata": {
            "tags": []
          },
          "execution_count": 29
        }
      ]
    },
    {
      "cell_type": "code",
      "metadata": {
        "colab": {
          "base_uri": "https://localhost:8080/",
          "height": 111
        },
        "id": "bKpMm5GuGjDQ",
        "outputId": "84a019aa-0b99-41a6-a339-e6a7bb66a8cb"
      },
      "source": [
        "iphone_df.iloc[[1,3],[1,4]]"
      ],
      "execution_count": 30,
      "outputs": [
        {
          "output_type": "execute_result",
          "data": {
            "text/html": [
              "<div>\n",
              "<style scoped>\n",
              "    .dataframe tbody tr th:only-of-type {\n",
              "        vertical-align: middle;\n",
              "    }\n",
              "\n",
              "    .dataframe tbody tr th {\n",
              "        vertical-align: top;\n",
              "    }\n",
              "\n",
              "    .dataframe thead th {\n",
              "        text-align: right;\n",
              "    }\n",
              "</style>\n",
              "<table border=\"1\" class=\"dataframe\">\n",
              "  <thead>\n",
              "    <tr style=\"text-align: right;\">\n",
              "      <th></th>\n",
              "      <th>디스플레이</th>\n",
              "      <th>Face ID</th>\n",
              "    </tr>\n",
              "  </thead>\n",
              "  <tbody>\n",
              "    <tr>\n",
              "      <th>iPhone 7 Plus</th>\n",
              "      <td>p</td>\n",
              "      <td>p</td>\n",
              "    </tr>\n",
              "    <tr>\n",
              "      <th>iPhone 8 Plus</th>\n",
              "      <td>p</td>\n",
              "      <td>p</td>\n",
              "    </tr>\n",
              "  </tbody>\n",
              "</table>\n",
              "</div>"
            ],
            "text/plain": [
              "              디스플레이 Face ID\n",
              "iPhone 7 Plus     p       p\n",
              "iPhone 8 Plus     p       p"
            ]
          },
          "metadata": {
            "tags": []
          },
          "execution_count": 30
        }
      ]
    },
    {
      "cell_type": "code",
      "metadata": {
        "colab": {
          "base_uri": "https://localhost:8080/",
          "height": 266
        },
        "id": "3hORoUTmGrFg",
        "outputId": "225a2c14-28d0-4617-b13a-e52b54931f83"
      },
      "source": [
        "iphone_df.iloc[[1,3],[1,4]]='v'\n",
        "iphone_df"
      ],
      "execution_count": 31,
      "outputs": [
        {
          "output_type": "execute_result",
          "data": {
            "text/html": [
              "<div>\n",
              "<style scoped>\n",
              "    .dataframe tbody tr th:only-of-type {\n",
              "        vertical-align: middle;\n",
              "    }\n",
              "\n",
              "    .dataframe tbody tr th {\n",
              "        vertical-align: top;\n",
              "    }\n",
              "\n",
              "    .dataframe thead th {\n",
              "        text-align: right;\n",
              "    }\n",
              "</style>\n",
              "<table border=\"1\" class=\"dataframe\">\n",
              "  <thead>\n",
              "    <tr style=\"text-align: right;\">\n",
              "      <th></th>\n",
              "      <th>출시일</th>\n",
              "      <th>디스플레이</th>\n",
              "      <th>메모리</th>\n",
              "      <th>출시 버전</th>\n",
              "      <th>Face ID</th>\n",
              "    </tr>\n",
              "  </thead>\n",
              "  <tbody>\n",
              "    <tr>\n",
              "      <th>iPhone 7</th>\n",
              "      <td>2016-09-16</td>\n",
              "      <td>4.7</td>\n",
              "      <td>2GB</td>\n",
              "      <td>iOS 10.0</td>\n",
              "      <td>No</td>\n",
              "    </tr>\n",
              "    <tr>\n",
              "      <th>iPhone 7 Plus</th>\n",
              "      <td>p</td>\n",
              "      <td>v</td>\n",
              "      <td>p</td>\n",
              "      <td>p</td>\n",
              "      <td>v</td>\n",
              "    </tr>\n",
              "    <tr>\n",
              "      <th>iPhone 8</th>\n",
              "      <td>2017-09-22</td>\n",
              "      <td>4.7</td>\n",
              "      <td>2GB</td>\n",
              "      <td>iOS 11.0</td>\n",
              "      <td>No</td>\n",
              "    </tr>\n",
              "    <tr>\n",
              "      <th>iPhone 8 Plus</th>\n",
              "      <td>p</td>\n",
              "      <td>v</td>\n",
              "      <td>p</td>\n",
              "      <td>p</td>\n",
              "      <td>v</td>\n",
              "    </tr>\n",
              "    <tr>\n",
              "      <th>iPhone X</th>\n",
              "      <td>p</td>\n",
              "      <td>p</td>\n",
              "      <td>p</td>\n",
              "      <td>p</td>\n",
              "      <td>p</td>\n",
              "    </tr>\n",
              "    <tr>\n",
              "      <th>iPhone XS</th>\n",
              "      <td>p</td>\n",
              "      <td>p</td>\n",
              "      <td>p</td>\n",
              "      <td>p</td>\n",
              "      <td>p</td>\n",
              "    </tr>\n",
              "    <tr>\n",
              "      <th>iPhone XS Max</th>\n",
              "      <td>p</td>\n",
              "      <td>p</td>\n",
              "      <td>p</td>\n",
              "      <td>p</td>\n",
              "      <td>p</td>\n",
              "    </tr>\n",
              "  </tbody>\n",
              "</table>\n",
              "</div>"
            ],
            "text/plain": [
              "                      출시일 디스플레이  메모리     출시 버전 Face ID\n",
              "iPhone 7       2016-09-16   4.7  2GB  iOS 10.0      No\n",
              "iPhone 7 Plus           p     v    p         p       v\n",
              "iPhone 8       2017-09-22   4.7  2GB  iOS 11.0      No\n",
              "iPhone 8 Plus           p     v    p         p       v\n",
              "iPhone X                p     p    p         p       p\n",
              "iPhone XS               p     p    p         p       p\n",
              "iPhone XS Max           p     p    p         p       p"
            ]
          },
          "metadata": {
            "tags": []
          },
          "execution_count": 31
        }
      ]
    },
    {
      "cell_type": "markdown",
      "metadata": {
        "id": "rh2rvT8-G99A"
      },
      "source": [
        "\n",
        "\n",
        "---\n",
        "\n",
        "\n",
        "DataFrame 값 추가/삭제"
      ]
    },
    {
      "cell_type": "code",
      "metadata": {
        "colab": {
          "base_uri": "https://localhost:8080/",
          "height": 266
        },
        "id": "5IchL3G9HCIB",
        "outputId": "06902d89-bdfd-4e6b-eb1c-ba05fe2cc241"
      },
      "source": [
        "import pandas as pd\n",
        "iphone_df=pd.read_csv('/content/drive/MyDrive/iphone.csv',index_col=0)\n",
        "iphone_df"
      ],
      "execution_count": 32,
      "outputs": [
        {
          "output_type": "execute_result",
          "data": {
            "text/html": [
              "<div>\n",
              "<style scoped>\n",
              "    .dataframe tbody tr th:only-of-type {\n",
              "        vertical-align: middle;\n",
              "    }\n",
              "\n",
              "    .dataframe tbody tr th {\n",
              "        vertical-align: top;\n",
              "    }\n",
              "\n",
              "    .dataframe thead th {\n",
              "        text-align: right;\n",
              "    }\n",
              "</style>\n",
              "<table border=\"1\" class=\"dataframe\">\n",
              "  <thead>\n",
              "    <tr style=\"text-align: right;\">\n",
              "      <th></th>\n",
              "      <th>출시일</th>\n",
              "      <th>디스플레이</th>\n",
              "      <th>메모리</th>\n",
              "      <th>출시 버전</th>\n",
              "      <th>Face ID</th>\n",
              "    </tr>\n",
              "  </thead>\n",
              "  <tbody>\n",
              "    <tr>\n",
              "      <th>iPhone 7</th>\n",
              "      <td>2016-09-16</td>\n",
              "      <td>4.7</td>\n",
              "      <td>2GB</td>\n",
              "      <td>iOS 10.0</td>\n",
              "      <td>No</td>\n",
              "    </tr>\n",
              "    <tr>\n",
              "      <th>iPhone 7 Plus</th>\n",
              "      <td>2016-09-16</td>\n",
              "      <td>5.5</td>\n",
              "      <td>3GB</td>\n",
              "      <td>iOS 10.0</td>\n",
              "      <td>No</td>\n",
              "    </tr>\n",
              "    <tr>\n",
              "      <th>iPhone 8</th>\n",
              "      <td>2017-09-22</td>\n",
              "      <td>4.7</td>\n",
              "      <td>2GB</td>\n",
              "      <td>iOS 11.0</td>\n",
              "      <td>No</td>\n",
              "    </tr>\n",
              "    <tr>\n",
              "      <th>iPhone 8 Plus</th>\n",
              "      <td>2017-09-22</td>\n",
              "      <td>5.5</td>\n",
              "      <td>3GB</td>\n",
              "      <td>iOS 11.0</td>\n",
              "      <td>No</td>\n",
              "    </tr>\n",
              "    <tr>\n",
              "      <th>iPhone X</th>\n",
              "      <td>2017-11-03</td>\n",
              "      <td>5.8</td>\n",
              "      <td>3GB</td>\n",
              "      <td>iOS 11.1</td>\n",
              "      <td>Yes</td>\n",
              "    </tr>\n",
              "    <tr>\n",
              "      <th>iPhone XS</th>\n",
              "      <td>2018-09-21</td>\n",
              "      <td>5.8</td>\n",
              "      <td>4GB</td>\n",
              "      <td>iOS 12.0</td>\n",
              "      <td>Yes</td>\n",
              "    </tr>\n",
              "    <tr>\n",
              "      <th>iPhone XS Max</th>\n",
              "      <td>2018-09-21</td>\n",
              "      <td>6.5</td>\n",
              "      <td>4GB</td>\n",
              "      <td>iOS 12.0</td>\n",
              "      <td>Yes</td>\n",
              "    </tr>\n",
              "  </tbody>\n",
              "</table>\n",
              "</div>"
            ],
            "text/plain": [
              "                      출시일  디스플레이  메모리     출시 버전 Face ID\n",
              "iPhone 7       2016-09-16    4.7  2GB  iOS 10.0      No\n",
              "iPhone 7 Plus  2016-09-16    5.5  3GB  iOS 10.0      No\n",
              "iPhone 8       2017-09-22    4.7  2GB  iOS 11.0      No\n",
              "iPhone 8 Plus  2017-09-22    5.5  3GB  iOS 11.0      No\n",
              "iPhone X       2017-11-03    5.8  3GB  iOS 11.1     Yes\n",
              "iPhone XS      2018-09-21    5.8  4GB  iOS 12.0     Yes\n",
              "iPhone XS Max  2018-09-21    6.5  4GB  iOS 12.0     Yes"
            ]
          },
          "metadata": {
            "tags": []
          },
          "execution_count": 32
        }
      ]
    },
    {
      "cell_type": "code",
      "metadata": {
        "colab": {
          "base_uri": "https://localhost:8080/",
          "height": 297
        },
        "id": "inIlgPspHIAh",
        "outputId": "344a4b75-edf0-4c75-e83d-05e873bd819c"
      },
      "source": [
        "iphone_df.loc['iPhone XR']=['2018-10-26',6.1,'3GB','ios 12.0.1','Yes'] #추가하기\n",
        "iphone_df"
      ],
      "execution_count": 34,
      "outputs": [
        {
          "output_type": "execute_result",
          "data": {
            "text/html": [
              "<div>\n",
              "<style scoped>\n",
              "    .dataframe tbody tr th:only-of-type {\n",
              "        vertical-align: middle;\n",
              "    }\n",
              "\n",
              "    .dataframe tbody tr th {\n",
              "        vertical-align: top;\n",
              "    }\n",
              "\n",
              "    .dataframe thead th {\n",
              "        text-align: right;\n",
              "    }\n",
              "</style>\n",
              "<table border=\"1\" class=\"dataframe\">\n",
              "  <thead>\n",
              "    <tr style=\"text-align: right;\">\n",
              "      <th></th>\n",
              "      <th>출시일</th>\n",
              "      <th>디스플레이</th>\n",
              "      <th>메모리</th>\n",
              "      <th>출시 버전</th>\n",
              "      <th>Face ID</th>\n",
              "    </tr>\n",
              "  </thead>\n",
              "  <tbody>\n",
              "    <tr>\n",
              "      <th>iPhone 7</th>\n",
              "      <td>2016-09-16</td>\n",
              "      <td>4.7</td>\n",
              "      <td>2GB</td>\n",
              "      <td>iOS 10.0</td>\n",
              "      <td>No</td>\n",
              "    </tr>\n",
              "    <tr>\n",
              "      <th>iPhone 7 Plus</th>\n",
              "      <td>2016-09-16</td>\n",
              "      <td>5.5</td>\n",
              "      <td>3GB</td>\n",
              "      <td>iOS 10.0</td>\n",
              "      <td>No</td>\n",
              "    </tr>\n",
              "    <tr>\n",
              "      <th>iPhone 8</th>\n",
              "      <td>2017-09-22</td>\n",
              "      <td>4.7</td>\n",
              "      <td>2GB</td>\n",
              "      <td>iOS 11.0</td>\n",
              "      <td>No</td>\n",
              "    </tr>\n",
              "    <tr>\n",
              "      <th>iPhone 8 Plus</th>\n",
              "      <td>2017-09-22</td>\n",
              "      <td>5.5</td>\n",
              "      <td>3GB</td>\n",
              "      <td>iOS 11.0</td>\n",
              "      <td>No</td>\n",
              "    </tr>\n",
              "    <tr>\n",
              "      <th>iPhone X</th>\n",
              "      <td>2018-10-26</td>\n",
              "      <td>6.1</td>\n",
              "      <td>3GB</td>\n",
              "      <td>ios 12.0.1</td>\n",
              "      <td>Yes</td>\n",
              "    </tr>\n",
              "    <tr>\n",
              "      <th>iPhone XS</th>\n",
              "      <td>2018-09-21</td>\n",
              "      <td>5.8</td>\n",
              "      <td>4GB</td>\n",
              "      <td>iOS 12.0</td>\n",
              "      <td>Yes</td>\n",
              "    </tr>\n",
              "    <tr>\n",
              "      <th>iPhone XS Max</th>\n",
              "      <td>2018-09-21</td>\n",
              "      <td>6.5</td>\n",
              "      <td>4GB</td>\n",
              "      <td>iOS 12.0</td>\n",
              "      <td>Yes</td>\n",
              "    </tr>\n",
              "    <tr>\n",
              "      <th>iPhone XR</th>\n",
              "      <td>2018-10-26</td>\n",
              "      <td>6.1</td>\n",
              "      <td>3GB</td>\n",
              "      <td>ios 12.0.1</td>\n",
              "      <td>Yes</td>\n",
              "    </tr>\n",
              "  </tbody>\n",
              "</table>\n",
              "</div>"
            ],
            "text/plain": [
              "                      출시일  디스플레이  메모리       출시 버전 Face ID\n",
              "iPhone 7       2016-09-16    4.7  2GB    iOS 10.0      No\n",
              "iPhone 7 Plus  2016-09-16    5.5  3GB    iOS 10.0      No\n",
              "iPhone 8       2017-09-22    4.7  2GB    iOS 11.0      No\n",
              "iPhone 8 Plus  2017-09-22    5.5  3GB    iOS 11.0      No\n",
              "iPhone X       2018-10-26    6.1  3GB  ios 12.0.1     Yes\n",
              "iPhone XS      2018-09-21    5.8  4GB    iOS 12.0     Yes\n",
              "iPhone XS Max  2018-09-21    6.5  4GB    iOS 12.0     Yes\n",
              "iPhone XR      2018-10-26    6.1  3GB  ios 12.0.1     Yes"
            ]
          },
          "metadata": {
            "tags": []
          },
          "execution_count": 34
        }
      ]
    },
    {
      "cell_type": "code",
      "metadata": {
        "colab": {
          "base_uri": "https://localhost:8080/",
          "height": 297
        },
        "id": "P9LMboZkHePQ",
        "outputId": "4f5868f1-26fa-4832-a841-0573f561b1d3"
      },
      "source": [
        "iphone_df['제조사']='Apple'#추가하기\n",
        "iphone_df"
      ],
      "execution_count": 35,
      "outputs": [
        {
          "output_type": "execute_result",
          "data": {
            "text/html": [
              "<div>\n",
              "<style scoped>\n",
              "    .dataframe tbody tr th:only-of-type {\n",
              "        vertical-align: middle;\n",
              "    }\n",
              "\n",
              "    .dataframe tbody tr th {\n",
              "        vertical-align: top;\n",
              "    }\n",
              "\n",
              "    .dataframe thead th {\n",
              "        text-align: right;\n",
              "    }\n",
              "</style>\n",
              "<table border=\"1\" class=\"dataframe\">\n",
              "  <thead>\n",
              "    <tr style=\"text-align: right;\">\n",
              "      <th></th>\n",
              "      <th>출시일</th>\n",
              "      <th>디스플레이</th>\n",
              "      <th>메모리</th>\n",
              "      <th>출시 버전</th>\n",
              "      <th>Face ID</th>\n",
              "      <th>제조사</th>\n",
              "    </tr>\n",
              "  </thead>\n",
              "  <tbody>\n",
              "    <tr>\n",
              "      <th>iPhone 7</th>\n",
              "      <td>2016-09-16</td>\n",
              "      <td>4.7</td>\n",
              "      <td>2GB</td>\n",
              "      <td>iOS 10.0</td>\n",
              "      <td>No</td>\n",
              "      <td>Apple</td>\n",
              "    </tr>\n",
              "    <tr>\n",
              "      <th>iPhone 7 Plus</th>\n",
              "      <td>2016-09-16</td>\n",
              "      <td>5.5</td>\n",
              "      <td>3GB</td>\n",
              "      <td>iOS 10.0</td>\n",
              "      <td>No</td>\n",
              "      <td>Apple</td>\n",
              "    </tr>\n",
              "    <tr>\n",
              "      <th>iPhone 8</th>\n",
              "      <td>2017-09-22</td>\n",
              "      <td>4.7</td>\n",
              "      <td>2GB</td>\n",
              "      <td>iOS 11.0</td>\n",
              "      <td>No</td>\n",
              "      <td>Apple</td>\n",
              "    </tr>\n",
              "    <tr>\n",
              "      <th>iPhone 8 Plus</th>\n",
              "      <td>2017-09-22</td>\n",
              "      <td>5.5</td>\n",
              "      <td>3GB</td>\n",
              "      <td>iOS 11.0</td>\n",
              "      <td>No</td>\n",
              "      <td>Apple</td>\n",
              "    </tr>\n",
              "    <tr>\n",
              "      <th>iPhone X</th>\n",
              "      <td>2018-10-26</td>\n",
              "      <td>6.1</td>\n",
              "      <td>3GB</td>\n",
              "      <td>ios 12.0.1</td>\n",
              "      <td>Yes</td>\n",
              "      <td>Apple</td>\n",
              "    </tr>\n",
              "    <tr>\n",
              "      <th>iPhone XS</th>\n",
              "      <td>2018-09-21</td>\n",
              "      <td>5.8</td>\n",
              "      <td>4GB</td>\n",
              "      <td>iOS 12.0</td>\n",
              "      <td>Yes</td>\n",
              "      <td>Apple</td>\n",
              "    </tr>\n",
              "    <tr>\n",
              "      <th>iPhone XS Max</th>\n",
              "      <td>2018-09-21</td>\n",
              "      <td>6.5</td>\n",
              "      <td>4GB</td>\n",
              "      <td>iOS 12.0</td>\n",
              "      <td>Yes</td>\n",
              "      <td>Apple</td>\n",
              "    </tr>\n",
              "    <tr>\n",
              "      <th>iPhone XR</th>\n",
              "      <td>2018-10-26</td>\n",
              "      <td>6.1</td>\n",
              "      <td>3GB</td>\n",
              "      <td>ios 12.0.1</td>\n",
              "      <td>Yes</td>\n",
              "      <td>Apple</td>\n",
              "    </tr>\n",
              "  </tbody>\n",
              "</table>\n",
              "</div>"
            ],
            "text/plain": [
              "                      출시일  디스플레이  메모리       출시 버전 Face ID    제조사\n",
              "iPhone 7       2016-09-16    4.7  2GB    iOS 10.0      No  Apple\n",
              "iPhone 7 Plus  2016-09-16    5.5  3GB    iOS 10.0      No  Apple\n",
              "iPhone 8       2017-09-22    4.7  2GB    iOS 11.0      No  Apple\n",
              "iPhone 8 Plus  2017-09-22    5.5  3GB    iOS 11.0      No  Apple\n",
              "iPhone X       2018-10-26    6.1  3GB  ios 12.0.1     Yes  Apple\n",
              "iPhone XS      2018-09-21    5.8  4GB    iOS 12.0     Yes  Apple\n",
              "iPhone XS Max  2018-09-21    6.5  4GB    iOS 12.0     Yes  Apple\n",
              "iPhone XR      2018-10-26    6.1  3GB  ios 12.0.1     Yes  Apple"
            ]
          },
          "metadata": {
            "tags": []
          },
          "execution_count": 35
        }
      ]
    },
    {
      "cell_type": "code",
      "metadata": {
        "colab": {
          "base_uri": "https://localhost:8080/",
          "height": 266
        },
        "id": "lmSeIKjXHlUp",
        "outputId": "8d0d8987-44bd-4ca3-8a75-081ad11d8e63"
      },
      "source": [
        "iphone_df.drop('iPhone XR',axis='index',inplace=False) #기존의 데이터 건드리지 않는다 inplace=False"
      ],
      "execution_count": 36,
      "outputs": [
        {
          "output_type": "execute_result",
          "data": {
            "text/html": [
              "<div>\n",
              "<style scoped>\n",
              "    .dataframe tbody tr th:only-of-type {\n",
              "        vertical-align: middle;\n",
              "    }\n",
              "\n",
              "    .dataframe tbody tr th {\n",
              "        vertical-align: top;\n",
              "    }\n",
              "\n",
              "    .dataframe thead th {\n",
              "        text-align: right;\n",
              "    }\n",
              "</style>\n",
              "<table border=\"1\" class=\"dataframe\">\n",
              "  <thead>\n",
              "    <tr style=\"text-align: right;\">\n",
              "      <th></th>\n",
              "      <th>출시일</th>\n",
              "      <th>디스플레이</th>\n",
              "      <th>메모리</th>\n",
              "      <th>출시 버전</th>\n",
              "      <th>Face ID</th>\n",
              "      <th>제조사</th>\n",
              "    </tr>\n",
              "  </thead>\n",
              "  <tbody>\n",
              "    <tr>\n",
              "      <th>iPhone 7</th>\n",
              "      <td>2016-09-16</td>\n",
              "      <td>4.7</td>\n",
              "      <td>2GB</td>\n",
              "      <td>iOS 10.0</td>\n",
              "      <td>No</td>\n",
              "      <td>Apple</td>\n",
              "    </tr>\n",
              "    <tr>\n",
              "      <th>iPhone 7 Plus</th>\n",
              "      <td>2016-09-16</td>\n",
              "      <td>5.5</td>\n",
              "      <td>3GB</td>\n",
              "      <td>iOS 10.0</td>\n",
              "      <td>No</td>\n",
              "      <td>Apple</td>\n",
              "    </tr>\n",
              "    <tr>\n",
              "      <th>iPhone 8</th>\n",
              "      <td>2017-09-22</td>\n",
              "      <td>4.7</td>\n",
              "      <td>2GB</td>\n",
              "      <td>iOS 11.0</td>\n",
              "      <td>No</td>\n",
              "      <td>Apple</td>\n",
              "    </tr>\n",
              "    <tr>\n",
              "      <th>iPhone 8 Plus</th>\n",
              "      <td>2017-09-22</td>\n",
              "      <td>5.5</td>\n",
              "      <td>3GB</td>\n",
              "      <td>iOS 11.0</td>\n",
              "      <td>No</td>\n",
              "      <td>Apple</td>\n",
              "    </tr>\n",
              "    <tr>\n",
              "      <th>iPhone X</th>\n",
              "      <td>2018-10-26</td>\n",
              "      <td>6.1</td>\n",
              "      <td>3GB</td>\n",
              "      <td>ios 12.0.1</td>\n",
              "      <td>Yes</td>\n",
              "      <td>Apple</td>\n",
              "    </tr>\n",
              "    <tr>\n",
              "      <th>iPhone XS</th>\n",
              "      <td>2018-09-21</td>\n",
              "      <td>5.8</td>\n",
              "      <td>4GB</td>\n",
              "      <td>iOS 12.0</td>\n",
              "      <td>Yes</td>\n",
              "      <td>Apple</td>\n",
              "    </tr>\n",
              "    <tr>\n",
              "      <th>iPhone XS Max</th>\n",
              "      <td>2018-09-21</td>\n",
              "      <td>6.5</td>\n",
              "      <td>4GB</td>\n",
              "      <td>iOS 12.0</td>\n",
              "      <td>Yes</td>\n",
              "      <td>Apple</td>\n",
              "    </tr>\n",
              "  </tbody>\n",
              "</table>\n",
              "</div>"
            ],
            "text/plain": [
              "                      출시일  디스플레이  메모리       출시 버전 Face ID    제조사\n",
              "iPhone 7       2016-09-16    4.7  2GB    iOS 10.0      No  Apple\n",
              "iPhone 7 Plus  2016-09-16    5.5  3GB    iOS 10.0      No  Apple\n",
              "iPhone 8       2017-09-22    4.7  2GB    iOS 11.0      No  Apple\n",
              "iPhone 8 Plus  2017-09-22    5.5  3GB    iOS 11.0      No  Apple\n",
              "iPhone X       2018-10-26    6.1  3GB  ios 12.0.1     Yes  Apple\n",
              "iPhone XS      2018-09-21    5.8  4GB    iOS 12.0     Yes  Apple\n",
              "iPhone XS Max  2018-09-21    6.5  4GB    iOS 12.0     Yes  Apple"
            ]
          },
          "metadata": {
            "tags": []
          },
          "execution_count": 36
        }
      ]
    },
    {
      "cell_type": "code",
      "metadata": {
        "colab": {
          "base_uri": "https://localhost:8080/",
          "height": 297
        },
        "id": "JJcB1cBBHxmJ",
        "outputId": "e52a81c1-ef7d-441d-bf7e-8916c29a9e6b"
      },
      "source": [
        "iphone_df"
      ],
      "execution_count": 37,
      "outputs": [
        {
          "output_type": "execute_result",
          "data": {
            "text/html": [
              "<div>\n",
              "<style scoped>\n",
              "    .dataframe tbody tr th:only-of-type {\n",
              "        vertical-align: middle;\n",
              "    }\n",
              "\n",
              "    .dataframe tbody tr th {\n",
              "        vertical-align: top;\n",
              "    }\n",
              "\n",
              "    .dataframe thead th {\n",
              "        text-align: right;\n",
              "    }\n",
              "</style>\n",
              "<table border=\"1\" class=\"dataframe\">\n",
              "  <thead>\n",
              "    <tr style=\"text-align: right;\">\n",
              "      <th></th>\n",
              "      <th>출시일</th>\n",
              "      <th>디스플레이</th>\n",
              "      <th>메모리</th>\n",
              "      <th>출시 버전</th>\n",
              "      <th>Face ID</th>\n",
              "      <th>제조사</th>\n",
              "    </tr>\n",
              "  </thead>\n",
              "  <tbody>\n",
              "    <tr>\n",
              "      <th>iPhone 7</th>\n",
              "      <td>2016-09-16</td>\n",
              "      <td>4.7</td>\n",
              "      <td>2GB</td>\n",
              "      <td>iOS 10.0</td>\n",
              "      <td>No</td>\n",
              "      <td>Apple</td>\n",
              "    </tr>\n",
              "    <tr>\n",
              "      <th>iPhone 7 Plus</th>\n",
              "      <td>2016-09-16</td>\n",
              "      <td>5.5</td>\n",
              "      <td>3GB</td>\n",
              "      <td>iOS 10.0</td>\n",
              "      <td>No</td>\n",
              "      <td>Apple</td>\n",
              "    </tr>\n",
              "    <tr>\n",
              "      <th>iPhone 8</th>\n",
              "      <td>2017-09-22</td>\n",
              "      <td>4.7</td>\n",
              "      <td>2GB</td>\n",
              "      <td>iOS 11.0</td>\n",
              "      <td>No</td>\n",
              "      <td>Apple</td>\n",
              "    </tr>\n",
              "    <tr>\n",
              "      <th>iPhone 8 Plus</th>\n",
              "      <td>2017-09-22</td>\n",
              "      <td>5.5</td>\n",
              "      <td>3GB</td>\n",
              "      <td>iOS 11.0</td>\n",
              "      <td>No</td>\n",
              "      <td>Apple</td>\n",
              "    </tr>\n",
              "    <tr>\n",
              "      <th>iPhone X</th>\n",
              "      <td>2018-10-26</td>\n",
              "      <td>6.1</td>\n",
              "      <td>3GB</td>\n",
              "      <td>ios 12.0.1</td>\n",
              "      <td>Yes</td>\n",
              "      <td>Apple</td>\n",
              "    </tr>\n",
              "    <tr>\n",
              "      <th>iPhone XS</th>\n",
              "      <td>2018-09-21</td>\n",
              "      <td>5.8</td>\n",
              "      <td>4GB</td>\n",
              "      <td>iOS 12.0</td>\n",
              "      <td>Yes</td>\n",
              "      <td>Apple</td>\n",
              "    </tr>\n",
              "    <tr>\n",
              "      <th>iPhone XS Max</th>\n",
              "      <td>2018-09-21</td>\n",
              "      <td>6.5</td>\n",
              "      <td>4GB</td>\n",
              "      <td>iOS 12.0</td>\n",
              "      <td>Yes</td>\n",
              "      <td>Apple</td>\n",
              "    </tr>\n",
              "    <tr>\n",
              "      <th>iPhone XR</th>\n",
              "      <td>2018-10-26</td>\n",
              "      <td>6.1</td>\n",
              "      <td>3GB</td>\n",
              "      <td>ios 12.0.1</td>\n",
              "      <td>Yes</td>\n",
              "      <td>Apple</td>\n",
              "    </tr>\n",
              "  </tbody>\n",
              "</table>\n",
              "</div>"
            ],
            "text/plain": [
              "                      출시일  디스플레이  메모리       출시 버전 Face ID    제조사\n",
              "iPhone 7       2016-09-16    4.7  2GB    iOS 10.0      No  Apple\n",
              "iPhone 7 Plus  2016-09-16    5.5  3GB    iOS 10.0      No  Apple\n",
              "iPhone 8       2017-09-22    4.7  2GB    iOS 11.0      No  Apple\n",
              "iPhone 8 Plus  2017-09-22    5.5  3GB    iOS 11.0      No  Apple\n",
              "iPhone X       2018-10-26    6.1  3GB  ios 12.0.1     Yes  Apple\n",
              "iPhone XS      2018-09-21    5.8  4GB    iOS 12.0     Yes  Apple\n",
              "iPhone XS Max  2018-09-21    6.5  4GB    iOS 12.0     Yes  Apple\n",
              "iPhone XR      2018-10-26    6.1  3GB  ios 12.0.1     Yes  Apple"
            ]
          },
          "metadata": {
            "tags": []
          },
          "execution_count": 37
        }
      ]
    },
    {
      "cell_type": "code",
      "metadata": {
        "id": "BcqbFEnxH8oy"
      },
      "source": [
        "iphone_df.drop('iPhone XR',axis='index',inplace=True) #기존의 데이터 건드린다 inplace=True"
      ],
      "execution_count": 38,
      "outputs": []
    },
    {
      "cell_type": "code",
      "metadata": {
        "colab": {
          "base_uri": "https://localhost:8080/",
          "height": 266
        },
        "id": "TtG8ARH6IC6I",
        "outputId": "1acc2c22-2735-43d5-e532-062e5bfff0f0"
      },
      "source": [
        "iphone_df"
      ],
      "execution_count": 39,
      "outputs": [
        {
          "output_type": "execute_result",
          "data": {
            "text/html": [
              "<div>\n",
              "<style scoped>\n",
              "    .dataframe tbody tr th:only-of-type {\n",
              "        vertical-align: middle;\n",
              "    }\n",
              "\n",
              "    .dataframe tbody tr th {\n",
              "        vertical-align: top;\n",
              "    }\n",
              "\n",
              "    .dataframe thead th {\n",
              "        text-align: right;\n",
              "    }\n",
              "</style>\n",
              "<table border=\"1\" class=\"dataframe\">\n",
              "  <thead>\n",
              "    <tr style=\"text-align: right;\">\n",
              "      <th></th>\n",
              "      <th>출시일</th>\n",
              "      <th>디스플레이</th>\n",
              "      <th>메모리</th>\n",
              "      <th>출시 버전</th>\n",
              "      <th>Face ID</th>\n",
              "      <th>제조사</th>\n",
              "    </tr>\n",
              "  </thead>\n",
              "  <tbody>\n",
              "    <tr>\n",
              "      <th>iPhone 7</th>\n",
              "      <td>2016-09-16</td>\n",
              "      <td>4.7</td>\n",
              "      <td>2GB</td>\n",
              "      <td>iOS 10.0</td>\n",
              "      <td>No</td>\n",
              "      <td>Apple</td>\n",
              "    </tr>\n",
              "    <tr>\n",
              "      <th>iPhone 7 Plus</th>\n",
              "      <td>2016-09-16</td>\n",
              "      <td>5.5</td>\n",
              "      <td>3GB</td>\n",
              "      <td>iOS 10.0</td>\n",
              "      <td>No</td>\n",
              "      <td>Apple</td>\n",
              "    </tr>\n",
              "    <tr>\n",
              "      <th>iPhone 8</th>\n",
              "      <td>2017-09-22</td>\n",
              "      <td>4.7</td>\n",
              "      <td>2GB</td>\n",
              "      <td>iOS 11.0</td>\n",
              "      <td>No</td>\n",
              "      <td>Apple</td>\n",
              "    </tr>\n",
              "    <tr>\n",
              "      <th>iPhone 8 Plus</th>\n",
              "      <td>2017-09-22</td>\n",
              "      <td>5.5</td>\n",
              "      <td>3GB</td>\n",
              "      <td>iOS 11.0</td>\n",
              "      <td>No</td>\n",
              "      <td>Apple</td>\n",
              "    </tr>\n",
              "    <tr>\n",
              "      <th>iPhone X</th>\n",
              "      <td>2018-10-26</td>\n",
              "      <td>6.1</td>\n",
              "      <td>3GB</td>\n",
              "      <td>ios 12.0.1</td>\n",
              "      <td>Yes</td>\n",
              "      <td>Apple</td>\n",
              "    </tr>\n",
              "    <tr>\n",
              "      <th>iPhone XS</th>\n",
              "      <td>2018-09-21</td>\n",
              "      <td>5.8</td>\n",
              "      <td>4GB</td>\n",
              "      <td>iOS 12.0</td>\n",
              "      <td>Yes</td>\n",
              "      <td>Apple</td>\n",
              "    </tr>\n",
              "    <tr>\n",
              "      <th>iPhone XS Max</th>\n",
              "      <td>2018-09-21</td>\n",
              "      <td>6.5</td>\n",
              "      <td>4GB</td>\n",
              "      <td>iOS 12.0</td>\n",
              "      <td>Yes</td>\n",
              "      <td>Apple</td>\n",
              "    </tr>\n",
              "  </tbody>\n",
              "</table>\n",
              "</div>"
            ],
            "text/plain": [
              "                      출시일  디스플레이  메모리       출시 버전 Face ID    제조사\n",
              "iPhone 7       2016-09-16    4.7  2GB    iOS 10.0      No  Apple\n",
              "iPhone 7 Plus  2016-09-16    5.5  3GB    iOS 10.0      No  Apple\n",
              "iPhone 8       2017-09-22    4.7  2GB    iOS 11.0      No  Apple\n",
              "iPhone 8 Plus  2017-09-22    5.5  3GB    iOS 11.0      No  Apple\n",
              "iPhone X       2018-10-26    6.1  3GB  ios 12.0.1     Yes  Apple\n",
              "iPhone XS      2018-09-21    5.8  4GB    iOS 12.0     Yes  Apple\n",
              "iPhone XS Max  2018-09-21    6.5  4GB    iOS 12.0     Yes  Apple"
            ]
          },
          "metadata": {
            "tags": []
          },
          "execution_count": 39
        }
      ]
    },
    {
      "cell_type": "code",
      "metadata": {
        "id": "B4DpbPQpIE8J"
      },
      "source": [
        "iphone_df.drop('제조사',axis='columns',inplace=True)"
      ],
      "execution_count": 40,
      "outputs": []
    },
    {
      "cell_type": "code",
      "metadata": {
        "colab": {
          "base_uri": "https://localhost:8080/",
          "height": 266
        },
        "id": "Om74KkcJIOu5",
        "outputId": "23ae61a5-d052-4ad5-85fd-31d6b07cb8af"
      },
      "source": [
        "iphone_df"
      ],
      "execution_count": 41,
      "outputs": [
        {
          "output_type": "execute_result",
          "data": {
            "text/html": [
              "<div>\n",
              "<style scoped>\n",
              "    .dataframe tbody tr th:only-of-type {\n",
              "        vertical-align: middle;\n",
              "    }\n",
              "\n",
              "    .dataframe tbody tr th {\n",
              "        vertical-align: top;\n",
              "    }\n",
              "\n",
              "    .dataframe thead th {\n",
              "        text-align: right;\n",
              "    }\n",
              "</style>\n",
              "<table border=\"1\" class=\"dataframe\">\n",
              "  <thead>\n",
              "    <tr style=\"text-align: right;\">\n",
              "      <th></th>\n",
              "      <th>출시일</th>\n",
              "      <th>디스플레이</th>\n",
              "      <th>메모리</th>\n",
              "      <th>출시 버전</th>\n",
              "      <th>Face ID</th>\n",
              "    </tr>\n",
              "  </thead>\n",
              "  <tbody>\n",
              "    <tr>\n",
              "      <th>iPhone 7</th>\n",
              "      <td>2016-09-16</td>\n",
              "      <td>4.7</td>\n",
              "      <td>2GB</td>\n",
              "      <td>iOS 10.0</td>\n",
              "      <td>No</td>\n",
              "    </tr>\n",
              "    <tr>\n",
              "      <th>iPhone 7 Plus</th>\n",
              "      <td>2016-09-16</td>\n",
              "      <td>5.5</td>\n",
              "      <td>3GB</td>\n",
              "      <td>iOS 10.0</td>\n",
              "      <td>No</td>\n",
              "    </tr>\n",
              "    <tr>\n",
              "      <th>iPhone 8</th>\n",
              "      <td>2017-09-22</td>\n",
              "      <td>4.7</td>\n",
              "      <td>2GB</td>\n",
              "      <td>iOS 11.0</td>\n",
              "      <td>No</td>\n",
              "    </tr>\n",
              "    <tr>\n",
              "      <th>iPhone 8 Plus</th>\n",
              "      <td>2017-09-22</td>\n",
              "      <td>5.5</td>\n",
              "      <td>3GB</td>\n",
              "      <td>iOS 11.0</td>\n",
              "      <td>No</td>\n",
              "    </tr>\n",
              "    <tr>\n",
              "      <th>iPhone X</th>\n",
              "      <td>2018-10-26</td>\n",
              "      <td>6.1</td>\n",
              "      <td>3GB</td>\n",
              "      <td>ios 12.0.1</td>\n",
              "      <td>Yes</td>\n",
              "    </tr>\n",
              "    <tr>\n",
              "      <th>iPhone XS</th>\n",
              "      <td>2018-09-21</td>\n",
              "      <td>5.8</td>\n",
              "      <td>4GB</td>\n",
              "      <td>iOS 12.0</td>\n",
              "      <td>Yes</td>\n",
              "    </tr>\n",
              "    <tr>\n",
              "      <th>iPhone XS Max</th>\n",
              "      <td>2018-09-21</td>\n",
              "      <td>6.5</td>\n",
              "      <td>4GB</td>\n",
              "      <td>iOS 12.0</td>\n",
              "      <td>Yes</td>\n",
              "    </tr>\n",
              "  </tbody>\n",
              "</table>\n",
              "</div>"
            ],
            "text/plain": [
              "                      출시일  디스플레이  메모리       출시 버전 Face ID\n",
              "iPhone 7       2016-09-16    4.7  2GB    iOS 10.0      No\n",
              "iPhone 7 Plus  2016-09-16    5.5  3GB    iOS 10.0      No\n",
              "iPhone 8       2017-09-22    4.7  2GB    iOS 11.0      No\n",
              "iPhone 8 Plus  2017-09-22    5.5  3GB    iOS 11.0      No\n",
              "iPhone X       2018-10-26    6.1  3GB  ios 12.0.1     Yes\n",
              "iPhone XS      2018-09-21    5.8  4GB    iOS 12.0     Yes\n",
              "iPhone XS Max  2018-09-21    6.5  4GB    iOS 12.0     Yes"
            ]
          },
          "metadata": {
            "tags": []
          },
          "execution_count": 41
        }
      ]
    },
    {
      "cell_type": "code",
      "metadata": {
        "id": "9F0FKbWZITWD"
      },
      "source": [
        "iphone_df.drop(['iPhone 7','iPhone 8','iPhone X'],axis='index',inplace=True)"
      ],
      "execution_count": 42,
      "outputs": []
    },
    {
      "cell_type": "code",
      "metadata": {
        "colab": {
          "base_uri": "https://localhost:8080/",
          "height": 173
        },
        "id": "dtqqab25Ifgx",
        "outputId": "2f620ced-e1f0-4d0f-9efb-1c8d06d7067a"
      },
      "source": [
        "iphone_df"
      ],
      "execution_count": 43,
      "outputs": [
        {
          "output_type": "execute_result",
          "data": {
            "text/html": [
              "<div>\n",
              "<style scoped>\n",
              "    .dataframe tbody tr th:only-of-type {\n",
              "        vertical-align: middle;\n",
              "    }\n",
              "\n",
              "    .dataframe tbody tr th {\n",
              "        vertical-align: top;\n",
              "    }\n",
              "\n",
              "    .dataframe thead th {\n",
              "        text-align: right;\n",
              "    }\n",
              "</style>\n",
              "<table border=\"1\" class=\"dataframe\">\n",
              "  <thead>\n",
              "    <tr style=\"text-align: right;\">\n",
              "      <th></th>\n",
              "      <th>출시일</th>\n",
              "      <th>디스플레이</th>\n",
              "      <th>메모리</th>\n",
              "      <th>출시 버전</th>\n",
              "      <th>Face ID</th>\n",
              "    </tr>\n",
              "  </thead>\n",
              "  <tbody>\n",
              "    <tr>\n",
              "      <th>iPhone 7 Plus</th>\n",
              "      <td>2016-09-16</td>\n",
              "      <td>5.5</td>\n",
              "      <td>3GB</td>\n",
              "      <td>iOS 10.0</td>\n",
              "      <td>No</td>\n",
              "    </tr>\n",
              "    <tr>\n",
              "      <th>iPhone 8 Plus</th>\n",
              "      <td>2017-09-22</td>\n",
              "      <td>5.5</td>\n",
              "      <td>3GB</td>\n",
              "      <td>iOS 11.0</td>\n",
              "      <td>No</td>\n",
              "    </tr>\n",
              "    <tr>\n",
              "      <th>iPhone XS</th>\n",
              "      <td>2018-09-21</td>\n",
              "      <td>5.8</td>\n",
              "      <td>4GB</td>\n",
              "      <td>iOS 12.0</td>\n",
              "      <td>Yes</td>\n",
              "    </tr>\n",
              "    <tr>\n",
              "      <th>iPhone XS Max</th>\n",
              "      <td>2018-09-21</td>\n",
              "      <td>6.5</td>\n",
              "      <td>4GB</td>\n",
              "      <td>iOS 12.0</td>\n",
              "      <td>Yes</td>\n",
              "    </tr>\n",
              "  </tbody>\n",
              "</table>\n",
              "</div>"
            ],
            "text/plain": [
              "                      출시일  디스플레이  메모리     출시 버전 Face ID\n",
              "iPhone 7 Plus  2016-09-16    5.5  3GB  iOS 10.0      No\n",
              "iPhone 8 Plus  2017-09-22    5.5  3GB  iOS 11.0      No\n",
              "iPhone XS      2018-09-21    5.8  4GB  iOS 12.0     Yes\n",
              "iPhone XS Max  2018-09-21    6.5  4GB  iOS 12.0     Yes"
            ]
          },
          "metadata": {
            "tags": []
          },
          "execution_count": 43
        }
      ]
    },
    {
      "cell_type": "markdown",
      "metadata": {
        "id": "9bMPElU6LJ8N"
      },
      "source": [
        "\n",
        "\n",
        "---\n",
        "index/column 설정하기\n"
      ]
    },
    {
      "cell_type": "code",
      "metadata": {
        "colab": {
          "base_uri": "https://localhost:8080/",
          "height": 204
        },
        "id": "dY_doWh4LNZb",
        "outputId": "99ef991e-2811-4cb9-c47b-3c9709d29771"
      },
      "source": [
        "import pandas as pd\n",
        "liverpool_df=pd.read_csv('/content/drive/MyDrive/liverpool.csv',index_col=0)\n",
        "liverpool_df"
      ],
      "execution_count": 44,
      "outputs": [
        {
          "output_type": "execute_result",
          "data": {
            "text/html": [
              "<div>\n",
              "<style scoped>\n",
              "    .dataframe tbody tr th:only-of-type {\n",
              "        vertical-align: middle;\n",
              "    }\n",
              "\n",
              "    .dataframe tbody tr th {\n",
              "        vertical-align: top;\n",
              "    }\n",
              "\n",
              "    .dataframe thead th {\n",
              "        text-align: right;\n",
              "    }\n",
              "</style>\n",
              "<table border=\"1\" class=\"dataframe\">\n",
              "  <thead>\n",
              "    <tr style=\"text-align: right;\">\n",
              "      <th></th>\n",
              "      <th>position</th>\n",
              "      <th>born</th>\n",
              "      <th>number</th>\n",
              "      <th>nationality</th>\n",
              "    </tr>\n",
              "  </thead>\n",
              "  <tbody>\n",
              "    <tr>\n",
              "      <th>Roberto Firmino</th>\n",
              "      <td>FW</td>\n",
              "      <td>1991</td>\n",
              "      <td>no. 9</td>\n",
              "      <td>Brazil</td>\n",
              "    </tr>\n",
              "    <tr>\n",
              "      <th>Sadio Mane</th>\n",
              "      <td>FW</td>\n",
              "      <td>1992</td>\n",
              "      <td>no. 10</td>\n",
              "      <td>Senegal</td>\n",
              "    </tr>\n",
              "    <tr>\n",
              "      <th>Mohamed Salah</th>\n",
              "      <td>FW</td>\n",
              "      <td>1992</td>\n",
              "      <td>no. 11</td>\n",
              "      <td>Egypt</td>\n",
              "    </tr>\n",
              "    <tr>\n",
              "      <th>Joe Gomez</th>\n",
              "      <td>DF</td>\n",
              "      <td>1997</td>\n",
              "      <td>no. 12</td>\n",
              "      <td>England</td>\n",
              "    </tr>\n",
              "    <tr>\n",
              "      <th>Alisson Becker</th>\n",
              "      <td>GK</td>\n",
              "      <td>1992</td>\n",
              "      <td>no. 13</td>\n",
              "      <td>Brazil</td>\n",
              "    </tr>\n",
              "  </tbody>\n",
              "</table>\n",
              "</div>"
            ],
            "text/plain": [
              "                position  born  number nationality\n",
              "Roberto Firmino       FW  1991   no. 9      Brazil\n",
              "Sadio Mane            FW  1992  no. 10     Senegal\n",
              "Mohamed Salah         FW  1992  no. 11       Egypt\n",
              "Joe Gomez             DF  1997  no. 12     England\n",
              "Alisson Becker        GK  1992  no. 13      Brazil"
            ]
          },
          "metadata": {
            "tags": []
          },
          "execution_count": 44
        }
      ]
    },
    {
      "cell_type": "code",
      "metadata": {
        "colab": {
          "base_uri": "https://localhost:8080/",
          "height": 204
        },
        "id": "qfD3wcUgLb36",
        "outputId": "73b146f1-5fe2-4722-8732-0d1b04cac64b"
      },
      "source": [
        "liverpool_df.rename(columns={'position':'Position'})"
      ],
      "execution_count": 45,
      "outputs": [
        {
          "output_type": "execute_result",
          "data": {
            "text/html": [
              "<div>\n",
              "<style scoped>\n",
              "    .dataframe tbody tr th:only-of-type {\n",
              "        vertical-align: middle;\n",
              "    }\n",
              "\n",
              "    .dataframe tbody tr th {\n",
              "        vertical-align: top;\n",
              "    }\n",
              "\n",
              "    .dataframe thead th {\n",
              "        text-align: right;\n",
              "    }\n",
              "</style>\n",
              "<table border=\"1\" class=\"dataframe\">\n",
              "  <thead>\n",
              "    <tr style=\"text-align: right;\">\n",
              "      <th></th>\n",
              "      <th>Position</th>\n",
              "      <th>born</th>\n",
              "      <th>number</th>\n",
              "      <th>nationality</th>\n",
              "    </tr>\n",
              "  </thead>\n",
              "  <tbody>\n",
              "    <tr>\n",
              "      <th>Roberto Firmino</th>\n",
              "      <td>FW</td>\n",
              "      <td>1991</td>\n",
              "      <td>no. 9</td>\n",
              "      <td>Brazil</td>\n",
              "    </tr>\n",
              "    <tr>\n",
              "      <th>Sadio Mane</th>\n",
              "      <td>FW</td>\n",
              "      <td>1992</td>\n",
              "      <td>no. 10</td>\n",
              "      <td>Senegal</td>\n",
              "    </tr>\n",
              "    <tr>\n",
              "      <th>Mohamed Salah</th>\n",
              "      <td>FW</td>\n",
              "      <td>1992</td>\n",
              "      <td>no. 11</td>\n",
              "      <td>Egypt</td>\n",
              "    </tr>\n",
              "    <tr>\n",
              "      <th>Joe Gomez</th>\n",
              "      <td>DF</td>\n",
              "      <td>1997</td>\n",
              "      <td>no. 12</td>\n",
              "      <td>England</td>\n",
              "    </tr>\n",
              "    <tr>\n",
              "      <th>Alisson Becker</th>\n",
              "      <td>GK</td>\n",
              "      <td>1992</td>\n",
              "      <td>no. 13</td>\n",
              "      <td>Brazil</td>\n",
              "    </tr>\n",
              "  </tbody>\n",
              "</table>\n",
              "</div>"
            ],
            "text/plain": [
              "                Position  born  number nationality\n",
              "Roberto Firmino       FW  1991   no. 9      Brazil\n",
              "Sadio Mane            FW  1992  no. 10     Senegal\n",
              "Mohamed Salah         FW  1992  no. 11       Egypt\n",
              "Joe Gomez             DF  1997  no. 12     England\n",
              "Alisson Becker        GK  1992  no. 13      Brazil"
            ]
          },
          "metadata": {
            "tags": []
          },
          "execution_count": 45
        }
      ]
    },
    {
      "cell_type": "code",
      "metadata": {
        "colab": {
          "base_uri": "https://localhost:8080/",
          "height": 204
        },
        "id": "rqHk1zQbLue6",
        "outputId": "a0f83d68-bb48-486f-c216-efff6e14235b"
      },
      "source": [
        "liverpool_df"
      ],
      "execution_count": 46,
      "outputs": [
        {
          "output_type": "execute_result",
          "data": {
            "text/html": [
              "<div>\n",
              "<style scoped>\n",
              "    .dataframe tbody tr th:only-of-type {\n",
              "        vertical-align: middle;\n",
              "    }\n",
              "\n",
              "    .dataframe tbody tr th {\n",
              "        vertical-align: top;\n",
              "    }\n",
              "\n",
              "    .dataframe thead th {\n",
              "        text-align: right;\n",
              "    }\n",
              "</style>\n",
              "<table border=\"1\" class=\"dataframe\">\n",
              "  <thead>\n",
              "    <tr style=\"text-align: right;\">\n",
              "      <th></th>\n",
              "      <th>position</th>\n",
              "      <th>born</th>\n",
              "      <th>number</th>\n",
              "      <th>nationality</th>\n",
              "    </tr>\n",
              "  </thead>\n",
              "  <tbody>\n",
              "    <tr>\n",
              "      <th>Roberto Firmino</th>\n",
              "      <td>FW</td>\n",
              "      <td>1991</td>\n",
              "      <td>no. 9</td>\n",
              "      <td>Brazil</td>\n",
              "    </tr>\n",
              "    <tr>\n",
              "      <th>Sadio Mane</th>\n",
              "      <td>FW</td>\n",
              "      <td>1992</td>\n",
              "      <td>no. 10</td>\n",
              "      <td>Senegal</td>\n",
              "    </tr>\n",
              "    <tr>\n",
              "      <th>Mohamed Salah</th>\n",
              "      <td>FW</td>\n",
              "      <td>1992</td>\n",
              "      <td>no. 11</td>\n",
              "      <td>Egypt</td>\n",
              "    </tr>\n",
              "    <tr>\n",
              "      <th>Joe Gomez</th>\n",
              "      <td>DF</td>\n",
              "      <td>1997</td>\n",
              "      <td>no. 12</td>\n",
              "      <td>England</td>\n",
              "    </tr>\n",
              "    <tr>\n",
              "      <th>Alisson Becker</th>\n",
              "      <td>GK</td>\n",
              "      <td>1992</td>\n",
              "      <td>no. 13</td>\n",
              "      <td>Brazil</td>\n",
              "    </tr>\n",
              "  </tbody>\n",
              "</table>\n",
              "</div>"
            ],
            "text/plain": [
              "                position  born  number nationality\n",
              "Roberto Firmino       FW  1991   no. 9      Brazil\n",
              "Sadio Mane            FW  1992  no. 10     Senegal\n",
              "Mohamed Salah         FW  1992  no. 11       Egypt\n",
              "Joe Gomez             DF  1997  no. 12     England\n",
              "Alisson Becker        GK  1992  no. 13      Brazil"
            ]
          },
          "metadata": {
            "tags": []
          },
          "execution_count": 46
        }
      ]
    },
    {
      "cell_type": "code",
      "metadata": {
        "id": "C4gEAfpdLyPa"
      },
      "source": [
        "liverpool_df.rename(columns={'position':'Position'},inplace=True)"
      ],
      "execution_count": 47,
      "outputs": []
    },
    {
      "cell_type": "code",
      "metadata": {
        "colab": {
          "base_uri": "https://localhost:8080/",
          "height": 204
        },
        "id": "ed0-I5EqL5Nb",
        "outputId": "fcdb42fb-0d9c-48ba-e821-5e63937bde41"
      },
      "source": [
        "liverpool_df"
      ],
      "execution_count": 49,
      "outputs": [
        {
          "output_type": "execute_result",
          "data": {
            "text/html": [
              "<div>\n",
              "<style scoped>\n",
              "    .dataframe tbody tr th:only-of-type {\n",
              "        vertical-align: middle;\n",
              "    }\n",
              "\n",
              "    .dataframe tbody tr th {\n",
              "        vertical-align: top;\n",
              "    }\n",
              "\n",
              "    .dataframe thead th {\n",
              "        text-align: right;\n",
              "    }\n",
              "</style>\n",
              "<table border=\"1\" class=\"dataframe\">\n",
              "  <thead>\n",
              "    <tr style=\"text-align: right;\">\n",
              "      <th></th>\n",
              "      <th>Position</th>\n",
              "      <th>born</th>\n",
              "      <th>number</th>\n",
              "      <th>nationality</th>\n",
              "    </tr>\n",
              "  </thead>\n",
              "  <tbody>\n",
              "    <tr>\n",
              "      <th>Roberto Firmino</th>\n",
              "      <td>FW</td>\n",
              "      <td>1991</td>\n",
              "      <td>no. 9</td>\n",
              "      <td>Brazil</td>\n",
              "    </tr>\n",
              "    <tr>\n",
              "      <th>Sadio Mane</th>\n",
              "      <td>FW</td>\n",
              "      <td>1992</td>\n",
              "      <td>no. 10</td>\n",
              "      <td>Senegal</td>\n",
              "    </tr>\n",
              "    <tr>\n",
              "      <th>Mohamed Salah</th>\n",
              "      <td>FW</td>\n",
              "      <td>1992</td>\n",
              "      <td>no. 11</td>\n",
              "      <td>Egypt</td>\n",
              "    </tr>\n",
              "    <tr>\n",
              "      <th>Joe Gomez</th>\n",
              "      <td>DF</td>\n",
              "      <td>1997</td>\n",
              "      <td>no. 12</td>\n",
              "      <td>England</td>\n",
              "    </tr>\n",
              "    <tr>\n",
              "      <th>Alisson Becker</th>\n",
              "      <td>GK</td>\n",
              "      <td>1992</td>\n",
              "      <td>no. 13</td>\n",
              "      <td>Brazil</td>\n",
              "    </tr>\n",
              "  </tbody>\n",
              "</table>\n",
              "</div>"
            ],
            "text/plain": [
              "                Position  born  number nationality\n",
              "Roberto Firmino       FW  1991   no. 9      Brazil\n",
              "Sadio Mane            FW  1992  no. 10     Senegal\n",
              "Mohamed Salah         FW  1992  no. 11       Egypt\n",
              "Joe Gomez             DF  1997  no. 12     England\n",
              "Alisson Becker        GK  1992  no. 13      Brazil"
            ]
          },
          "metadata": {
            "tags": []
          },
          "execution_count": 49
        }
      ]
    },
    {
      "cell_type": "code",
      "metadata": {
        "id": "9w_mlqfQL8Pa"
      },
      "source": [
        "liverpool_df.rename(columns={'position':'Position','born':'Born','number':'Number','nationality':'Nationality'},inplace=True)"
      ],
      "execution_count": 50,
      "outputs": []
    },
    {
      "cell_type": "code",
      "metadata": {
        "colab": {
          "base_uri": "https://localhost:8080/",
          "height": 204
        },
        "id": "qJmqRr20MJIa",
        "outputId": "1948b8a5-62e3-4ed1-8f9c-88102d36e8f7"
      },
      "source": [
        "liverpool_df"
      ],
      "execution_count": 51,
      "outputs": [
        {
          "output_type": "execute_result",
          "data": {
            "text/html": [
              "<div>\n",
              "<style scoped>\n",
              "    .dataframe tbody tr th:only-of-type {\n",
              "        vertical-align: middle;\n",
              "    }\n",
              "\n",
              "    .dataframe tbody tr th {\n",
              "        vertical-align: top;\n",
              "    }\n",
              "\n",
              "    .dataframe thead th {\n",
              "        text-align: right;\n",
              "    }\n",
              "</style>\n",
              "<table border=\"1\" class=\"dataframe\">\n",
              "  <thead>\n",
              "    <tr style=\"text-align: right;\">\n",
              "      <th></th>\n",
              "      <th>Position</th>\n",
              "      <th>Born</th>\n",
              "      <th>Number</th>\n",
              "      <th>Nationality</th>\n",
              "    </tr>\n",
              "  </thead>\n",
              "  <tbody>\n",
              "    <tr>\n",
              "      <th>Roberto Firmino</th>\n",
              "      <td>FW</td>\n",
              "      <td>1991</td>\n",
              "      <td>no. 9</td>\n",
              "      <td>Brazil</td>\n",
              "    </tr>\n",
              "    <tr>\n",
              "      <th>Sadio Mane</th>\n",
              "      <td>FW</td>\n",
              "      <td>1992</td>\n",
              "      <td>no. 10</td>\n",
              "      <td>Senegal</td>\n",
              "    </tr>\n",
              "    <tr>\n",
              "      <th>Mohamed Salah</th>\n",
              "      <td>FW</td>\n",
              "      <td>1992</td>\n",
              "      <td>no. 11</td>\n",
              "      <td>Egypt</td>\n",
              "    </tr>\n",
              "    <tr>\n",
              "      <th>Joe Gomez</th>\n",
              "      <td>DF</td>\n",
              "      <td>1997</td>\n",
              "      <td>no. 12</td>\n",
              "      <td>England</td>\n",
              "    </tr>\n",
              "    <tr>\n",
              "      <th>Alisson Becker</th>\n",
              "      <td>GK</td>\n",
              "      <td>1992</td>\n",
              "      <td>no. 13</td>\n",
              "      <td>Brazil</td>\n",
              "    </tr>\n",
              "  </tbody>\n",
              "</table>\n",
              "</div>"
            ],
            "text/plain": [
              "                Position  Born  Number Nationality\n",
              "Roberto Firmino       FW  1991   no. 9      Brazil\n",
              "Sadio Mane            FW  1992  no. 10     Senegal\n",
              "Mohamed Salah         FW  1992  no. 11       Egypt\n",
              "Joe Gomez             DF  1997  no. 12     England\n",
              "Alisson Becker        GK  1992  no. 13      Brazil"
            ]
          },
          "metadata": {
            "tags": []
          },
          "execution_count": 51
        }
      ]
    },
    {
      "cell_type": "code",
      "metadata": {
        "colab": {
          "base_uri": "https://localhost:8080/",
          "height": 235
        },
        "id": "qI1ovTmQMPLz",
        "outputId": "deece820-5670-4c43-e89b-e511101138a2"
      },
      "source": [
        "liverpool_df.index.name = 'Player Name'\n",
        "liverpool_df"
      ],
      "execution_count": 52,
      "outputs": [
        {
          "output_type": "execute_result",
          "data": {
            "text/html": [
              "<div>\n",
              "<style scoped>\n",
              "    .dataframe tbody tr th:only-of-type {\n",
              "        vertical-align: middle;\n",
              "    }\n",
              "\n",
              "    .dataframe tbody tr th {\n",
              "        vertical-align: top;\n",
              "    }\n",
              "\n",
              "    .dataframe thead th {\n",
              "        text-align: right;\n",
              "    }\n",
              "</style>\n",
              "<table border=\"1\" class=\"dataframe\">\n",
              "  <thead>\n",
              "    <tr style=\"text-align: right;\">\n",
              "      <th></th>\n",
              "      <th>Position</th>\n",
              "      <th>Born</th>\n",
              "      <th>Number</th>\n",
              "      <th>Nationality</th>\n",
              "    </tr>\n",
              "    <tr>\n",
              "      <th>Player Name</th>\n",
              "      <th></th>\n",
              "      <th></th>\n",
              "      <th></th>\n",
              "      <th></th>\n",
              "    </tr>\n",
              "  </thead>\n",
              "  <tbody>\n",
              "    <tr>\n",
              "      <th>Roberto Firmino</th>\n",
              "      <td>FW</td>\n",
              "      <td>1991</td>\n",
              "      <td>no. 9</td>\n",
              "      <td>Brazil</td>\n",
              "    </tr>\n",
              "    <tr>\n",
              "      <th>Sadio Mane</th>\n",
              "      <td>FW</td>\n",
              "      <td>1992</td>\n",
              "      <td>no. 10</td>\n",
              "      <td>Senegal</td>\n",
              "    </tr>\n",
              "    <tr>\n",
              "      <th>Mohamed Salah</th>\n",
              "      <td>FW</td>\n",
              "      <td>1992</td>\n",
              "      <td>no. 11</td>\n",
              "      <td>Egypt</td>\n",
              "    </tr>\n",
              "    <tr>\n",
              "      <th>Joe Gomez</th>\n",
              "      <td>DF</td>\n",
              "      <td>1997</td>\n",
              "      <td>no. 12</td>\n",
              "      <td>England</td>\n",
              "    </tr>\n",
              "    <tr>\n",
              "      <th>Alisson Becker</th>\n",
              "      <td>GK</td>\n",
              "      <td>1992</td>\n",
              "      <td>no. 13</td>\n",
              "      <td>Brazil</td>\n",
              "    </tr>\n",
              "  </tbody>\n",
              "</table>\n",
              "</div>"
            ],
            "text/plain": [
              "                Position  Born  Number Nationality\n",
              "Player Name                                       \n",
              "Roberto Firmino       FW  1991   no. 9      Brazil\n",
              "Sadio Mane            FW  1992  no. 10     Senegal\n",
              "Mohamed Salah         FW  1992  no. 11       Egypt\n",
              "Joe Gomez             DF  1997  no. 12     England\n",
              "Alisson Becker        GK  1992  no. 13      Brazil"
            ]
          },
          "metadata": {
            "tags": []
          },
          "execution_count": 52
        }
      ]
    },
    {
      "cell_type": "code",
      "metadata": {
        "colab": {
          "base_uri": "https://localhost:8080/",
          "height": 235
        },
        "id": "BbK6JNkHMcob",
        "outputId": "0295e0fc-1082-4668-8d94-810976cb6b75"
      },
      "source": [
        "liverpool_df.set_index('Number')"
      ],
      "execution_count": 53,
      "outputs": [
        {
          "output_type": "execute_result",
          "data": {
            "text/html": [
              "<div>\n",
              "<style scoped>\n",
              "    .dataframe tbody tr th:only-of-type {\n",
              "        vertical-align: middle;\n",
              "    }\n",
              "\n",
              "    .dataframe tbody tr th {\n",
              "        vertical-align: top;\n",
              "    }\n",
              "\n",
              "    .dataframe thead th {\n",
              "        text-align: right;\n",
              "    }\n",
              "</style>\n",
              "<table border=\"1\" class=\"dataframe\">\n",
              "  <thead>\n",
              "    <tr style=\"text-align: right;\">\n",
              "      <th></th>\n",
              "      <th>Position</th>\n",
              "      <th>Born</th>\n",
              "      <th>Nationality</th>\n",
              "    </tr>\n",
              "    <tr>\n",
              "      <th>Number</th>\n",
              "      <th></th>\n",
              "      <th></th>\n",
              "      <th></th>\n",
              "    </tr>\n",
              "  </thead>\n",
              "  <tbody>\n",
              "    <tr>\n",
              "      <th>no. 9</th>\n",
              "      <td>FW</td>\n",
              "      <td>1991</td>\n",
              "      <td>Brazil</td>\n",
              "    </tr>\n",
              "    <tr>\n",
              "      <th>no. 10</th>\n",
              "      <td>FW</td>\n",
              "      <td>1992</td>\n",
              "      <td>Senegal</td>\n",
              "    </tr>\n",
              "    <tr>\n",
              "      <th>no. 11</th>\n",
              "      <td>FW</td>\n",
              "      <td>1992</td>\n",
              "      <td>Egypt</td>\n",
              "    </tr>\n",
              "    <tr>\n",
              "      <th>no. 12</th>\n",
              "      <td>DF</td>\n",
              "      <td>1997</td>\n",
              "      <td>England</td>\n",
              "    </tr>\n",
              "    <tr>\n",
              "      <th>no. 13</th>\n",
              "      <td>GK</td>\n",
              "      <td>1992</td>\n",
              "      <td>Brazil</td>\n",
              "    </tr>\n",
              "  </tbody>\n",
              "</table>\n",
              "</div>"
            ],
            "text/plain": [
              "       Position  Born Nationality\n",
              "Number                           \n",
              "no. 9        FW  1991      Brazil\n",
              "no. 10       FW  1992     Senegal\n",
              "no. 11       FW  1992       Egypt\n",
              "no. 12       DF  1997     England\n",
              "no. 13       GK  1992      Brazil"
            ]
          },
          "metadata": {
            "tags": []
          },
          "execution_count": 53
        }
      ]
    },
    {
      "cell_type": "code",
      "metadata": {
        "colab": {
          "base_uri": "https://localhost:8080/"
        },
        "id": "y7nx3PKvMjju",
        "outputId": "45366fe8-0649-470d-f59a-01798014c9b2"
      },
      "source": [
        "liverpool_df.index"
      ],
      "execution_count": 54,
      "outputs": [
        {
          "output_type": "execute_result",
          "data": {
            "text/plain": [
              "Index(['Roberto Firmino', 'Sadio Mane', 'Mohamed Salah', 'Joe Gomez',\n",
              "       'Alisson Becker'],\n",
              "      dtype='object', name='Player Name')"
            ]
          },
          "metadata": {
            "tags": []
          },
          "execution_count": 54
        }
      ]
    },
    {
      "cell_type": "code",
      "metadata": {
        "id": "elcwXm5NMltd"
      },
      "source": [
        "liverpool_df['Player Name'] =liverpool_df.index"
      ],
      "execution_count": 55,
      "outputs": []
    },
    {
      "cell_type": "code",
      "metadata": {
        "colab": {
          "base_uri": "https://localhost:8080/",
          "height": 235
        },
        "id": "kZi6QcnKMrAz",
        "outputId": "2e5e22b3-2fd8-4b47-e848-a6161dd8406d"
      },
      "source": [
        "liverpool_df"
      ],
      "execution_count": 56,
      "outputs": [
        {
          "output_type": "execute_result",
          "data": {
            "text/html": [
              "<div>\n",
              "<style scoped>\n",
              "    .dataframe tbody tr th:only-of-type {\n",
              "        vertical-align: middle;\n",
              "    }\n",
              "\n",
              "    .dataframe tbody tr th {\n",
              "        vertical-align: top;\n",
              "    }\n",
              "\n",
              "    .dataframe thead th {\n",
              "        text-align: right;\n",
              "    }\n",
              "</style>\n",
              "<table border=\"1\" class=\"dataframe\">\n",
              "  <thead>\n",
              "    <tr style=\"text-align: right;\">\n",
              "      <th></th>\n",
              "      <th>Position</th>\n",
              "      <th>Born</th>\n",
              "      <th>Number</th>\n",
              "      <th>Nationality</th>\n",
              "      <th>Player Name</th>\n",
              "    </tr>\n",
              "    <tr>\n",
              "      <th>Player Name</th>\n",
              "      <th></th>\n",
              "      <th></th>\n",
              "      <th></th>\n",
              "      <th></th>\n",
              "      <th></th>\n",
              "    </tr>\n",
              "  </thead>\n",
              "  <tbody>\n",
              "    <tr>\n",
              "      <th>Roberto Firmino</th>\n",
              "      <td>FW</td>\n",
              "      <td>1991</td>\n",
              "      <td>no. 9</td>\n",
              "      <td>Brazil</td>\n",
              "      <td>Roberto Firmino</td>\n",
              "    </tr>\n",
              "    <tr>\n",
              "      <th>Sadio Mane</th>\n",
              "      <td>FW</td>\n",
              "      <td>1992</td>\n",
              "      <td>no. 10</td>\n",
              "      <td>Senegal</td>\n",
              "      <td>Sadio Mane</td>\n",
              "    </tr>\n",
              "    <tr>\n",
              "      <th>Mohamed Salah</th>\n",
              "      <td>FW</td>\n",
              "      <td>1992</td>\n",
              "      <td>no. 11</td>\n",
              "      <td>Egypt</td>\n",
              "      <td>Mohamed Salah</td>\n",
              "    </tr>\n",
              "    <tr>\n",
              "      <th>Joe Gomez</th>\n",
              "      <td>DF</td>\n",
              "      <td>1997</td>\n",
              "      <td>no. 12</td>\n",
              "      <td>England</td>\n",
              "      <td>Joe Gomez</td>\n",
              "    </tr>\n",
              "    <tr>\n",
              "      <th>Alisson Becker</th>\n",
              "      <td>GK</td>\n",
              "      <td>1992</td>\n",
              "      <td>no. 13</td>\n",
              "      <td>Brazil</td>\n",
              "      <td>Alisson Becker</td>\n",
              "    </tr>\n",
              "  </tbody>\n",
              "</table>\n",
              "</div>"
            ],
            "text/plain": [
              "                Position  Born  Number Nationality      Player Name\n",
              "Player Name                                                        \n",
              "Roberto Firmino       FW  1991   no. 9      Brazil  Roberto Firmino\n",
              "Sadio Mane            FW  1992  no. 10     Senegal       Sadio Mane\n",
              "Mohamed Salah         FW  1992  no. 11       Egypt    Mohamed Salah\n",
              "Joe Gomez             DF  1997  no. 12     England        Joe Gomez\n",
              "Alisson Becker        GK  1992  no. 13      Brazil   Alisson Becker"
            ]
          },
          "metadata": {
            "tags": []
          },
          "execution_count": 56
        }
      ]
    },
    {
      "cell_type": "code",
      "metadata": {
        "colab": {
          "base_uri": "https://localhost:8080/",
          "height": 235
        },
        "id": "ZGrHwEHPMspt",
        "outputId": "54039883-833a-458c-afc4-3310f4d2889c"
      },
      "source": [
        "liverpool_df.set_index('Number',inplace=True)\n",
        "liverpool_df"
      ],
      "execution_count": 57,
      "outputs": [
        {
          "output_type": "execute_result",
          "data": {
            "text/html": [
              "<div>\n",
              "<style scoped>\n",
              "    .dataframe tbody tr th:only-of-type {\n",
              "        vertical-align: middle;\n",
              "    }\n",
              "\n",
              "    .dataframe tbody tr th {\n",
              "        vertical-align: top;\n",
              "    }\n",
              "\n",
              "    .dataframe thead th {\n",
              "        text-align: right;\n",
              "    }\n",
              "</style>\n",
              "<table border=\"1\" class=\"dataframe\">\n",
              "  <thead>\n",
              "    <tr style=\"text-align: right;\">\n",
              "      <th></th>\n",
              "      <th>Position</th>\n",
              "      <th>Born</th>\n",
              "      <th>Nationality</th>\n",
              "      <th>Player Name</th>\n",
              "    </tr>\n",
              "    <tr>\n",
              "      <th>Number</th>\n",
              "      <th></th>\n",
              "      <th></th>\n",
              "      <th></th>\n",
              "      <th></th>\n",
              "    </tr>\n",
              "  </thead>\n",
              "  <tbody>\n",
              "    <tr>\n",
              "      <th>no. 9</th>\n",
              "      <td>FW</td>\n",
              "      <td>1991</td>\n",
              "      <td>Brazil</td>\n",
              "      <td>Roberto Firmino</td>\n",
              "    </tr>\n",
              "    <tr>\n",
              "      <th>no. 10</th>\n",
              "      <td>FW</td>\n",
              "      <td>1992</td>\n",
              "      <td>Senegal</td>\n",
              "      <td>Sadio Mane</td>\n",
              "    </tr>\n",
              "    <tr>\n",
              "      <th>no. 11</th>\n",
              "      <td>FW</td>\n",
              "      <td>1992</td>\n",
              "      <td>Egypt</td>\n",
              "      <td>Mohamed Salah</td>\n",
              "    </tr>\n",
              "    <tr>\n",
              "      <th>no. 12</th>\n",
              "      <td>DF</td>\n",
              "      <td>1997</td>\n",
              "      <td>England</td>\n",
              "      <td>Joe Gomez</td>\n",
              "    </tr>\n",
              "    <tr>\n",
              "      <th>no. 13</th>\n",
              "      <td>GK</td>\n",
              "      <td>1992</td>\n",
              "      <td>Brazil</td>\n",
              "      <td>Alisson Becker</td>\n",
              "    </tr>\n",
              "  </tbody>\n",
              "</table>\n",
              "</div>"
            ],
            "text/plain": [
              "       Position  Born Nationality      Player Name\n",
              "Number                                            \n",
              "no. 9        FW  1991      Brazil  Roberto Firmino\n",
              "no. 10       FW  1992     Senegal       Sadio Mane\n",
              "no. 11       FW  1992       Egypt    Mohamed Salah\n",
              "no. 12       DF  1997     England        Joe Gomez\n",
              "no. 13       GK  1992      Brazil   Alisson Becker"
            ]
          },
          "metadata": {
            "tags": []
          },
          "execution_count": 57
        }
      ]
    }
  ]
}