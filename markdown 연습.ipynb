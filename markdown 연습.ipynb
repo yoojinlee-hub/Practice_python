{
 "cells": [
  {
   "cell_type": "markdown",
   "id": "38710f0d",
   "metadata": {},
   "source": [
    "# 가장 큰 제목\n",
    "## 두번째 큰 제목\n",
    "### 세번째 큰 제목\n",
    "\n",
    "이렇게 글을 작성할 수 있습니다."
   ]
  },
  {
   "cell_type": "markdown",
   "id": "0180dab6",
   "metadata": {},
   "source": [
    "글을 **두껍게** 쓸 수도 있고, *날려* 쓸 수도 있습니다"
   ]
  },
  {
   "cell_type": "markdown",
   "id": "71768f65",
   "metadata": {},
   "source": [
    "이렇게 리스트를 쓸 수 있음\n",
    "* list 1\n",
    "* list 2\n",
    "* list 3"
   ]
  }
 ],
 "metadata": {
  "kernelspec": {
   "display_name": "Python 3",
   "language": "python",
   "name": "python3"
  },
  "language_info": {
   "codemirror_mode": {
    "name": "ipython",
    "version": 3
   },
   "file_extension": ".py",
   "mimetype": "text/x-python",
   "name": "python",
   "nbconvert_exporter": "python",
   "pygments_lexer": "ipython3",
   "version": "3.8.8"
  }
 },
 "nbformat": 4,
 "nbformat_minor": 5
}
