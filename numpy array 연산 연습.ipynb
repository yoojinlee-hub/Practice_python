{
  "nbformat": 4,
  "nbformat_minor": 0,
  "metadata": {
    "colab": {
      "name": "Untitled13.ipynb",
      "provenance": [],
      "authorship_tag": "ABX9TyPZh0TsfD7y2LrpRS+6zIrX",
      "include_colab_link": true
    },
    "kernelspec": {
      "name": "python3",
      "display_name": "Python 3"
    },
    "language_info": {
      "name": "python"
    }
  },
  "cells": [
    {
      "cell_type": "markdown",
      "metadata": {
        "id": "view-in-github",
        "colab_type": "text"
      },
      "source": [
        "<a href=\"https://colab.research.google.com/github/yoojinlee-hub/Practice_python/blob/main/numpy%20array%20%EC%97%B0%EC%82%B0%20%EC%97%B0%EC%8A%B5.ipynb\" target=\"_parent\"><img src=\"https://colab.research.google.com/assets/colab-badge.svg\" alt=\"Open In Colab\"/></a>"
      ]
    },
    {
      "cell_type": "code",
      "metadata": {
        "id": "2GffmThFPqdR"
      },
      "source": [
        "import numpy as np\n",
        "array1=np.array([2,3,5,7,11,13,17,19,23,29,31])"
      ],
      "execution_count": 1,
      "outputs": []
    },
    {
      "cell_type": "markdown",
      "metadata": {
        "id": "3l8FtHEKQBK1"
      },
      "source": [
        "인덱싱"
      ]
    },
    {
      "cell_type": "code",
      "metadata": {
        "colab": {
          "base_uri": "https://localhost:8080/"
        },
        "id": "YC6hVFGgP1lW",
        "outputId": "2d8f9cdc-ae22-4966-f5ca-1b1cefe80f93"
      },
      "source": [
        "array1[-1]"
      ],
      "execution_count": 3,
      "outputs": [
        {
          "output_type": "execute_result",
          "data": {
            "text/plain": [
              "31"
            ]
          },
          "metadata": {
            "tags": []
          },
          "execution_count": 3
        }
      ]
    },
    {
      "cell_type": "code",
      "metadata": {
        "colab": {
          "base_uri": "https://localhost:8080/"
        },
        "id": "GMm6X_E0QDrD",
        "outputId": "2f19f6d6-5453-4303-efcc-e99a59d3e5ef"
      },
      "source": [
        "array1[[1,3,4]]"
      ],
      "execution_count": 4,
      "outputs": [
        {
          "output_type": "execute_result",
          "data": {
            "text/plain": [
              "array([ 3,  7, 11])"
            ]
          },
          "metadata": {
            "tags": []
          },
          "execution_count": 4
        }
      ]
    },
    {
      "cell_type": "code",
      "metadata": {
        "colab": {
          "base_uri": "https://localhost:8080/"
        },
        "id": "5Sw5nYt7QNMU",
        "outputId": "e800ca8e-83b6-4b88-b872-3f11dd3b33eb"
      },
      "source": [
        "array2=np.array([2,1,3])\n",
        "array1[array2]"
      ],
      "execution_count": 5,
      "outputs": [
        {
          "output_type": "execute_result",
          "data": {
            "text/plain": [
              "array([5, 3, 7])"
            ]
          },
          "metadata": {
            "tags": []
          },
          "execution_count": 5
        }
      ]
    },
    {
      "cell_type": "markdown",
      "metadata": {
        "id": "kZJ0EPgFQYlz"
      },
      "source": [
        "슬라이싱"
      ]
    },
    {
      "cell_type": "code",
      "metadata": {
        "colab": {
          "base_uri": "https://localhost:8080/"
        },
        "id": "bzMVKxNoQZy7",
        "outputId": "9ce5284d-3dbc-405e-8e16-450a9ace8dd3"
      },
      "source": [
        "array1[2:7]"
      ],
      "execution_count": 6,
      "outputs": [
        {
          "output_type": "execute_result",
          "data": {
            "text/plain": [
              "array([ 5,  7, 11, 13, 17])"
            ]
          },
          "metadata": {
            "tags": []
          },
          "execution_count": 6
        }
      ]
    },
    {
      "cell_type": "code",
      "metadata": {
        "colab": {
          "base_uri": "https://localhost:8080/"
        },
        "id": "JwLpLuUZQgry",
        "outputId": "2a8ef0b1-8c34-42c7-8fb3-6b6fbdcbc532"
      },
      "source": [
        "array1[:7]"
      ],
      "execution_count": 7,
      "outputs": [
        {
          "output_type": "execute_result",
          "data": {
            "text/plain": [
              "array([ 2,  3,  5,  7, 11, 13, 17])"
            ]
          },
          "metadata": {
            "tags": []
          },
          "execution_count": 7
        }
      ]
    },
    {
      "cell_type": "code",
      "metadata": {
        "colab": {
          "base_uri": "https://localhost:8080/"
        },
        "id": "Ny0KWIWHQj_j",
        "outputId": "148b952a-a379-4849-b941-d80f02a1e9e8"
      },
      "source": [
        "array1[2:]"
      ],
      "execution_count": 8,
      "outputs": [
        {
          "output_type": "execute_result",
          "data": {
            "text/plain": [
              "array([ 5,  7, 11, 13, 17, 19, 23, 29, 31])"
            ]
          },
          "metadata": {
            "tags": []
          },
          "execution_count": 8
        }
      ]
    },
    {
      "cell_type": "code",
      "metadata": {
        "colab": {
          "base_uri": "https://localhost:8080/"
        },
        "id": "8BnMjoIMQok6",
        "outputId": "368614eb-84ae-4f31-b196-30c2ccebde3e"
      },
      "source": [
        "array1[2:11:2]"
      ],
      "execution_count": 10,
      "outputs": [
        {
          "output_type": "execute_result",
          "data": {
            "text/plain": [
              "array([ 5, 11, 17, 23, 31])"
            ]
          },
          "metadata": {
            "tags": []
          },
          "execution_count": 10
        }
      ]
    },
    {
      "cell_type": "markdown",
      "metadata": {
        "id": "73miV5EvQ36b"
      },
      "source": [
        "numpy 기본연산"
      ]
    },
    {
      "cell_type": "code",
      "metadata": {
        "id": "W0cU4iqoQ54E"
      },
      "source": [
        "array1=np.arange(10)\n",
        "array2=np.arange(10,20)"
      ],
      "execution_count": 23,
      "outputs": []
    },
    {
      "cell_type": "code",
      "metadata": {
        "colab": {
          "base_uri": "https://localhost:8080/"
        },
        "id": "mZSFnHzuRD07",
        "outputId": "25fb7c23-931d-4dd1-98bb-4f30a8859eb6"
      },
      "source": [
        "array1"
      ],
      "execution_count": 24,
      "outputs": [
        {
          "output_type": "execute_result",
          "data": {
            "text/plain": [
              "array([0, 1, 2, 3, 4, 5, 6, 7, 8, 9])"
            ]
          },
          "metadata": {
            "tags": []
          },
          "execution_count": 24
        }
      ]
    },
    {
      "cell_type": "code",
      "metadata": {
        "colab": {
          "base_uri": "https://localhost:8080/"
        },
        "id": "PaNWcw75RFCM",
        "outputId": "bbe82d70-ab5a-4e41-cf09-6d43d5bd6b39"
      },
      "source": [
        "array2"
      ],
      "execution_count": 15,
      "outputs": [
        {
          "output_type": "execute_result",
          "data": {
            "text/plain": [
              "array([10, 11, 12, 13, 14, 15, 16, 17, 18, 19])"
            ]
          },
          "metadata": {
            "tags": []
          },
          "execution_count": 15
        }
      ]
    },
    {
      "cell_type": "code",
      "metadata": {
        "colab": {
          "base_uri": "https://localhost:8080/"
        },
        "id": "nHCtcBF1RWts",
        "outputId": "97b7b9dc-1c23-4cf6-a7e4-54cf02f2856e"
      },
      "source": [
        "array1*2"
      ],
      "execution_count": 25,
      "outputs": [
        {
          "output_type": "execute_result",
          "data": {
            "text/plain": [
              "array([ 0,  2,  4,  6,  8, 10, 12, 14, 16, 18])"
            ]
          },
          "metadata": {
            "tags": []
          },
          "execution_count": 25
        }
      ]
    },
    {
      "cell_type": "code",
      "metadata": {
        "colab": {
          "base_uri": "https://localhost:8080/"
        },
        "id": "jUrrtT48Rg0d",
        "outputId": "a7e193ae-1c28-403c-a94c-d47f9f4a8411"
      },
      "source": [
        "array1 **2"
      ],
      "execution_count": 27,
      "outputs": [
        {
          "output_type": "execute_result",
          "data": {
            "text/plain": [
              "array([  0,   4,  16,  36,  64, 100, 144, 196, 256, 324])"
            ]
          },
          "metadata": {
            "tags": []
          },
          "execution_count": 27
        }
      ]
    },
    {
      "cell_type": "code",
      "metadata": {
        "id": "yAYfn-vVRrk7"
      },
      "source": [
        "array1=np.arange(10)\n",
        "array2=np.arange(10,20)"
      ],
      "execution_count": 28,
      "outputs": []
    },
    {
      "cell_type": "code",
      "metadata": {
        "colab": {
          "base_uri": "https://localhost:8080/"
        },
        "id": "d497Hkb4RtND",
        "outputId": "d433a0cd-4829-4115-dbce-d09803befd0a"
      },
      "source": [
        "array1+array2"
      ],
      "execution_count": 29,
      "outputs": [
        {
          "output_type": "execute_result",
          "data": {
            "text/plain": [
              "array([10, 12, 14, 16, 18, 20, 22, 24, 26, 28])"
            ]
          },
          "metadata": {
            "tags": []
          },
          "execution_count": 29
        }
      ]
    },
    {
      "cell_type": "code",
      "metadata": {
        "colab": {
          "base_uri": "https://localhost:8080/"
        },
        "id": "NSul08hzR-f9",
        "outputId": "7e11f9cf-ae21-4fc2-ebeb-8c10ab87fbb3"
      },
      "source": [
        "array1*array2"
      ],
      "execution_count": 30,
      "outputs": [
        {
          "output_type": "execute_result",
          "data": {
            "text/plain": [
              "array([  0,  11,  24,  39,  56,  75,  96, 119, 144, 171])"
            ]
          },
          "metadata": {
            "tags": []
          },
          "execution_count": 30
        }
      ]
    },
    {
      "cell_type": "code",
      "metadata": {
        "colab": {
          "base_uri": "https://localhost:8080/"
        },
        "id": "kOYE294-SA1z",
        "outputId": "9f3700fe-e547-4364-b563-3bc1c6096e0c"
      },
      "source": [
        "array1/array2"
      ],
      "execution_count": 31,
      "outputs": [
        {
          "output_type": "execute_result",
          "data": {
            "text/plain": [
              "array([0.        , 0.09090909, 0.16666667, 0.23076923, 0.28571429,\n",
              "       0.33333333, 0.375     , 0.41176471, 0.44444444, 0.47368421])"
            ]
          },
          "metadata": {
            "tags": []
          },
          "execution_count": 31
        }
      ]
    },
    {
      "cell_type": "markdown",
      "metadata": {
        "id": "pHUIlPdtS-uV"
      },
      "source": [
        "신주쿠 흥부부대찌개"
      ]
    },
    {
      "cell_type": "code",
      "metadata": {
        "colab": {
          "base_uri": "https://localhost:8080/"
        },
        "id": "5yJnwsfxTAjT",
        "outputId": "2cccd9b0-0157-4c0a-8b95-e837b19671be"
      },
      "source": [
        "import numpy as np\n",
        "\n",
        "revenue_in_yen = [\n",
        "    300000, 340000, 320000, 360000, \n",
        "    440000, 140000, 180000, 340000, \n",
        "    330000, 290000, 280000, 380000, \n",
        "    170000, 140000, 230000, 390000, \n",
        "    400000, 350000, 380000, 150000, \n",
        "    110000, 240000, 380000, 380000, \n",
        "    340000, 420000, 150000, 130000, \n",
        "    360000, 320000, 250000\n",
        "]\n",
        "\n",
        "# 코드를 작성하세요.\n",
        "yen=np.array(revenue_in_yen) # 리스트를 numpy array로 바꾸기\n",
        "won_array=yen*10.08\n",
        "# 정답 출력\n",
        "won_array"
      ],
      "execution_count": 32,
      "outputs": [
        {
          "output_type": "execute_result",
          "data": {
            "text/plain": [
              "array([3024000., 3427200., 3225600., 3628800., 4435200., 1411200.,\n",
              "       1814400., 3427200., 3326400., 2923200., 2822400., 3830400.,\n",
              "       1713600., 1411200., 2318400., 3931200., 4032000., 3528000.,\n",
              "       3830400., 1512000., 1108800., 2419200., 3830400., 3830400.,\n",
              "       3427200., 4233600., 1512000., 1310400., 3628800., 3225600.,\n",
              "       2520000.])"
            ]
          },
          "metadata": {
            "tags": []
          },
          "execution_count": 32
        }
      ]
    },
    {
      "cell_type": "code",
      "metadata": {
        "colab": {
          "base_uri": "https://localhost:8080/"
        },
        "id": "mel-RGBSTclz",
        "outputId": "4f0cff6b-1376-4340-e848-e637f3d394d6"
      },
      "source": [
        "import numpy as np\n",
        "\n",
        "revenue_in_yen = [\n",
        "    300000, 340000, 320000, 360000, \n",
        "    440000, 140000, 180000, 340000, \n",
        "    330000, 290000, 280000, 380000, \n",
        "    170000, 140000, 230000, 390000, \n",
        "    400000, 350000, 380000, 150000, \n",
        "    110000, 240000, 380000, 380000, \n",
        "    340000, 420000, 150000, 130000, \n",
        "    360000, 320000, 250000\n",
        "]\n",
        "\n",
        "revenue_in_dollar = [\n",
        "    1200, 1600, 1400, 1300, \n",
        "    2100, 1400, 1500, 2100, \n",
        "    1500, 1500, 2300, 2100, \n",
        "    2800, 2600, 1700, 1400, \n",
        "    2100, 2300, 1600, 1800, \n",
        "    2200, 2400, 2100, 2800, \n",
        "    1900, 2100, 1800, 2200, \n",
        "    2100, 1600, 1800\n",
        "]\n",
        "\n",
        "# 코드를 작성하세요.\n",
        "yen=np.array(revenue_in_yen)\n",
        "dollar=np.array(revenue_in_dollar)\n",
        "won_array=yen*10.08+dollar*1138\n",
        "# 정답 출력\n",
        "won_array"
      ],
      "execution_count": 33,
      "outputs": [
        {
          "output_type": "execute_result",
          "data": {
            "text/plain": [
              "array([4389600., 5248000., 4818800., 5108200., 6825000., 3004400.,\n",
              "       3521400., 5817000., 5033400., 4630200., 5439800., 6220200.,\n",
              "       4900000., 4370000., 4253000., 5524400., 6421800., 6145400.,\n",
              "       5651200., 3560400., 3612400., 5150400., 6220200., 7016800.,\n",
              "       5589400., 6623400., 3560400., 3814000., 6018600., 5046400.,\n",
              "       4568400.])"
            ]
          },
          "metadata": {
            "tags": []
          },
          "execution_count": 33
        }
      ]
    },
    {
      "cell_type": "code",
      "metadata": {
        "colab": {
          "base_uri": "https://localhost:8080/"
        },
        "id": "s9G9lLE1TlQC",
        "outputId": "29f16476-a1aa-4a79-ecc1-3b8ad0365665"
      },
      "source": [
        "won_array.astype(int) #정수형으로 바꾸기"
      ],
      "execution_count": 34,
      "outputs": [
        {
          "output_type": "execute_result",
          "data": {
            "text/plain": [
              "array([4389600, 5248000, 4818800, 5108200, 6825000, 3004400, 3521400,\n",
              "       5817000, 5033400, 4630200, 5439800, 6220200, 4900000, 4370000,\n",
              "       4253000, 5524400, 6421800, 6145400, 5651200, 3560400, 3612400,\n",
              "       5150400, 6220200, 7016800, 5589400, 6623400, 3560400, 3814000,\n",
              "       6018600, 5046400, 4568400])"
            ]
          },
          "metadata": {
            "tags": []
          },
          "execution_count": 34
        }
      ]
    },
    {
      "cell_type": "markdown",
      "metadata": {
        "id": "taaQ1AbkTwor"
      },
      "source": [
        "numpy 불린 연산"
      ]
    },
    {
      "cell_type": "code",
      "metadata": {
        "id": "agZyOrcdTyuj"
      },
      "source": [
        "import numpy as np\n",
        "array1 = np.array([2,3,5,7,11,13,17,19,23,29,31])"
      ],
      "execution_count": 35,
      "outputs": []
    },
    {
      "cell_type": "code",
      "metadata": {
        "colab": {
          "base_uri": "https://localhost:8080/"
        },
        "id": "TGqcnu40UAGj",
        "outputId": "ceef42dd-3987-42da-8141-98f5730fec93"
      },
      "source": [
        "array1 > 4 #각 값을 비교"
      ],
      "execution_count": 36,
      "outputs": [
        {
          "output_type": "execute_result",
          "data": {
            "text/plain": [
              "array([False, False,  True,  True,  True,  True,  True,  True,  True,\n",
              "        True,  True])"
            ]
          },
          "metadata": {
            "tags": []
          },
          "execution_count": 36
        }
      ]
    },
    {
      "cell_type": "code",
      "metadata": {
        "colab": {
          "base_uri": "https://localhost:8080/"
        },
        "id": "4jF0ablJUFUD",
        "outputId": "b3bc90f0-f043-4655-c3b0-d8da82bb32e0"
      },
      "source": [
        "array1 % 2 == 0"
      ],
      "execution_count": 37,
      "outputs": [
        {
          "output_type": "execute_result",
          "data": {
            "text/plain": [
              "array([ True, False, False, False, False, False, False, False, False,\n",
              "       False, False])"
            ]
          },
          "metadata": {
            "tags": []
          },
          "execution_count": 37
        }
      ]
    },
    {
      "cell_type": "code",
      "metadata": {
        "id": "3LSnGDx_UPCb"
      },
      "source": [
        "booleans = np.array([True,True,False,True,True,False,True,True,True,False,True])"
      ],
      "execution_count": 38,
      "outputs": []
    },
    {
      "cell_type": "code",
      "metadata": {
        "colab": {
          "base_uri": "https://localhost:8080/"
        },
        "id": "0Lrw8zUfUaMb",
        "outputId": "0b07135e-0008-430f-dcc2-3c59aa8efecc"
      },
      "source": [
        "np.where(booleans) #true 만 호출"
      ],
      "execution_count": 39,
      "outputs": [
        {
          "output_type": "execute_result",
          "data": {
            "text/plain": [
              "(array([ 0,  1,  3,  4,  6,  7,  8, 10]),)"
            ]
          },
          "metadata": {
            "tags": []
          },
          "execution_count": 39
        }
      ]
    },
    {
      "cell_type": "code",
      "metadata": {
        "colab": {
          "base_uri": "https://localhost:8080/"
        },
        "id": "XmslDw2TUn5b",
        "outputId": "34354b6b-16a1-47fa-f964-f562bfcb7838"
      },
      "source": [
        "np.where(array1>4)"
      ],
      "execution_count": 40,
      "outputs": [
        {
          "output_type": "execute_result",
          "data": {
            "text/plain": [
              "(array([ 2,  3,  4,  5,  6,  7,  8,  9, 10]),)"
            ]
          },
          "metadata": {
            "tags": []
          },
          "execution_count": 40
        }
      ]
    },
    {
      "cell_type": "code",
      "metadata": {
        "id": "vqX9gPJKUx3y"
      },
      "source": [
        "filter = np.where(array1>4) #필터링"
      ],
      "execution_count": 41,
      "outputs": []
    },
    {
      "cell_type": "code",
      "metadata": {
        "colab": {
          "base_uri": "https://localhost:8080/"
        },
        "id": "TlppM9QpU0fy",
        "outputId": "b1f239c7-642a-45bc-a4f6-2aab47259337"
      },
      "source": [
        "array1[filter]"
      ],
      "execution_count": 42,
      "outputs": [
        {
          "output_type": "execute_result",
          "data": {
            "text/plain": [
              "array([ 5,  7, 11, 13, 17, 19, 23, 29, 31])"
            ]
          },
          "metadata": {
            "tags": []
          },
          "execution_count": 42
        }
      ]
    },
    {
      "cell_type": "markdown",
      "metadata": {
        "id": "BtYEO9H-U_HD"
      },
      "source": [
        "흥부부대찌개 목표 일 매출"
      ]
    },
    {
      "cell_type": "code",
      "metadata": {
        "colab": {
          "base_uri": "https://localhost:8080/"
        },
        "id": "SQ6veNIrVYI6",
        "outputId": "2c1d876a-535d-4be9-823c-fd8d60292674"
      },
      "source": [
        "import numpy as np\n",
        "\n",
        "revenue_in_yen = [\n",
        "    300000, 340000, 320000, 360000, \n",
        "    440000, 140000, 180000, 340000, \n",
        "    330000, 290000, 280000, 380000, \n",
        "    170000, 140000, 230000, 390000, \n",
        "    400000, 350000, 380000, 150000, \n",
        "    110000, 240000, 380000, 380000, \n",
        "    340000, 420000, 150000, 130000, \n",
        "    360000, 320000, 250000\n",
        "]\n",
        "\n",
        "# 코드를 작성하세요.\n",
        "yen = np.array(revenue_in_yen)\n",
        "filter =np.where(yen<=200000)\n",
        "bad_days_revenue=yen[filter]\n",
        "# 정답 출력\n",
        "bad_days_revenue"
      ],
      "execution_count": 43,
      "outputs": [
        {
          "output_type": "execute_result",
          "data": {
            "text/plain": [
              "array([140000, 180000, 170000, 140000, 150000, 110000, 150000, 130000])"
            ]
          },
          "metadata": {
            "tags": []
          },
          "execution_count": 43
        }
      ]
    },
    {
      "cell_type": "code",
      "metadata": {
        "colab": {
          "base_uri": "https://localhost:8080/"
        },
        "id": "7hFInsftViVz",
        "outputId": "47ab37a5-c200-4ed7-ee1f-16da24c3854d"
      },
      "source": [
        "import numpy as np #바로 인덱싱\n",
        "\n",
        "revenue_in_yen = [\n",
        "    300000, 340000, 320000, 360000, \n",
        "    440000, 140000, 180000, 340000, \n",
        "    330000, 290000, 280000, 380000, \n",
        "    170000, 140000, 230000, 390000, \n",
        "    400000, 350000, 380000, 150000, \n",
        "    110000, 240000, 380000, 380000, \n",
        "    340000, 420000, 150000, 130000, \n",
        "    360000, 320000, 250000\n",
        "]\n",
        "\n",
        "# 코드를 작성하세요.\n",
        "yen = np.array(revenue_in_yen)\n",
        "filter =np.where(yen<=200000)\n",
        "bad_days_revenue=yen[filter]\n",
        "# 정답 출력\n",
        "bad_days_revenue"
      ],
      "execution_count": 44,
      "outputs": [
        {
          "output_type": "execute_result",
          "data": {
            "text/plain": [
              "array([140000, 180000, 170000, 140000, 150000, 110000, 150000, 130000])"
            ]
          },
          "metadata": {
            "tags": []
          },
          "execution_count": 44
        }
      ]
    }
  ]
}