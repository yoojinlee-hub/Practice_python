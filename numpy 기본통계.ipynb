{
  "nbformat": 4,
  "nbformat_minor": 0,
  "metadata": {
    "colab": {
      "name": "Untitled14.ipynb",
      "provenance": [],
      "authorship_tag": "ABX9TyPff6mfBlOoYGn5s2/2TwiB",
      "include_colab_link": true
    },
    "kernelspec": {
      "name": "python3",
      "display_name": "Python 3"
    },
    "language_info": {
      "name": "python"
    }
  },
  "cells": [
    {
      "cell_type": "markdown",
      "metadata": {
        "id": "view-in-github",
        "colab_type": "text"
      },
      "source": [
        "<a href=\"https://colab.research.google.com/github/yoojinlee-hub/Practice_python/blob/main/numpy%20%EA%B8%B0%EB%B3%B8%ED%86%B5%EA%B3%84.ipynb\" target=\"_parent\"><img src=\"https://colab.research.google.com/assets/colab-badge.svg\" alt=\"Open In Colab\"/></a>"
      ]
    },
    {
      "cell_type": "code",
      "metadata": {
        "colab": {
          "base_uri": "https://localhost:8080/"
        },
        "id": "wpMqw8yhWn2i",
        "outputId": "c4c26327-53de-4674-e233-6e523929922e"
      },
      "source": [
        "import numpy as np\n",
        "\n",
        "array1 = np.array([14, 6, 13, 21, 23, 31, 9, 5])\n",
        "\n",
        "print(array1.max()) # 최댓값\n",
        "print(array1.min()) # 최솟값"
      ],
      "execution_count": 1,
      "outputs": [
        {
          "output_type": "stream",
          "text": [
            "31\n",
            "5\n"
          ],
          "name": "stdout"
        }
      ]
    },
    {
      "cell_type": "code",
      "metadata": {
        "colab": {
          "base_uri": "https://localhost:8080/"
        },
        "id": "dh_2kd_IWq3x",
        "outputId": "4e00b82e-3ed3-4070-e9d2-5fac55f34b55"
      },
      "source": [
        "import numpy as np\n",
        "\n",
        "array1 = np.array([14, 6, 13, 21, 23, 31, 9, 5])\n",
        "\n",
        "print(array1.mean()) # 평균값"
      ],
      "execution_count": 2,
      "outputs": [
        {
          "output_type": "stream",
          "text": [
            "15.25\n"
          ],
          "name": "stdout"
        }
      ]
    },
    {
      "cell_type": "code",
      "metadata": {
        "colab": {
          "base_uri": "https://localhost:8080/"
        },
        "id": "jfWTCEiGWvFA",
        "outputId": "a0b29501-a112-42c2-9c0f-b28b3aced084"
      },
      "source": [
        "import numpy as np\n",
        "\n",
        "array1 = np.array([8, 12, 9, 15, 16])\n",
        "array2 = np.array([14, 6, 13, 21, 23, 31, 9, 5])\n",
        "\n",
        "print(np.median(array1)) # 중앙값 numpy의 메소드(numpy array의 메소드 아님)\n",
        "print(np.median(array2)) # 중앙값"
      ],
      "execution_count": 3,
      "outputs": [
        {
          "output_type": "stream",
          "text": [
            "12.0\n",
            "13.5\n"
          ],
          "name": "stdout"
        }
      ]
    },
    {
      "cell_type": "code",
      "metadata": {
        "id": "2pRjfSjbW3GK",
        "outputId": "070d54e3-185a-4ce0-9551-e2686628dd00",
        "colab": {
          "base_uri": "https://localhost:8080/"
        }
      },
      "source": [
        "import numpy as np\n",
        "\n",
        "array1 = np.array([14, 6, 13, 21, 23, 31, 9, 5])\n",
        "\n",
        "print(array1.std()) # 표준 편차\n",
        "print(array1.var()) # 분산"
      ],
      "execution_count": 4,
      "outputs": [
        {
          "output_type": "stream",
          "text": [
            "8.496322733983215\n",
            "72.1875\n"
          ],
          "name": "stdout"
        }
      ]
    }
  ]
}