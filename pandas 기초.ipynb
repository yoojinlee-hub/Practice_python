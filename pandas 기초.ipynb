{
  "nbformat": 4,
  "nbformat_minor": 0,
  "metadata": {
    "colab": {
      "name": "Untitled15.ipynb",
      "provenance": [],
      "mount_file_id": "17v4oOum4ZkudqYCPW3bCuTD1gcCgmZSg",
      "authorship_tag": "ABX9TyODqWO3Oab8eSfKEKVcmD7Y",
      "include_colab_link": true
    },
    "kernelspec": {
      "name": "python3",
      "display_name": "Python 3"
    },
    "language_info": {
      "name": "python"
    }
  },
  "cells": [
    {
      "cell_type": "markdown",
      "metadata": {
        "id": "view-in-github",
        "colab_type": "text"
      },
      "source": [
        "<a href=\"https://colab.research.google.com/github/yoojinlee-hub/Practice_python/blob/main/pandas%20%EA%B8%B0%EC%B4%88.ipynb\" target=\"_parent\"><img src=\"https://colab.research.google.com/assets/colab-badge.svg\" alt=\"Open In Colab\"/></a>"
      ]
    },
    {
      "cell_type": "markdown",
      "metadata": {
        "id": "fiI8zUzek7Yf"
      },
      "source": [
        "**DataFrame**<br>\n",
        "표 형식의 데이터를 담는 자료형<br>\n",
        "index가 숫자가 아닌 것도 저장가능<br>\n",
        "데이터값도 다른 자료형이 가능<br>\n",
        "numpy:같은 자료형"
      ]
    },
    {
      "cell_type": "code",
      "metadata": {
        "id": "48incKiKloYG"
      },
      "source": [
        "import pandas as pd\n",
        "two_dimensional_list=[['dongwook',50,86],['sineui',89,31],['ikjoong',68,91],['yoonsoo',88,75]]"
      ],
      "execution_count": 1,
      "outputs": []
    },
    {
      "cell_type": "code",
      "metadata": {
        "colab": {
          "base_uri": "https://localhost:8080/",
          "height": 173
        },
        "id": "U2kinWuul9y9",
        "outputId": "769e5ba9-1917-4484-df60-e5a1523c3d14"
      },
      "source": [
        "my_df=pd.DataFrame(two_dimensional_list,columns=['name','English','Math'],index=['a','b','c','d'])\n",
        "my_df"
      ],
      "execution_count": 4,
      "outputs": [
        {
          "output_type": "execute_result",
          "data": {
            "text/html": [
              "<div>\n",
              "<style scoped>\n",
              "    .dataframe tbody tr th:only-of-type {\n",
              "        vertical-align: middle;\n",
              "    }\n",
              "\n",
              "    .dataframe tbody tr th {\n",
              "        vertical-align: top;\n",
              "    }\n",
              "\n",
              "    .dataframe thead th {\n",
              "        text-align: right;\n",
              "    }\n",
              "</style>\n",
              "<table border=\"1\" class=\"dataframe\">\n",
              "  <thead>\n",
              "    <tr style=\"text-align: right;\">\n",
              "      <th></th>\n",
              "      <th>name</th>\n",
              "      <th>English</th>\n",
              "      <th>Math</th>\n",
              "    </tr>\n",
              "  </thead>\n",
              "  <tbody>\n",
              "    <tr>\n",
              "      <th>a</th>\n",
              "      <td>dongwook</td>\n",
              "      <td>50</td>\n",
              "      <td>86</td>\n",
              "    </tr>\n",
              "    <tr>\n",
              "      <th>b</th>\n",
              "      <td>sineui</td>\n",
              "      <td>89</td>\n",
              "      <td>31</td>\n",
              "    </tr>\n",
              "    <tr>\n",
              "      <th>c</th>\n",
              "      <td>ikjoong</td>\n",
              "      <td>68</td>\n",
              "      <td>91</td>\n",
              "    </tr>\n",
              "    <tr>\n",
              "      <th>d</th>\n",
              "      <td>yoonsoo</td>\n",
              "      <td>88</td>\n",
              "      <td>75</td>\n",
              "    </tr>\n",
              "  </tbody>\n",
              "</table>\n",
              "</div>"
            ],
            "text/plain": [
              "       name  English  Math\n",
              "a  dongwook       50    86\n",
              "b    sineui       89    31\n",
              "c   ikjoong       68    91\n",
              "d   yoonsoo       88    75"
            ]
          },
          "metadata": {
            "tags": []
          },
          "execution_count": 4
        }
      ]
    },
    {
      "cell_type": "code",
      "metadata": {
        "colab": {
          "base_uri": "https://localhost:8080/"
        },
        "id": "B9YPke80mNZ1",
        "outputId": "014c107c-d728-4dea-84c4-75011a3293d6"
      },
      "source": [
        "type(my_df)"
      ],
      "execution_count": 3,
      "outputs": [
        {
          "output_type": "execute_result",
          "data": {
            "text/plain": [
              "pandas.core.frame.DataFrame"
            ]
          },
          "metadata": {
            "tags": []
          },
          "execution_count": 3
        }
      ]
    },
    {
      "cell_type": "code",
      "metadata": {
        "colab": {
          "base_uri": "https://localhost:8080/"
        },
        "id": "9lheSNpWmqr9",
        "outputId": "2b3b4711-bc2e-4abe-a3c5-6a3e0bf245a6"
      },
      "source": [
        "my_df.columns"
      ],
      "execution_count": 5,
      "outputs": [
        {
          "output_type": "execute_result",
          "data": {
            "text/plain": [
              "Index(['name', 'English', 'Math'], dtype='object')"
            ]
          },
          "metadata": {
            "tags": []
          },
          "execution_count": 5
        }
      ]
    },
    {
      "cell_type": "code",
      "metadata": {
        "colab": {
          "base_uri": "https://localhost:8080/"
        },
        "id": "T9P1x6ZEmzx1",
        "outputId": "8c4c27cf-86e7-4ffc-a7e7-e5ada46a9fd3"
      },
      "source": [
        "my_df.dtypes"
      ],
      "execution_count": 6,
      "outputs": [
        {
          "output_type": "execute_result",
          "data": {
            "text/plain": [
              "name       object\n",
              "English     int64\n",
              "Math        int64\n",
              "dtype: object"
            ]
          },
          "metadata": {
            "tags": []
          },
          "execution_count": 6
        }
      ]
    },
    {
      "cell_type": "markdown",
      "metadata": {
        "id": "OoH1VaMpm9dG"
      },
      "source": [
        "같은 columns 안에서는 같은 자료형이여야 한다"
      ]
    },
    {
      "cell_type": "code",
      "metadata": {
        "colab": {
          "base_uri": "https://localhost:8080/"
        },
        "id": "AiaOLrjrnEHt",
        "outputId": "4818f16c-27cb-4b24-9836-784752c72782"
      },
      "source": [
        "import numpy as np\n",
        "import pandas as pd\n",
        "\n",
        "two_dimensional_list = [['dongwook', 50, 86], ['sineui', 89, 31], ['ikjoong', 68, 91], ['yoonsoo', 88, 75]]\n",
        "two_dimensional_array = np.array(two_dimensional_list)\n",
        "list_of_series = [\n",
        "    pd.Series(['dongwook', 50, 86]), \n",
        "    pd.Series(['sineui', 89, 31]), \n",
        "    pd.Series(['ikjoong', 68, 91]), \n",
        "    pd.Series(['yoonsoo', 88, 75])\n",
        "]\n",
        "\n",
        "# 아래 셋은 모두 동일합니다\n",
        "df1 = pd.DataFrame(two_dimensional_list)\n",
        "df2 = pd.DataFrame(two_dimensional_array)\n",
        "df3 = pd.DataFrame(list_of_series)\n",
        "print(df1)"
      ],
      "execution_count": 9,
      "outputs": [
        {
          "output_type": "stream",
          "text": [
            "          0   1   2\n",
            "0  dongwook  50  86\n",
            "1    sineui  89  31\n",
            "2   ikjoong  68  91\n",
            "3   yoonsoo  88  75\n"
          ],
          "name": "stdout"
        }
      ]
    },
    {
      "cell_type": "code",
      "metadata": {
        "colab": {
          "base_uri": "https://localhost:8080/"
        },
        "id": "XbxHtK6nnNB-",
        "outputId": "e300f76a-719d-44d6-fa41-b866853ea097"
      },
      "source": [
        "import numpy as np\n",
        "import pandas as pd\n",
        "\n",
        "names = ['dongwook', 'sineui', 'ikjoong', 'yoonsoo']\n",
        "english_scores = [50, 89, 68, 88]\n",
        "math_scores = [86, 31, 91, 75]\n",
        "\n",
        "dict1 = {\n",
        "    'name': names, \n",
        "    'english_score': english_scores, \n",
        "    'math_score': math_scores\n",
        "}\n",
        "\n",
        "dict2 = {\n",
        "    'name': np.array(names), \n",
        "    'english_score': np.array(english_scores), \n",
        "    'math_score': np.array(math_scores)\n",
        "}\n",
        "\n",
        "dict3 = {\n",
        "    'name': pd.Series(names), \n",
        "    'english_score': pd.Series(english_scores), \n",
        "    'math_score': pd.Series(math_scores)\n",
        "}\n",
        "\n",
        "\n",
        "# 아래 셋은 모두 동일합니다\n",
        "df1 = pd.DataFrame(dict1)\n",
        "df2 = pd.DataFrame(dict2)\n",
        "df3 = pd.DataFrame(dict3)\n",
        "\n",
        "print(df1)"
      ],
      "execution_count": 10,
      "outputs": [
        {
          "output_type": "stream",
          "text": [
            "       name  english_score  math_score\n",
            "0  dongwook             50          86\n",
            "1    sineui             89          31\n",
            "2   ikjoong             68          91\n",
            "3   yoonsoo             88          75\n"
          ],
          "name": "stdout"
        }
      ]
    },
    {
      "cell_type": "code",
      "metadata": {
        "colab": {
          "base_uri": "https://localhost:8080/"
        },
        "id": "qbyCDjl_nUf9",
        "outputId": "90848553-ff02-48b0-9df4-930caa8dd209"
      },
      "source": [
        "import numpy as np\n",
        "import pandas as pd\n",
        "\n",
        "my_list = [\n",
        "    {'name': 'dongwook', 'english_score': 50, 'math_score': 86},\n",
        "    {'name': 'sineui', 'english_score': 89, 'math_score': 31},\n",
        "    {'name': 'ikjoong', 'english_score': 68, 'math_score': 91},\n",
        "    {'name': 'yoonsoo', 'english_score': 88, 'math_score': 75}\n",
        "]\n",
        "\n",
        "df = pd.DataFrame(my_list)\n",
        "print(df)"
      ],
      "execution_count": 11,
      "outputs": [
        {
          "output_type": "stream",
          "text": [
            "       name  english_score  math_score\n",
            "0  dongwook             50          86\n",
            "1    sineui             89          31\n",
            "2   ikjoong             68          91\n",
            "3   yoonsoo             88          75\n"
          ],
          "name": "stdout"
        }
      ]
    },
    {
      "cell_type": "markdown",
      "metadata": {
        "id": "0Fy9AucdoW9m"
      },
      "source": [
        "스타들의 생일은 언제?"
      ]
    },
    {
      "cell_type": "code",
      "metadata": {
        "colab": {
          "base_uri": "https://localhost:8080/",
          "height": 173
        },
        "id": "JUPJ2zYloZBn",
        "outputId": "fbf47b96-5b06-44ee-d851-61c4cad93977"
      },
      "source": [
        "import pandas as pd\n",
        "\n",
        "# 코드를 작성하세요.\n",
        "birthday = [['Taylor Swift','December 13, 1989','Singer-songwriter'],\n",
        "            ['Aaron Sorkin','June 9, 1961','Screenwriter'],\n",
        "            ['Harry Potter','July 31, 1980','Wizard'],\n",
        "            ['Ji-Sung Park','February 25, 1981','Footballer'],\n",
        "            ]\n",
        "df=pd.DataFrame(birthday,columns=['name','birthday','occupation'])\n",
        "# 정답 출력\n",
        "df"
      ],
      "execution_count": 12,
      "outputs": [
        {
          "output_type": "execute_result",
          "data": {
            "text/html": [
              "<div>\n",
              "<style scoped>\n",
              "    .dataframe tbody tr th:only-of-type {\n",
              "        vertical-align: middle;\n",
              "    }\n",
              "\n",
              "    .dataframe tbody tr th {\n",
              "        vertical-align: top;\n",
              "    }\n",
              "\n",
              "    .dataframe thead th {\n",
              "        text-align: right;\n",
              "    }\n",
              "</style>\n",
              "<table border=\"1\" class=\"dataframe\">\n",
              "  <thead>\n",
              "    <tr style=\"text-align: right;\">\n",
              "      <th></th>\n",
              "      <th>name</th>\n",
              "      <th>birthday</th>\n",
              "      <th>occupation</th>\n",
              "    </tr>\n",
              "  </thead>\n",
              "  <tbody>\n",
              "    <tr>\n",
              "      <th>0</th>\n",
              "      <td>Taylor Swift</td>\n",
              "      <td>December 13, 1989</td>\n",
              "      <td>Singer-songwriter</td>\n",
              "    </tr>\n",
              "    <tr>\n",
              "      <th>1</th>\n",
              "      <td>Aaron Sorkin</td>\n",
              "      <td>June 9, 1961</td>\n",
              "      <td>Screenwriter</td>\n",
              "    </tr>\n",
              "    <tr>\n",
              "      <th>2</th>\n",
              "      <td>Harry Potter</td>\n",
              "      <td>July 31, 1980</td>\n",
              "      <td>Wizard</td>\n",
              "    </tr>\n",
              "    <tr>\n",
              "      <th>3</th>\n",
              "      <td>Ji-Sung Park</td>\n",
              "      <td>February 25, 1981</td>\n",
              "      <td>Footballer</td>\n",
              "    </tr>\n",
              "  </tbody>\n",
              "</table>\n",
              "</div>"
            ],
            "text/plain": [
              "           name           birthday         occupation\n",
              "0  Taylor Swift  December 13, 1989  Singer-songwriter\n",
              "1  Aaron Sorkin       June 9, 1961       Screenwriter\n",
              "2  Harry Potter      July 31, 1980             Wizard\n",
              "3  Ji-Sung Park  February 25, 1981         Footballer"
            ]
          },
          "metadata": {
            "tags": []
          },
          "execution_count": 12
        }
      ]
    },
    {
      "cell_type": "markdown",
      "metadata": {
        "id": "a-t_6GekpTlY"
      },
      "source": [
        "pandas로 데이터 읽기"
      ]
    },
    {
      "cell_type": "code",
      "metadata": {
        "colab": {
          "base_uri": "https://localhost:8080/",
          "height": 266
        },
        "id": "-NDIZKWtpV-H",
        "outputId": "a66179c5-84c2-4fbf-9373-ee2636073443"
      },
      "source": [
        "import pandas as pd\n",
        "iphone_df=pd.read_csv('/content/drive/MyDrive/iphone.csv',index_col=0)\n",
        "iphone_df"
      ],
      "execution_count": 17,
      "outputs": [
        {
          "output_type": "execute_result",
          "data": {
            "text/html": [
              "<div>\n",
              "<style scoped>\n",
              "    .dataframe tbody tr th:only-of-type {\n",
              "        vertical-align: middle;\n",
              "    }\n",
              "\n",
              "    .dataframe tbody tr th {\n",
              "        vertical-align: top;\n",
              "    }\n",
              "\n",
              "    .dataframe thead th {\n",
              "        text-align: right;\n",
              "    }\n",
              "</style>\n",
              "<table border=\"1\" class=\"dataframe\">\n",
              "  <thead>\n",
              "    <tr style=\"text-align: right;\">\n",
              "      <th></th>\n",
              "      <th>출시일</th>\n",
              "      <th>디스플레이</th>\n",
              "      <th>메모리</th>\n",
              "      <th>출시 버전</th>\n",
              "      <th>Face ID</th>\n",
              "    </tr>\n",
              "  </thead>\n",
              "  <tbody>\n",
              "    <tr>\n",
              "      <th>iPhone 7</th>\n",
              "      <td>2016-09-16</td>\n",
              "      <td>4.7</td>\n",
              "      <td>2GB</td>\n",
              "      <td>iOS 10.0</td>\n",
              "      <td>No</td>\n",
              "    </tr>\n",
              "    <tr>\n",
              "      <th>iPhone 7 Plus</th>\n",
              "      <td>2016-09-16</td>\n",
              "      <td>5.5</td>\n",
              "      <td>3GB</td>\n",
              "      <td>iOS 10.0</td>\n",
              "      <td>No</td>\n",
              "    </tr>\n",
              "    <tr>\n",
              "      <th>iPhone 8</th>\n",
              "      <td>2017-09-22</td>\n",
              "      <td>4.7</td>\n",
              "      <td>2GB</td>\n",
              "      <td>iOS 11.0</td>\n",
              "      <td>No</td>\n",
              "    </tr>\n",
              "    <tr>\n",
              "      <th>iPhone 8 Plus</th>\n",
              "      <td>2017-09-22</td>\n",
              "      <td>5.5</td>\n",
              "      <td>3GB</td>\n",
              "      <td>iOS 11.0</td>\n",
              "      <td>No</td>\n",
              "    </tr>\n",
              "    <tr>\n",
              "      <th>iPhone X</th>\n",
              "      <td>2017-11-03</td>\n",
              "      <td>5.8</td>\n",
              "      <td>3GB</td>\n",
              "      <td>iOS 11.1</td>\n",
              "      <td>Yes</td>\n",
              "    </tr>\n",
              "    <tr>\n",
              "      <th>iPhone XS</th>\n",
              "      <td>2018-09-21</td>\n",
              "      <td>5.8</td>\n",
              "      <td>4GB</td>\n",
              "      <td>iOS 12.0</td>\n",
              "      <td>Yes</td>\n",
              "    </tr>\n",
              "    <tr>\n",
              "      <th>iPhone XS Max</th>\n",
              "      <td>2018-09-21</td>\n",
              "      <td>6.5</td>\n",
              "      <td>4GB</td>\n",
              "      <td>iOS 12.0</td>\n",
              "      <td>Yes</td>\n",
              "    </tr>\n",
              "  </tbody>\n",
              "</table>\n",
              "</div>"
            ],
            "text/plain": [
              "                      출시일  디스플레이  메모리     출시 버전 Face ID\n",
              "iPhone 7       2016-09-16    4.7  2GB  iOS 10.0      No\n",
              "iPhone 7 Plus  2016-09-16    5.5  3GB  iOS 10.0      No\n",
              "iPhone 8       2017-09-22    4.7  2GB  iOS 11.0      No\n",
              "iPhone 8 Plus  2017-09-22    5.5  3GB  iOS 11.0      No\n",
              "iPhone X       2017-11-03    5.8  3GB  iOS 11.1     Yes\n",
              "iPhone XS      2018-09-21    5.8  4GB  iOS 12.0     Yes\n",
              "iPhone XS Max  2018-09-21    6.5  4GB  iOS 12.0     Yes"
            ]
          },
          "metadata": {
            "tags": []
          },
          "execution_count": 17
        }
      ]
    },
    {
      "cell_type": "code",
      "metadata": {
        "colab": {
          "base_uri": "https://localhost:8080/"
        },
        "id": "b9UOxC3aple2",
        "outputId": "164d1e19-c5ed-44a6-e695-d79784f78925"
      },
      "source": [
        "type(iphone_df)"
      ],
      "execution_count": 16,
      "outputs": [
        {
          "output_type": "execute_result",
          "data": {
            "text/plain": [
              "pandas.core.frame.DataFrame"
            ]
          },
          "metadata": {
            "tags": []
          },
          "execution_count": 16
        }
      ]
    }
  ]
}