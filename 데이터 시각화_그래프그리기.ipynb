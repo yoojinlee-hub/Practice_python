{
  "nbformat": 4,
  "nbformat_minor": 0,
  "metadata": {
    "colab": {
      "name": "Untitled20.ipynb",
      "provenance": [],
      "mount_file_id": "1VOA1CWDGrTV5xb5ngwdXdsgHWBWRMW73",
      "authorship_tag": "ABX9TyMqHLmhHM6HBKq2QE9zLzBt",
      "include_colab_link": true
    },
    "kernelspec": {
      "name": "python3",
      "display_name": "Python 3"
    },
    "language_info": {
      "name": "python"
    }
  },
  "cells": [
    {
      "cell_type": "markdown",
      "metadata": {
        "id": "view-in-github",
        "colab_type": "text"
      },
      "source": [
        "<a href=\"https://colab.research.google.com/github/yoojinlee-hub/Practice_python/blob/main/%EB%8D%B0%EC%9D%B4%ED%84%B0%20%EC%8B%9C%EA%B0%81%ED%99%94_%EA%B7%B8%EB%9E%98%ED%94%84%EA%B7%B8%EB%A6%AC%EA%B8%B0.ipynb\" target=\"_parent\"><img src=\"https://colab.research.google.com/assets/colab-badge.svg\" alt=\"Open In Colab\"/></a>"
      ]
    },
    {
      "cell_type": "markdown",
      "metadata": {
        "id": "9QJLYZTDYuJ9"
      },
      "source": [
        "데이터시각화"
      ]
    },
    {
      "cell_type": "code",
      "metadata": {
        "colab": {
          "base_uri": "https://localhost:8080/"
        },
        "id": "PsGl4036Zu76",
        "outputId": "c24f2178-4bed-44b8-d80b-2fe536a870da"
      },
      "source": [
        "from google.colab import drive\n",
        "drive.mount('/content/drive')"
      ],
      "execution_count": 2,
      "outputs": [
        {
          "output_type": "stream",
          "text": [
            "Mounted at /content/drive\n"
          ],
          "name": "stdout"
        }
      ]
    },
    {
      "cell_type": "code",
      "metadata": {
        "id": "kHeCoWmxYcUl"
      },
      "source": [
        "#선그래프 - 숫자값\n",
        "#x축: 시간과 관련된 값 // y축 관찰값\n",
        "%matplotlib inline\n",
        "import pandas as pd"
      ],
      "execution_count": 3,
      "outputs": []
    },
    {
      "cell_type": "code",
      "metadata": {
        "colab": {
          "base_uri": "https://localhost:8080/",
          "height": 266
        },
        "id": "ucpH53kZaSqJ",
        "outputId": "5bd8d933-b6c3-4afd-e852-64fd53f47524"
      },
      "source": [
        "df = pd.read_csv('/content/drive/MyDrive/broadcast.csv',index_col=0)\n",
        "df"
      ],
      "execution_count": 4,
      "outputs": [
        {
          "output_type": "execute_result",
          "data": {
            "text/html": [
              "<div>\n",
              "<style scoped>\n",
              "    .dataframe tbody tr th:only-of-type {\n",
              "        vertical-align: middle;\n",
              "    }\n",
              "\n",
              "    .dataframe tbody tr th {\n",
              "        vertical-align: top;\n",
              "    }\n",
              "\n",
              "    .dataframe thead th {\n",
              "        text-align: right;\n",
              "    }\n",
              "</style>\n",
              "<table border=\"1\" class=\"dataframe\">\n",
              "  <thead>\n",
              "    <tr style=\"text-align: right;\">\n",
              "      <th></th>\n",
              "      <th>KBS</th>\n",
              "      <th>MBC</th>\n",
              "      <th>SBS</th>\n",
              "      <th>TV CHOSUN</th>\n",
              "      <th>JTBC</th>\n",
              "      <th>Channel A</th>\n",
              "      <th>MBN</th>\n",
              "    </tr>\n",
              "  </thead>\n",
              "  <tbody>\n",
              "    <tr>\n",
              "      <th>2011</th>\n",
              "      <td>35.951</td>\n",
              "      <td>18.374</td>\n",
              "      <td>11.173</td>\n",
              "      <td>9.102</td>\n",
              "      <td>7.380</td>\n",
              "      <td>3.771</td>\n",
              "      <td>2.809</td>\n",
              "    </tr>\n",
              "    <tr>\n",
              "      <th>2012</th>\n",
              "      <td>36.163</td>\n",
              "      <td>16.022</td>\n",
              "      <td>11.408</td>\n",
              "      <td>8.785</td>\n",
              "      <td>7.878</td>\n",
              "      <td>5.874</td>\n",
              "      <td>3.310</td>\n",
              "    </tr>\n",
              "    <tr>\n",
              "      <th>2013</th>\n",
              "      <td>31.989</td>\n",
              "      <td>16.778</td>\n",
              "      <td>9.673</td>\n",
              "      <td>9.026</td>\n",
              "      <td>7.810</td>\n",
              "      <td>5.350</td>\n",
              "      <td>3.825</td>\n",
              "    </tr>\n",
              "    <tr>\n",
              "      <th>2014</th>\n",
              "      <td>31.210</td>\n",
              "      <td>15.663</td>\n",
              "      <td>9.108</td>\n",
              "      <td>9.440</td>\n",
              "      <td>7.490</td>\n",
              "      <td>5.776</td>\n",
              "      <td>4.572</td>\n",
              "    </tr>\n",
              "    <tr>\n",
              "      <th>2015</th>\n",
              "      <td>27.777</td>\n",
              "      <td>16.573</td>\n",
              "      <td>9.099</td>\n",
              "      <td>9.940</td>\n",
              "      <td>7.267</td>\n",
              "      <td>6.678</td>\n",
              "      <td>5.520</td>\n",
              "    </tr>\n",
              "    <tr>\n",
              "      <th>2016</th>\n",
              "      <td>27.583</td>\n",
              "      <td>14.982</td>\n",
              "      <td>8.669</td>\n",
              "      <td>9.829</td>\n",
              "      <td>7.727</td>\n",
              "      <td>6.624</td>\n",
              "      <td>5.477</td>\n",
              "    </tr>\n",
              "    <tr>\n",
              "      <th>2017</th>\n",
              "      <td>26.890</td>\n",
              "      <td>12.465</td>\n",
              "      <td>8.661</td>\n",
              "      <td>8.886</td>\n",
              "      <td>9.453</td>\n",
              "      <td>6.056</td>\n",
              "      <td>5.215</td>\n",
              "    </tr>\n",
              "  </tbody>\n",
              "</table>\n",
              "</div>"
            ],
            "text/plain": [
              "         KBS     MBC     SBS  TV CHOSUN   JTBC  Channel A    MBN\n",
              "2011  35.951  18.374  11.173      9.102  7.380      3.771  2.809\n",
              "2012  36.163  16.022  11.408      8.785  7.878      5.874  3.310\n",
              "2013  31.989  16.778   9.673      9.026  7.810      5.350  3.825\n",
              "2014  31.210  15.663   9.108      9.440  7.490      5.776  4.572\n",
              "2015  27.777  16.573   9.099      9.940  7.267      6.678  5.520\n",
              "2016  27.583  14.982   8.669      9.829  7.727      6.624  5.477\n",
              "2017  26.890  12.465   8.661      8.886  9.453      6.056  5.215"
            ]
          },
          "metadata": {
            "tags": []
          },
          "execution_count": 4
        }
      ]
    },
    {
      "cell_type": "code",
      "metadata": {
        "colab": {
          "base_uri": "https://localhost:8080/",
          "height": 283
        },
        "id": "iCWYl9-2aiUh",
        "outputId": "e0bb9a4f-60d0-492a-d7cc-00e0853c0c42"
      },
      "source": [
        "df.plot(kind='line')"
      ],
      "execution_count": 7,
      "outputs": [
        {
          "output_type": "execute_result",
          "data": {
            "text/plain": [
              "<matplotlib.axes._subplots.AxesSubplot at 0x7f4ec1e784d0>"
            ]
          },
          "metadata": {
            "tags": []
          },
          "execution_count": 7
        },
        {
          "output_type": "display_data",
          "data": {
            "image/png": "[encoded data removed]",
            "text/plain": [
              "<Figure size 432x288 with 1 Axes>"
            ]
          },
          "metadata": {
            "tags": [],
            "needs_background": "light"
          }
        }
      ]
    },
    {
      "cell_type": "code",
      "metadata": {
        "colab": {
          "base_uri": "https://localhost:8080/",
          "height": 283
        },
        "id": "QAmK0FVaauco",
        "outputId": "b9356aa1-0614-4c6d-e286-34a3dcec40ed"
      },
      "source": [
        "df.plot(y='KBS')"
      ],
      "execution_count": 8,
      "outputs": [
        {
          "output_type": "execute_result",
          "data": {
            "text/plain": [
              "<matplotlib.axes._subplots.AxesSubplot at 0x7f4ec12d1d50>"
            ]
          },
          "metadata": {
            "tags": []
          },
          "execution_count": 8
        },
        {
          "output_type": "display_data",
          "data": {
            "image/png": "[encoded data removed]",
            "text/plain": [
              "<Figure size 432x288 with 1 Axes>"
            ]
          },
          "metadata": {
            "tags": [],
            "needs_background": "light"
          }
        }
      ]
    },
    {
      "cell_type": "code",
      "metadata": {
        "colab": {
          "base_uri": "https://localhost:8080/",
          "height": 283
        },
        "id": "0O9hhmYBa1fg",
        "outputId": "232c5f5f-1dc6-4e36-8b90-a8d8a953ac10"
      },
      "source": [
        "df.plot(y=['KBS','JTBC'])"
      ],
      "execution_count": 9,
      "outputs": [
        {
          "output_type": "execute_result",
          "data": {
            "text/plain": [
              "<matplotlib.axes._subplots.AxesSubplot at 0x7f4ec1253050>"
            ]
          },
          "metadata": {
            "tags": []
          },
          "execution_count": 9
        },
        {
          "output_type": "display_data",
          "data": {
            "image/png": "[encoded data removed]",
            "text/plain": [
              "<Figure size 432x288 with 1 Axes>"
            ]
          },
          "metadata": {
            "tags": [],
            "needs_background": "light"
          }
        }
      ]
    },
    {
      "cell_type": "code",
      "metadata": {
        "colab": {
          "base_uri": "https://localhost:8080/",
          "height": 283
        },
        "id": "t4-2I-l_a-Pg",
        "outputId": "545a5c95-272b-4021-f4d7-e189c7af5376"
      },
      "source": [
        "df[['KBS','JTBC']].plot()"
      ],
      "execution_count": 10,
      "outputs": [
        {
          "output_type": "execute_result",
          "data": {
            "text/plain": [
              "<matplotlib.axes._subplots.AxesSubplot at 0x7f4ec1ebd7d0>"
            ]
          },
          "metadata": {
            "tags": []
          },
          "execution_count": 10
        },
        {
          "output_type": "display_data",
          "data": {
            "image/png": "[encoded data removed]",
            "text/plain": [
              "<Figure size 432x288 with 1 Axes>"
            ]
          },
          "metadata": {
            "tags": [],
            "needs_background": "light"
          }
        }
      ]
    },
    {
      "cell_type": "code",
      "metadata": {
        "colab": {
          "base_uri": "https://localhost:8080/",
          "height": 283
        },
        "id": "qQUpJIsxbE3p",
        "outputId": "553bb820-7022-41da-b941-23dacf4c1262"
      },
      "source": [
        "df['KBS'].plot()"
      ],
      "execution_count": 11,
      "outputs": [
        {
          "output_type": "execute_result",
          "data": {
            "text/plain": [
              "<matplotlib.axes._subplots.AxesSubplot at 0x7f4ec1174410>"
            ]
          },
          "metadata": {
            "tags": []
          },
          "execution_count": 11
        },
        {
          "output_type": "display_data",
          "data": {
            "image/png": "[encoded data removed]",
            "text/plain": [
              "<Figure size 432x288 with 1 Axes>"
            ]
          },
          "metadata": {
            "tags": [],
            "needs_background": "light"
          }
        }
      ]
    },
    {
      "cell_type": "markdown",
      "metadata": {
        "id": "-seamzpec-ZJ"
      },
      "source": [
        "막대그래프: 카테고리 비교를 위해 사용"
      ]
    },
    {
      "cell_type": "code",
      "metadata": {
        "colab": {
          "base_uri": "https://localhost:8080/",
          "height": 235
        },
        "id": "S4ABmjPcdBgX",
        "outputId": "414a477b-a22e-4caa-b73e-693855d2c75b"
      },
      "source": [
        "%matplotlib inline\n",
        "import pandas as pd\n",
        "\n",
        "df= pd.read_csv('/content/drive/MyDrive/sports.csv',index_col=0)\n",
        "df"
      ],
      "execution_count": 12,
      "outputs": [
        {
          "output_type": "execute_result",
          "data": {
            "text/html": [
              "<div>\n",
              "<style scoped>\n",
              "    .dataframe tbody tr th:only-of-type {\n",
              "        vertical-align: middle;\n",
              "    }\n",
              "\n",
              "    .dataframe tbody tr th {\n",
              "        vertical-align: top;\n",
              "    }\n",
              "\n",
              "    .dataframe thead th {\n",
              "        text-align: right;\n",
              "    }\n",
              "</style>\n",
              "<table border=\"1\" class=\"dataframe\">\n",
              "  <thead>\n",
              "    <tr style=\"text-align: right;\">\n",
              "      <th></th>\n",
              "      <th>Male</th>\n",
              "      <th>Female</th>\n",
              "    </tr>\n",
              "  </thead>\n",
              "  <tbody>\n",
              "    <tr>\n",
              "      <th>Swimming</th>\n",
              "      <td>103</td>\n",
              "      <td>178</td>\n",
              "    </tr>\n",
              "    <tr>\n",
              "      <th>Baseball</th>\n",
              "      <td>363</td>\n",
              "      <td>289</td>\n",
              "    </tr>\n",
              "    <tr>\n",
              "      <th>Basketball</th>\n",
              "      <td>151</td>\n",
              "      <td>97</td>\n",
              "    </tr>\n",
              "    <tr>\n",
              "      <th>Golf</th>\n",
              "      <td>154</td>\n",
              "      <td>232</td>\n",
              "    </tr>\n",
              "    <tr>\n",
              "      <th>Soccer</th>\n",
              "      <td>413</td>\n",
              "      <td>109</td>\n",
              "    </tr>\n",
              "    <tr>\n",
              "      <th>Bowling</th>\n",
              "      <td>88</td>\n",
              "      <td>129</td>\n",
              "    </tr>\n",
              "  </tbody>\n",
              "</table>\n",
              "</div>"
            ],
            "text/plain": [
              "            Male  Female\n",
              "Swimming     103     178\n",
              "Baseball     363     289\n",
              "Basketball   151      97\n",
              "Golf         154     232\n",
              "Soccer       413     109\n",
              "Bowling       88     129"
            ]
          },
          "metadata": {
            "tags": []
          },
          "execution_count": 12
        }
      ]
    },
    {
      "cell_type": "code",
      "metadata": {
        "colab": {
          "base_uri": "https://localhost:8080/",
          "height": 283
        },
        "id": "kQGYzKW8dakQ",
        "outputId": "b432a55a-c805-4a5b-9b13-9f9874a1df21"
      },
      "source": [
        "df.plot() #기본설정은 선그래프"
      ],
      "execution_count": 13,
      "outputs": [
        {
          "output_type": "execute_result",
          "data": {
            "text/plain": [
              "<matplotlib.axes._subplots.AxesSubplot at 0x7f4ec10864d0>"
            ]
          },
          "metadata": {
            "tags": []
          },
          "execution_count": 13
        },
        {
          "output_type": "display_data",
          "data": {
            "image/png": "[encoded data removed]",
            "text/plain": [
              "<Figure size 432x288 with 1 Axes>"
            ]
          },
          "metadata": {
            "tags": [],
            "needs_background": "light"
          }
        }
      ]
    },
    {
      "cell_type": "code",
      "metadata": {
        "colab": {
          "base_uri": "https://localhost:8080/",
          "height": 325
        },
        "id": "gRzVFx3FdfVS",
        "outputId": "2d9849c5-fd42-4387-a168-cc25dc29406e"
      },
      "source": [
        "df.plot(kind='bar')"
      ],
      "execution_count": 14,
      "outputs": [
        {
          "output_type": "execute_result",
          "data": {
            "text/plain": [
              "<matplotlib.axes._subplots.AxesSubplot at 0x7f4ec10fd710>"
            ]
          },
          "metadata": {
            "tags": []
          },
          "execution_count": 14
        },
        {
          "output_type": "display_data",
          "data": {
            "image/png": "[encoded data removed]",
            "text/plain": [
              "<Figure size 432x288 with 1 Axes>"
            ]
          },
          "metadata": {
            "tags": [],
            "needs_background": "light"
          }
        }
      ]
    },
    {
      "cell_type": "code",
      "metadata": {
        "colab": {
          "base_uri": "https://localhost:8080/",
          "height": 283
        },
        "id": "GMCi3sm4dtW4",
        "outputId": "ec529c3c-25b0-46f8-8ab7-328ef7fff6bf"
      },
      "source": [
        "df.plot(kind='barh')"
      ],
      "execution_count": 15,
      "outputs": [
        {
          "output_type": "execute_result",
          "data": {
            "text/plain": [
              "<matplotlib.axes._subplots.AxesSubplot at 0x7f4ec0fb1090>"
            ]
          },
          "metadata": {
            "tags": []
          },
          "execution_count": 15
        },
        {
          "output_type": "display_data",
          "data": {
            "image/png": "[encoded data removed]",
            "text/plain": [
              "<Figure size 432x288 with 1 Axes>"
            ]
          },
          "metadata": {
            "tags": [],
            "needs_background": "light"
          }
        }
      ]
    },
    {
      "cell_type": "code",
      "metadata": {
        "colab": {
          "base_uri": "https://localhost:8080/",
          "height": 325
        },
        "id": "Ykm0fkrydzGg",
        "outputId": "001f139d-55c3-4911-9d37-a3db565e80be"
      },
      "source": [
        "df.plot(kind='bar',stacked=True)"
      ],
      "execution_count": 16,
      "outputs": [
        {
          "output_type": "execute_result",
          "data": {
            "text/plain": [
              "<matplotlib.axes._subplots.AxesSubplot at 0x7f4ec0ed0250>"
            ]
          },
          "metadata": {
            "tags": []
          },
          "execution_count": 16
        },
        {
          "output_type": "display_data",
          "data": {
            "image/png": "[encoded data removed]",
            "text/plain": [
              "<Figure size 432x288 with 1 Axes>"
            ]
          },
          "metadata": {
            "tags": [],
            "needs_background": "light"
          }
        }
      ]
    },
    {
      "cell_type": "code",
      "metadata": {
        "colab": {
          "base_uri": "https://localhost:8080/",
          "height": 327
        },
        "id": "nyqXpRhId6LQ",
        "outputId": "05f1c5b0-fad1-4e47-9ba6-23dd08264d02"
      },
      "source": [
        "df['Female'].plot(kind='bar') #시리즈에도 plot 메소드가 있음"
      ],
      "execution_count": 17,
      "outputs": [
        {
          "output_type": "execute_result",
          "data": {
            "text/plain": [
              "<matplotlib.axes._subplots.AxesSubplot at 0x7f4ec0e5de90>"
            ]
          },
          "metadata": {
            "tags": []
          },
          "execution_count": 17
        },
        {
          "output_type": "display_data",
          "data": {
            "image/png": "[encoded data removed]",
            "text/plain": [
              "<Figure size 432x288 with 1 Axes>"
            ]
          },
          "metadata": {
            "tags": [],
            "needs_background": "light"
          }
        }
      ]
    },
    {
      "cell_type": "code",
      "metadata": {
        "id": "prnvugpvf7Ip"
      },
      "source": [
        "#실리콘밸리에는 누가 일할까\n",
        "%matplotlib inline\n",
        "import pandas as pd\n",
        "\n",
        "df = pd.read_csv('data/silicon_valley_summary.csv')\n",
        "\n",
        "# 코드를 작성하세요.\n",
        "male_manager=(df['gender']=='Male')&(df['job_category']=='Managers')&(df['race_ethnicity'] != 'All')\n",
        "df[male_manager].plot(kind='bar',x='race_ethnicity',y='count')"
      ],
      "execution_count": null,
      "outputs": []
    },
    {
      "cell_type": "markdown",
      "metadata": {
        "id": "7N0vmUX7gFRw"
      },
      "source": [
        "파이그래프"
      ]
    },
    {
      "cell_type": "code",
      "metadata": {
        "colab": {
          "base_uri": "https://localhost:8080/",
          "height": 266
        },
        "id": "K6vaXXWkgG5Y",
        "outputId": "657381d4-2e1b-48e6-d510-aaf0bda583a3"
      },
      "source": [
        "%matplotlib inline\n",
        "import pandas as pd\n",
        "\n",
        "df = pd.read_csv('/content/drive/MyDrive/broadcast.csv',index_col=0)\n",
        "df"
      ],
      "execution_count": 18,
      "outputs": [
        {
          "output_type": "execute_result",
          "data": {
            "text/html": [
              "<div>\n",
              "<style scoped>\n",
              "    .dataframe tbody tr th:only-of-type {\n",
              "        vertical-align: middle;\n",
              "    }\n",
              "\n",
              "    .dataframe tbody tr th {\n",
              "        vertical-align: top;\n",
              "    }\n",
              "\n",
              "    .dataframe thead th {\n",
              "        text-align: right;\n",
              "    }\n",
              "</style>\n",
              "<table border=\"1\" class=\"dataframe\">\n",
              "  <thead>\n",
              "    <tr style=\"text-align: right;\">\n",
              "      <th></th>\n",
              "      <th>KBS</th>\n",
              "      <th>MBC</th>\n",
              "      <th>SBS</th>\n",
              "      <th>TV CHOSUN</th>\n",
              "      <th>JTBC</th>\n",
              "      <th>Channel A</th>\n",
              "      <th>MBN</th>\n",
              "    </tr>\n",
              "  </thead>\n",
              "  <tbody>\n",
              "    <tr>\n",
              "      <th>2011</th>\n",
              "      <td>35.951</td>\n",
              "      <td>18.374</td>\n",
              "      <td>11.173</td>\n",
              "      <td>9.102</td>\n",
              "      <td>7.380</td>\n",
              "      <td>3.771</td>\n",
              "      <td>2.809</td>\n",
              "    </tr>\n",
              "    <tr>\n",
              "      <th>2012</th>\n",
              "      <td>36.163</td>\n",
              "      <td>16.022</td>\n",
              "      <td>11.408</td>\n",
              "      <td>8.785</td>\n",
              "      <td>7.878</td>\n",
              "      <td>5.874</td>\n",
              "      <td>3.310</td>\n",
              "    </tr>\n",
              "    <tr>\n",
              "      <th>2013</th>\n",
              "      <td>31.989</td>\n",
              "      <td>16.778</td>\n",
              "      <td>9.673</td>\n",
              "      <td>9.026</td>\n",
              "      <td>7.810</td>\n",
              "      <td>5.350</td>\n",
              "      <td>3.825</td>\n",
              "    </tr>\n",
              "    <tr>\n",
              "      <th>2014</th>\n",
              "      <td>31.210</td>\n",
              "      <td>15.663</td>\n",
              "      <td>9.108</td>\n",
              "      <td>9.440</td>\n",
              "      <td>7.490</td>\n",
              "      <td>5.776</td>\n",
              "      <td>4.572</td>\n",
              "    </tr>\n",
              "    <tr>\n",
              "      <th>2015</th>\n",
              "      <td>27.777</td>\n",
              "      <td>16.573</td>\n",
              "      <td>9.099</td>\n",
              "      <td>9.940</td>\n",
              "      <td>7.267</td>\n",
              "      <td>6.678</td>\n",
              "      <td>5.520</td>\n",
              "    </tr>\n",
              "    <tr>\n",
              "      <th>2016</th>\n",
              "      <td>27.583</td>\n",
              "      <td>14.982</td>\n",
              "      <td>8.669</td>\n",
              "      <td>9.829</td>\n",
              "      <td>7.727</td>\n",
              "      <td>6.624</td>\n",
              "      <td>5.477</td>\n",
              "    </tr>\n",
              "    <tr>\n",
              "      <th>2017</th>\n",
              "      <td>26.890</td>\n",
              "      <td>12.465</td>\n",
              "      <td>8.661</td>\n",
              "      <td>8.886</td>\n",
              "      <td>9.453</td>\n",
              "      <td>6.056</td>\n",
              "      <td>5.215</td>\n",
              "    </tr>\n",
              "  </tbody>\n",
              "</table>\n",
              "</div>"
            ],
            "text/plain": [
              "         KBS     MBC     SBS  TV CHOSUN   JTBC  Channel A    MBN\n",
              "2011  35.951  18.374  11.173      9.102  7.380      3.771  2.809\n",
              "2012  36.163  16.022  11.408      8.785  7.878      5.874  3.310\n",
              "2013  31.989  16.778   9.673      9.026  7.810      5.350  3.825\n",
              "2014  31.210  15.663   9.108      9.440  7.490      5.776  4.572\n",
              "2015  27.777  16.573   9.099      9.940  7.267      6.678  5.520\n",
              "2016  27.583  14.982   8.669      9.829  7.727      6.624  5.477\n",
              "2017  26.890  12.465   8.661      8.886  9.453      6.056  5.215"
            ]
          },
          "metadata": {
            "tags": []
          },
          "execution_count": 18
        }
      ]
    },
    {
      "cell_type": "code",
      "metadata": {
        "colab": {
          "base_uri": "https://localhost:8080/"
        },
        "id": "9-I1SeejgR8_",
        "outputId": "4a20543d-d7c3-41c8-9648-3c4953e144c6"
      },
      "source": [
        "df.loc[2017]"
      ],
      "execution_count": 19,
      "outputs": [
        {
          "output_type": "execute_result",
          "data": {
            "text/plain": [
              "KBS          26.890\n",
              "MBC          12.465\n",
              "SBS           8.661\n",
              "TV CHOSUN     8.886\n",
              "JTBC          9.453\n",
              "Channel A     6.056\n",
              "MBN           5.215\n",
              "Name: 2017, dtype: float64"
            ]
          },
          "metadata": {
            "tags": []
          },
          "execution_count": 19
        }
      ]
    },
    {
      "cell_type": "code",
      "metadata": {
        "colab": {
          "base_uri": "https://localhost:8080/",
          "height": 266
        },
        "id": "KyL3TX35gddX",
        "outputId": "e7676721-50d4-4f0e-fce2-f5bd5170d54a"
      },
      "source": [
        "df.loc[2017].plot(kind='pie')"
      ],
      "execution_count": 20,
      "outputs": [
        {
          "output_type": "execute_result",
          "data": {
            "text/plain": [
              "<matplotlib.axes._subplots.AxesSubplot at 0x7f4ec11bed90>"
            ]
          },
          "metadata": {
            "tags": []
          },
          "execution_count": 20
        },
        {
          "output_type": "display_data",
          "data": {
            "image/png": "[encoded data removed]",
            "text/plain": [
              "<Figure size 432x288 with 1 Axes>"
            ]
          },
          "metadata": {
            "tags": []
          }
        }
      ]
    },
    {
      "cell_type": "markdown",
      "metadata": {
        "id": "gkG7hpDTiQSm"
      },
      "source": [
        "히스토그램 :묶어서 한 묶음으로 센다\n",
        "\n",
        "\n",
        "\n"
      ]
    },
    {
      "cell_type": "code",
      "metadata": {
        "colab": {
          "base_uri": "https://localhost:8080/",
          "height": 450
        },
        "id": "3DGZn7Z0iVbI",
        "outputId": "2849ef68-b106-4cd7-c978-00de25349a5d"
      },
      "source": [
        "df = pd.read_csv('/content/drive/MyDrive/body.csv',index_col=0)\n",
        "df"
      ],
      "execution_count": 21,
      "outputs": [
        {
          "output_type": "execute_result",
          "data": {
            "text/html": [
              "<div>\n",
              "<style scoped>\n",
              "    .dataframe tbody tr th:only-of-type {\n",
              "        vertical-align: middle;\n",
              "    }\n",
              "\n",
              "    .dataframe tbody tr th {\n",
              "        vertical-align: top;\n",
              "    }\n",
              "\n",
              "    .dataframe thead th {\n",
              "        text-align: right;\n",
              "    }\n",
              "</style>\n",
              "<table border=\"1\" class=\"dataframe\">\n",
              "  <thead>\n",
              "    <tr style=\"text-align: right;\">\n",
              "      <th></th>\n",
              "      <th>Height</th>\n",
              "      <th>Weight</th>\n",
              "    </tr>\n",
              "    <tr>\n",
              "      <th>Number</th>\n",
              "      <th></th>\n",
              "      <th></th>\n",
              "    </tr>\n",
              "  </thead>\n",
              "  <tbody>\n",
              "    <tr>\n",
              "      <th>1</th>\n",
              "      <td>176.0</td>\n",
              "      <td>85.2</td>\n",
              "    </tr>\n",
              "    <tr>\n",
              "      <th>2</th>\n",
              "      <td>175.3</td>\n",
              "      <td>67.7</td>\n",
              "    </tr>\n",
              "    <tr>\n",
              "      <th>3</th>\n",
              "      <td>168.6</td>\n",
              "      <td>75.2</td>\n",
              "    </tr>\n",
              "    <tr>\n",
              "      <th>4</th>\n",
              "      <td>168.1</td>\n",
              "      <td>67.1</td>\n",
              "    </tr>\n",
              "    <tr>\n",
              "      <th>5</th>\n",
              "      <td>175.3</td>\n",
              "      <td>63.0</td>\n",
              "    </tr>\n",
              "    <tr>\n",
              "      <th>...</th>\n",
              "      <td>...</td>\n",
              "      <td>...</td>\n",
              "    </tr>\n",
              "    <tr>\n",
              "      <th>996</th>\n",
              "      <td>171.8</td>\n",
              "      <td>68.2</td>\n",
              "    </tr>\n",
              "    <tr>\n",
              "      <th>997</th>\n",
              "      <td>171.5</td>\n",
              "      <td>75.6</td>\n",
              "    </tr>\n",
              "    <tr>\n",
              "      <th>998</th>\n",
              "      <td>177.9</td>\n",
              "      <td>66.5</td>\n",
              "    </tr>\n",
              "    <tr>\n",
              "      <th>999</th>\n",
              "      <td>174.4</td>\n",
              "      <td>72.0</td>\n",
              "    </tr>\n",
              "    <tr>\n",
              "      <th>1000</th>\n",
              "      <td>173.5</td>\n",
              "      <td>77.4</td>\n",
              "    </tr>\n",
              "  </tbody>\n",
              "</table>\n",
              "<p>1000 rows × 2 columns</p>\n",
              "</div>"
            ],
            "text/plain": [
              "        Height  Weight\n",
              "Number                \n",
              "1        176.0    85.2\n",
              "2        175.3    67.7\n",
              "3        168.6    75.2\n",
              "4        168.1    67.1\n",
              "5        175.3    63.0\n",
              "...        ...     ...\n",
              "996      171.8    68.2\n",
              "997      171.5    75.6\n",
              "998      177.9    66.5\n",
              "999      174.4    72.0\n",
              "1000     173.5    77.4\n",
              "\n",
              "[1000 rows x 2 columns]"
            ]
          },
          "metadata": {
            "tags": []
          },
          "execution_count": 21
        }
      ]
    },
    {
      "cell_type": "code",
      "metadata": {
        "colab": {
          "base_uri": "https://localhost:8080/",
          "height": 283
        },
        "id": "aSAkC6lTi8Y3",
        "outputId": "584af814-0715-408c-9dc8-bced04e25842"
      },
      "source": [
        "df.plot(kind='hist',y='Height') #자동-범위가 10개"
      ],
      "execution_count": 22,
      "outputs": [
        {
          "output_type": "execute_result",
          "data": {
            "text/plain": [
              "<matplotlib.axes._subplots.AxesSubplot at 0x7f4ec0ddd4d0>"
            ]
          },
          "metadata": {
            "tags": []
          },
          "execution_count": 22
        },
        {
          "output_type": "display_data",
          "data": {
            "image/png": "[encoded data removed]",
            "text/plain": [
              "<Figure size 432x288 with 1 Axes>"
            ]
          },
          "metadata": {
            "tags": [],
            "needs_background": "light"
          }
        }
      ]
    },
    {
      "cell_type": "code",
      "metadata": {
        "colab": {
          "base_uri": "https://localhost:8080/",
          "height": 283
        },
        "id": "mx43y4gcjLFq",
        "outputId": "9f59c8b4-52d4-4dcb-8fd4-bb3fc498f035"
      },
      "source": [
        "df.plot(kind='hist',y='Height',bins=15)"
      ],
      "execution_count": 23,
      "outputs": [
        {
          "output_type": "execute_result",
          "data": {
            "text/plain": [
              "<matplotlib.axes._subplots.AxesSubplot at 0x7f4ec12c27d0>"
            ]
          },
          "metadata": {
            "tags": []
          },
          "execution_count": 23
        },
        {
          "output_type": "display_data",
          "data": {
            "image/png": "[encoded data removed]",
            "text/plain": [
              "<Figure size 432x288 with 1 Axes>"
            ]
          },
          "metadata": {
            "tags": [],
            "needs_background": "light"
          }
        }
      ]
    },
    {
      "cell_type": "code",
      "metadata": {
        "colab": {
          "base_uri": "https://localhost:8080/",
          "height": 283
        },
        "id": "UHKmv33cjP_v",
        "outputId": "9c6894e7-e4bd-4029-8058-3547d55a7a84"
      },
      "source": [
        "df.plot(kind='hist',y='Height',bins=200)"
      ],
      "execution_count": 24,
      "outputs": [
        {
          "output_type": "execute_result",
          "data": {
            "text/plain": [
              "<matplotlib.axes._subplots.AxesSubplot at 0x7f4ebfa64a50>"
            ]
          },
          "metadata": {
            "tags": []
          },
          "execution_count": 24
        },
        {
          "output_type": "display_data",
          "data": {
            "image/png": "[encoded data removed]",
            "text/plain": [
              "<Figure size 432x288 with 1 Axes>"
            ]
          },
          "metadata": {
            "tags": [],
            "needs_background": "light"
          }
        }
      ]
    },
    {
      "cell_type": "markdown",
      "metadata": {
        "id": "gJ8LrhJdj5OA"
      },
      "source": [
        "박스플롯 : 통계정보를 시각적으로 보여줌<br>\n",
        "최댓값,최솟값,중간값Q2,75%지점Q1,25%지점Q3<br>\n",
        "이상점"
      ]
    },
    {
      "cell_type": "code",
      "metadata": {
        "colab": {
          "base_uri": "https://localhost:8080/",
          "height": 252
        },
        "id": "jXWY89PgkAYX",
        "outputId": "f99a29b4-bcf2-42f4-8828-9f813263874c"
      },
      "source": [
        "df= pd.read_csv('/content/drive/MyDrive/exam.csv',index_col=0)\n",
        "df.head()"
      ],
      "execution_count": 26,
      "outputs": [
        {
          "output_type": "execute_result",
          "data": {
            "text/html": [
              "<div>\n",
              "<style scoped>\n",
              "    .dataframe tbody tr th:only-of-type {\n",
              "        vertical-align: middle;\n",
              "    }\n",
              "\n",
              "    .dataframe tbody tr th {\n",
              "        vertical-align: top;\n",
              "    }\n",
              "\n",
              "    .dataframe thead th {\n",
              "        text-align: right;\n",
              "    }\n",
              "</style>\n",
              "<table border=\"1\" class=\"dataframe\">\n",
              "  <thead>\n",
              "    <tr style=\"text-align: right;\">\n",
              "      <th></th>\n",
              "      <th>race/ethnicity</th>\n",
              "      <th>parental level of education</th>\n",
              "      <th>lunch</th>\n",
              "      <th>test preparation course</th>\n",
              "      <th>math score</th>\n",
              "      <th>reading score</th>\n",
              "      <th>writing score</th>\n",
              "    </tr>\n",
              "    <tr>\n",
              "      <th>gender</th>\n",
              "      <th></th>\n",
              "      <th></th>\n",
              "      <th></th>\n",
              "      <th></th>\n",
              "      <th></th>\n",
              "      <th></th>\n",
              "      <th></th>\n",
              "    </tr>\n",
              "  </thead>\n",
              "  <tbody>\n",
              "    <tr>\n",
              "      <th>female</th>\n",
              "      <td>group B</td>\n",
              "      <td>bachelor's degree</td>\n",
              "      <td>standard</td>\n",
              "      <td>none</td>\n",
              "      <td>72</td>\n",
              "      <td>72</td>\n",
              "      <td>74</td>\n",
              "    </tr>\n",
              "    <tr>\n",
              "      <th>female</th>\n",
              "      <td>group C</td>\n",
              "      <td>some college</td>\n",
              "      <td>standard</td>\n",
              "      <td>completed</td>\n",
              "      <td>69</td>\n",
              "      <td>90</td>\n",
              "      <td>88</td>\n",
              "    </tr>\n",
              "    <tr>\n",
              "      <th>female</th>\n",
              "      <td>group B</td>\n",
              "      <td>master's degree</td>\n",
              "      <td>standard</td>\n",
              "      <td>none</td>\n",
              "      <td>90</td>\n",
              "      <td>95</td>\n",
              "      <td>93</td>\n",
              "    </tr>\n",
              "    <tr>\n",
              "      <th>male</th>\n",
              "      <td>group A</td>\n",
              "      <td>associate's degree</td>\n",
              "      <td>free/reduced</td>\n",
              "      <td>none</td>\n",
              "      <td>47</td>\n",
              "      <td>57</td>\n",
              "      <td>44</td>\n",
              "    </tr>\n",
              "    <tr>\n",
              "      <th>male</th>\n",
              "      <td>group C</td>\n",
              "      <td>some college</td>\n",
              "      <td>standard</td>\n",
              "      <td>none</td>\n",
              "      <td>76</td>\n",
              "      <td>78</td>\n",
              "      <td>75</td>\n",
              "    </tr>\n",
              "  </tbody>\n",
              "</table>\n",
              "</div>"
            ],
            "text/plain": [
              "       race/ethnicity parental level of education  ... reading score writing score\n",
              "gender                                             ...                            \n",
              "female        group B           bachelor's degree  ...            72            74\n",
              "female        group C                some college  ...            90            88\n",
              "female        group B             master's degree  ...            95            93\n",
              "male          group A          associate's degree  ...            57            44\n",
              "male          group C                some college  ...            78            75\n",
              "\n",
              "[5 rows x 7 columns]"
            ]
          },
          "metadata": {
            "tags": []
          },
          "execution_count": 26
        }
      ]
    },
    {
      "cell_type": "code",
      "metadata": {
        "colab": {
          "base_uri": "https://localhost:8080/"
        },
        "id": "ySMp4FTqkgkY",
        "outputId": "bd6dcda6-dccb-4100-d0c8-a609c5a58fe9"
      },
      "source": [
        "df['math score'].describe()"
      ],
      "execution_count": 27,
      "outputs": [
        {
          "output_type": "execute_result",
          "data": {
            "text/plain": [
              "count    1000.00000\n",
              "mean       66.08900\n",
              "std        15.16308\n",
              "min         0.00000\n",
              "25%        57.00000\n",
              "50%        66.00000\n",
              "75%        77.00000\n",
              "max       100.00000\n",
              "Name: math score, dtype: float64"
            ]
          },
          "metadata": {
            "tags": []
          },
          "execution_count": 27
        }
      ]
    },
    {
      "cell_type": "code",
      "metadata": {
        "colab": {
          "base_uri": "https://localhost:8080/",
          "height": 283
        },
        "id": "-zQz5RT6lJjQ",
        "outputId": "5a65a2c7-f71b-4b18-d652-2aa4cba3b65d"
      },
      "source": [
        "df.plot(kind='box',y='math score')"
      ],
      "execution_count": 28,
      "outputs": [
        {
          "output_type": "execute_result",
          "data": {
            "text/plain": [
              "<matplotlib.axes._subplots.AxesSubplot at 0x7f4ebfa30950>"
            ]
          },
          "metadata": {
            "tags": []
          },
          "execution_count": 28
        },
        {
          "output_type": "display_data",
          "data": {
            "image/png": "[encoded data removed]",
            "text/plain": [
              "<Figure size 432x288 with 1 Axes>"
            ]
          },
          "metadata": {
            "tags": [],
            "needs_background": "light"
          }
        }
      ]
    },
    {
      "cell_type": "code",
      "metadata": {
        "colab": {
          "base_uri": "https://localhost:8080/",
          "height": 283
        },
        "id": "f5tRsZ5hlWAP",
        "outputId": "33348ea6-8ddd-4bc0-8ed4-46b8e01110d5"
      },
      "source": [
        "df.plot(kind='box',y=['math score','reading score','writing score'])"
      ],
      "execution_count": 29,
      "outputs": [
        {
          "output_type": "execute_result",
          "data": {
            "text/plain": [
              "<matplotlib.axes._subplots.AxesSubplot at 0x7f4ebf6e6b10>"
            ]
          },
          "metadata": {
            "tags": []
          },
          "execution_count": 29
        },
        {
          "output_type": "display_data",
          "data": {
            "image/png": "[encoded data removed]",
            "text/plain": [
              "<Figure size 432x288 with 1 Axes>"
            ]
          },
          "metadata": {
            "tags": [],
            "needs_background": "light"
          }
        }
      ]
    },
    {
      "cell_type": "markdown",
      "metadata": {
        "id": "7Vvv23hPmMwn"
      },
      "source": [
        "산점도"
      ]
    },
    {
      "cell_type": "code",
      "metadata": {
        "colab": {
          "base_uri": "https://localhost:8080/",
          "height": 467
        },
        "id": "tsND_qkqmOfu",
        "outputId": "ef2a0e12-1b2f-47f9-c0f4-c7fc2be9e3db"
      },
      "source": [
        "df = pd.read_csv('/content/drive/MyDrive/exam.csv',index_col=0)\n",
        "df"
      ],
      "execution_count": 30,
      "outputs": [
        {
          "output_type": "execute_result",
          "data": {
            "text/html": [
              "<div>\n",
              "<style scoped>\n",
              "    .dataframe tbody tr th:only-of-type {\n",
              "        vertical-align: middle;\n",
              "    }\n",
              "\n",
              "    .dataframe tbody tr th {\n",
              "        vertical-align: top;\n",
              "    }\n",
              "\n",
              "    .dataframe thead th {\n",
              "        text-align: right;\n",
              "    }\n",
              "</style>\n",
              "<table border=\"1\" class=\"dataframe\">\n",
              "  <thead>\n",
              "    <tr style=\"text-align: right;\">\n",
              "      <th></th>\n",
              "      <th>race/ethnicity</th>\n",
              "      <th>parental level of education</th>\n",
              "      <th>lunch</th>\n",
              "      <th>test preparation course</th>\n",
              "      <th>math score</th>\n",
              "      <th>reading score</th>\n",
              "      <th>writing score</th>\n",
              "    </tr>\n",
              "    <tr>\n",
              "      <th>gender</th>\n",
              "      <th></th>\n",
              "      <th></th>\n",
              "      <th></th>\n",
              "      <th></th>\n",
              "      <th></th>\n",
              "      <th></th>\n",
              "      <th></th>\n",
              "    </tr>\n",
              "  </thead>\n",
              "  <tbody>\n",
              "    <tr>\n",
              "      <th>female</th>\n",
              "      <td>group B</td>\n",
              "      <td>bachelor's degree</td>\n",
              "      <td>standard</td>\n",
              "      <td>none</td>\n",
              "      <td>72</td>\n",
              "      <td>72</td>\n",
              "      <td>74</td>\n",
              "    </tr>\n",
              "    <tr>\n",
              "      <th>female</th>\n",
              "      <td>group C</td>\n",
              "      <td>some college</td>\n",
              "      <td>standard</td>\n",
              "      <td>completed</td>\n",
              "      <td>69</td>\n",
              "      <td>90</td>\n",
              "      <td>88</td>\n",
              "    </tr>\n",
              "    <tr>\n",
              "      <th>female</th>\n",
              "      <td>group B</td>\n",
              "      <td>master's degree</td>\n",
              "      <td>standard</td>\n",
              "      <td>none</td>\n",
              "      <td>90</td>\n",
              "      <td>95</td>\n",
              "      <td>93</td>\n",
              "    </tr>\n",
              "    <tr>\n",
              "      <th>male</th>\n",
              "      <td>group A</td>\n",
              "      <td>associate's degree</td>\n",
              "      <td>free/reduced</td>\n",
              "      <td>none</td>\n",
              "      <td>47</td>\n",
              "      <td>57</td>\n",
              "      <td>44</td>\n",
              "    </tr>\n",
              "    <tr>\n",
              "      <th>male</th>\n",
              "      <td>group C</td>\n",
              "      <td>some college</td>\n",
              "      <td>standard</td>\n",
              "      <td>none</td>\n",
              "      <td>76</td>\n",
              "      <td>78</td>\n",
              "      <td>75</td>\n",
              "    </tr>\n",
              "    <tr>\n",
              "      <th>...</th>\n",
              "      <td>...</td>\n",
              "      <td>...</td>\n",
              "      <td>...</td>\n",
              "      <td>...</td>\n",
              "      <td>...</td>\n",
              "      <td>...</td>\n",
              "      <td>...</td>\n",
              "    </tr>\n",
              "    <tr>\n",
              "      <th>female</th>\n",
              "      <td>group E</td>\n",
              "      <td>master's degree</td>\n",
              "      <td>standard</td>\n",
              "      <td>completed</td>\n",
              "      <td>88</td>\n",
              "      <td>99</td>\n",
              "      <td>95</td>\n",
              "    </tr>\n",
              "    <tr>\n",
              "      <th>male</th>\n",
              "      <td>group C</td>\n",
              "      <td>high school</td>\n",
              "      <td>free/reduced</td>\n",
              "      <td>none</td>\n",
              "      <td>62</td>\n",
              "      <td>55</td>\n",
              "      <td>55</td>\n",
              "    </tr>\n",
              "    <tr>\n",
              "      <th>female</th>\n",
              "      <td>group C</td>\n",
              "      <td>high school</td>\n",
              "      <td>free/reduced</td>\n",
              "      <td>completed</td>\n",
              "      <td>59</td>\n",
              "      <td>71</td>\n",
              "      <td>65</td>\n",
              "    </tr>\n",
              "    <tr>\n",
              "      <th>female</th>\n",
              "      <td>group D</td>\n",
              "      <td>some college</td>\n",
              "      <td>standard</td>\n",
              "      <td>completed</td>\n",
              "      <td>68</td>\n",
              "      <td>78</td>\n",
              "      <td>77</td>\n",
              "    </tr>\n",
              "    <tr>\n",
              "      <th>female</th>\n",
              "      <td>group D</td>\n",
              "      <td>some college</td>\n",
              "      <td>free/reduced</td>\n",
              "      <td>none</td>\n",
              "      <td>77</td>\n",
              "      <td>86</td>\n",
              "      <td>86</td>\n",
              "    </tr>\n",
              "  </tbody>\n",
              "</table>\n",
              "<p>1000 rows × 7 columns</p>\n",
              "</div>"
            ],
            "text/plain": [
              "       race/ethnicity parental level of education  ... reading score writing score\n",
              "gender                                             ...                            \n",
              "female        group B           bachelor's degree  ...            72            74\n",
              "female        group C                some college  ...            90            88\n",
              "female        group B             master's degree  ...            95            93\n",
              "male          group A          associate's degree  ...            57            44\n",
              "male          group C                some college  ...            78            75\n",
              "...               ...                         ...  ...           ...           ...\n",
              "female        group E             master's degree  ...            99            95\n",
              "male          group C                 high school  ...            55            55\n",
              "female        group C                 high school  ...            71            65\n",
              "female        group D                some college  ...            78            77\n",
              "female        group D                some college  ...            86            86\n",
              "\n",
              "[1000 rows x 7 columns]"
            ]
          },
          "metadata": {
            "tags": []
          },
          "execution_count": 30
        }
      ]
    },
    {
      "cell_type": "code",
      "metadata": {
        "colab": {
          "base_uri": "https://localhost:8080/",
          "height": 297
        },
        "id": "Wrrf8x-nmcW3",
        "outputId": "ef66a20c-5653-4487-a6b8-fc2c1d8d16f9"
      },
      "source": [
        "df.plot(kind='scatter',x='math score',y='reading score')"
      ],
      "execution_count": 31,
      "outputs": [
        {
          "output_type": "execute_result",
          "data": {
            "text/plain": [
              "<matplotlib.axes._subplots.AxesSubplot at 0x7f4ebf608090>"
            ]
          },
          "metadata": {
            "tags": []
          },
          "execution_count": 31
        },
        {
          "output_type": "display_data",
          "data": {
            "image/png": "[encoded data removed]",
            "text/plain": [
              "<Figure size 432x288 with 1 Axes>"
            ]
          },
          "metadata": {
            "tags": [],
            "needs_background": "light"
          }
        }
      ]
    },
    {
      "cell_type": "code",
      "metadata": {
        "colab": {
          "base_uri": "https://localhost:8080/",
          "height": 297
        },
        "id": "t3WGBcf2mmff",
        "outputId": "55824409-9f2b-496c-cf7a-492391ac3c67"
      },
      "source": [
        "df.plot(kind='scatter',x='math score',y='writing score')"
      ],
      "execution_count": 32,
      "outputs": [
        {
          "output_type": "execute_result",
          "data": {
            "text/plain": [
              "<matplotlib.axes._subplots.AxesSubplot at 0x7f4ebf5f2910>"
            ]
          },
          "metadata": {
            "tags": []
          },
          "execution_count": 32
        },
        {
          "output_type": "display_data",
          "data": {
            "image/png": "[encoded data removed]",
            "text/plain": [
              "<Figure size 432x288 with 1 Axes>"
            ]
          },
          "metadata": {
            "tags": [],
            "needs_background": "light"
          }
        }
      ]
    },
    {
      "cell_type": "code",
      "metadata": {
        "colab": {
          "base_uri": "https://localhost:8080/",
          "height": 297
        },
        "id": "zvhgTgdUmufO",
        "outputId": "6c675702-4581-4315-bc0f-8cee5be770a4"
      },
      "source": [
        "df.plot(kind='scatter',x='writing score',y='reading score')"
      ],
      "execution_count": 34,
      "outputs": [
        {
          "output_type": "execute_result",
          "data": {
            "text/plain": [
              "<matplotlib.axes._subplots.AxesSubplot at 0x7f4ebf610f50>"
            ]
          },
          "metadata": {
            "tags": []
          },
          "execution_count": 34
        },
        {
          "output_type": "display_data",
          "data": {
            "image/png": "[encoded data removed]",
            "text/plain": [
              "<Figure size 432x288 with 1 Axes>"
            ]
          },
          "metadata": {
            "tags": [],
            "needs_background": "light"
          }
        }
      ]
    },
    {
      "cell_type": "markdown",
      "metadata": {
        "id": "8GXM4f1JnA1e"
      },
      "source": [
        "\n",
        "\n",
        "---\n",
        "국가지표 분석하기 퀴즈\n",
        "\n"
      ]
    },
    {
      "cell_type": "code",
      "metadata": {
        "colab": {
          "base_uri": "https://localhost:8080/",
          "height": 408
        },
        "id": "QY2OsGC6nDfu",
        "outputId": "97d58f7b-83e1-4440-df54-73b0d4ad88d1"
      },
      "source": [
        "df = pd.read_csv('/content/drive/MyDrive/world_indexes.csv',index_col=0)\n",
        "df.head()"
      ],
      "execution_count": 35,
      "outputs": [
        {
          "output_type": "execute_result",
          "data": {
            "text/html": [
              "<div>\n",
              "<style scoped>\n",
              "    .dataframe tbody tr th:only-of-type {\n",
              "        vertical-align: middle;\n",
              "    }\n",
              "\n",
              "    .dataframe tbody tr th {\n",
              "        vertical-align: top;\n",
              "    }\n",
              "\n",
              "    .dataframe thead th {\n",
              "        text-align: right;\n",
              "    }\n",
              "</style>\n",
              "<table border=\"1\" class=\"dataframe\">\n",
              "  <thead>\n",
              "    <tr style=\"text-align: right;\">\n",
              "      <th></th>\n",
              "      <th>Human Development Index HDI-2014</th>\n",
              "      <th>Gini coefficient 2005-2013</th>\n",
              "      <th>Adolescent birth rate 15-19 per 100k 20102015</th>\n",
              "      <th>Birth registration funder age 5 2005-2013</th>\n",
              "      <th>Carbon dioxide emissionsAverage annual growth</th>\n",
              "      <th>Carbon dioxide emissions per capita 2011 Tones</th>\n",
              "      <th>Change forest percentable 1900 to 2012</th>\n",
              "      <th>Change mobile usage 2009 2014</th>\n",
              "      <th>Consumer price index 2013</th>\n",
              "      <th>Domestic credit provided by financial sector 2013</th>\n",
              "      <th>Domestic food price level 2009 2014 index</th>\n",
              "      <th>Domestic food price level 2009-2014 volitility index</th>\n",
              "      <th>Electrification rate or population</th>\n",
              "      <th>Expected years of schooling - Years</th>\n",
              "      <th>Exports and imports percentage GPD 2013</th>\n",
              "      <th>Female Suicide Rate 100k people</th>\n",
              "      <th>Foreign direct investment net inflows percentage GDP 2013</th>\n",
              "      <th>Forest area percentage of total land area 2012</th>\n",
              "      <th>Fossil fuels percentage of total 2012</th>\n",
              "      <th>Fresh water withdrawals 2005</th>\n",
              "      <th>Gender Inequality Index 2014</th>\n",
              "      <th>General government final consumption expenditure - Annual growth 2005 2013</th>\n",
              "      <th>General government final consumption expenditure - Perce of GDP 2005-2013</th>\n",
              "      <th>Gross domestic product GDP 2013</th>\n",
              "      <th>Gross domestic product GDP percapta</th>\n",
              "      <th>Gross fixed capital formation of GDP 2005-2013</th>\n",
              "      <th>Gross national income GNI per capita - 2011  Dollars</th>\n",
              "      <th>Homeless people due to natural disaster 2005 2014 per million people</th>\n",
              "      <th>Homicide rate per 100k people 2008-2012</th>\n",
              "      <th>Infant Mortality 2013 per thousands</th>\n",
              "      <th>International inbound tourists thausands 2013</th>\n",
              "      <th>International student mobility of total tetiary enrolvemnt 2013</th>\n",
              "      <th>Internet users percentage of population 2014</th>\n",
              "      <th>Intimate or nonintimate partner violence ever experienced 2001-2011</th>\n",
              "      <th>Life expectancy at birth- years</th>\n",
              "      <th>MaleSuicide Rate 100k people</th>\n",
              "      <th>Maternal mortality ratio deaths per 100 live births 2013</th>\n",
              "      <th>Mean years of schooling - Years</th>\n",
              "      <th>Mobile phone subscriptions per 100 people 2014</th>\n",
              "      <th>Natural resource depletion</th>\n",
              "      <th>Net migration rate per 1k people 2010-2015</th>\n",
              "      <th>Physicians per 10k people</th>\n",
              "      <th>Population affected by natural desasters average annual per million people 2005-2014</th>\n",
              "      <th>Population living on degraded land Percentage 2010</th>\n",
              "      <th>Population with at least some secondary education percent 2005-2013</th>\n",
              "      <th>Pre-primary 2008-2014</th>\n",
              "      <th>Primary-2008-2014</th>\n",
              "      <th>Primary school dropout rate 2008-2014</th>\n",
              "      <th>Prison population per 100k people</th>\n",
              "      <th>Private capital flows percentage GDP 2013</th>\n",
              "      <th>Public expenditure on education Percentange GDP</th>\n",
              "      <th>Public health expenditure percentage of GDP 2013</th>\n",
              "      <th>Pupil-teacher ratio primary school pupils per teacher 2008-2014</th>\n",
              "      <th>Refugees by country of origin</th>\n",
              "      <th>Remittances inflows percentual GDP 2013</th>\n",
              "      <th>Renewable sources percentage of total 2012</th>\n",
              "      <th>Research and development expenditure  2005-2012</th>\n",
              "      <th>Secondary 2008-2014</th>\n",
              "      <th>Share of seats in parliament percentage held by womand 2014</th>\n",
              "      <th>Stock of immigrants percentage of population 2013</th>\n",
              "      <th>Taxes on income profit and capital gain 205 2013</th>\n",
              "      <th>Tertiary -2008-2014</th>\n",
              "      <th>Total tax revenue of GDP 2005-2013</th>\n",
              "      <th>Tuberculosis rate per thousands 2012</th>\n",
              "      <th>Under-five Mortality 2013 thousands</th>\n",
              "    </tr>\n",
              "    <tr>\n",
              "      <th>Id</th>\n",
              "      <th></th>\n",
              "      <th></th>\n",
              "      <th></th>\n",
              "      <th></th>\n",
              "      <th></th>\n",
              "      <th></th>\n",
              "      <th></th>\n",
              "      <th></th>\n",
              "      <th></th>\n",
              "      <th></th>\n",
              "      <th></th>\n",
              "      <th></th>\n",
              "      <th></th>\n",
              "      <th></th>\n",
              "      <th></th>\n",
              "      <th></th>\n",
              "      <th></th>\n",
              "      <th></th>\n",
              "      <th></th>\n",
              "      <th></th>\n",
              "      <th></th>\n",
              "      <th></th>\n",
              "      <th></th>\n",
              "      <th></th>\n",
              "      <th></th>\n",
              "      <th></th>\n",
              "      <th></th>\n",
              "      <th></th>\n",
              "      <th></th>\n",
              "      <th></th>\n",
              "      <th></th>\n",
              "      <th></th>\n",
              "      <th></th>\n",
              "      <th></th>\n",
              "      <th></th>\n",
              "      <th></th>\n",
              "      <th></th>\n",
              "      <th></th>\n",
              "      <th></th>\n",
              "      <th></th>\n",
              "      <th></th>\n",
              "      <th></th>\n",
              "      <th></th>\n",
              "      <th></th>\n",
              "      <th></th>\n",
              "      <th></th>\n",
              "      <th></th>\n",
              "      <th></th>\n",
              "      <th></th>\n",
              "      <th></th>\n",
              "      <th></th>\n",
              "      <th></th>\n",
              "      <th></th>\n",
              "      <th></th>\n",
              "      <th></th>\n",
              "      <th></th>\n",
              "      <th></th>\n",
              "      <th></th>\n",
              "      <th></th>\n",
              "      <th></th>\n",
              "      <th></th>\n",
              "      <th></th>\n",
              "      <th></th>\n",
              "      <th></th>\n",
              "      <th></th>\n",
              "    </tr>\n",
              "  </thead>\n",
              "  <tbody>\n",
              "    <tr>\n",
              "      <th>Norway</th>\n",
              "      <td>0.943877</td>\n",
              "      <td>26.83</td>\n",
              "      <td>7.834</td>\n",
              "      <td>100.0</td>\n",
              "      <td>0.778925</td>\n",
              "      <td>9.192879</td>\n",
              "      <td>11.914567</td>\n",
              "      <td>5.22</td>\n",
              "      <td>104.194175</td>\n",
              "      <td>86.956222</td>\n",
              "      <td>1.51</td>\n",
              "      <td>11.3</td>\n",
              "      <td>100.0</td>\n",
              "      <td>17.49259</td>\n",
              "      <td>67.03594</td>\n",
              "      <td>5.2</td>\n",
              "      <td>0.512555</td>\n",
              "      <td>27.973433</td>\n",
              "      <td>57.271805</td>\n",
              "      <td>0.750000</td>\n",
              "      <td>0.067443</td>\n",
              "      <td>1.815164</td>\n",
              "      <td>21.852720</td>\n",
              "      <td>317.497587</td>\n",
              "      <td>62448.01762</td>\n",
              "      <td>22.644476</td>\n",
              "      <td>64992.34046</td>\n",
              "      <td>0.00000</td>\n",
              "      <td>2.2</td>\n",
              "      <td>2.3</td>\n",
              "      <td>4963.0</td>\n",
              "      <td>-3.37449</td>\n",
              "      <td>96.30</td>\n",
              "      <td>26.800000</td>\n",
              "      <td>81.6</td>\n",
              "      <td>13.0</td>\n",
              "      <td>4.0</td>\n",
              "      <td>12.631000</td>\n",
              "      <td>116.51</td>\n",
              "      <td>9.019499</td>\n",
              "      <td>6.0</td>\n",
              "      <td>37.39</td>\n",
              "      <td>12.347838</td>\n",
              "      <td>0.186818</td>\n",
              "      <td>97.05961</td>\n",
              "      <td>98.85057</td>\n",
              "      <td>99.43699</td>\n",
              "      <td>1.511550</td>\n",
              "      <td>72.0</td>\n",
              "      <td>11.467400</td>\n",
              "      <td>6.55284</td>\n",
              "      <td>9.573011</td>\n",
              "      <td>9.590637</td>\n",
              "      <td>0.013</td>\n",
              "      <td>0.154407</td>\n",
              "      <td>47.752676</td>\n",
              "      <td>1.65474</td>\n",
              "      <td>111.06130</td>\n",
              "      <td>39.644970</td>\n",
              "      <td>13.772622</td>\n",
              "      <td>31.798391</td>\n",
              "      <td>74.10112</td>\n",
              "      <td>27.288097</td>\n",
              "      <td>0.14</td>\n",
              "      <td>2.8</td>\n",
              "    </tr>\n",
              "    <tr>\n",
              "      <th>Australia</th>\n",
              "      <td>0.934958</td>\n",
              "      <td>34.01</td>\n",
              "      <td>12.059</td>\n",
              "      <td>100.0</td>\n",
              "      <td>1.090351</td>\n",
              "      <td>16.519210</td>\n",
              "      <td>-4.561812</td>\n",
              "      <td>30.27</td>\n",
              "      <td>107.789440</td>\n",
              "      <td>158.840776</td>\n",
              "      <td>1.36</td>\n",
              "      <td>6.3</td>\n",
              "      <td>100.0</td>\n",
              "      <td>20.22107</td>\n",
              "      <td>40.99572</td>\n",
              "      <td>5.2</td>\n",
              "      <td>3.330412</td>\n",
              "      <td>19.193731</td>\n",
              "      <td>95.367798</td>\n",
              "      <td>3.930000</td>\n",
              "      <td>0.110130</td>\n",
              "      <td>-0.017410</td>\n",
              "      <td>17.746742</td>\n",
              "      <td>990.721004</td>\n",
              "      <td>42831.06163</td>\n",
              "      <td>28.327407</td>\n",
              "      <td>42260.61295</td>\n",
              "      <td>33.40662</td>\n",
              "      <td>1.1</td>\n",
              "      <td>3.4</td>\n",
              "      <td>6382.0</td>\n",
              "      <td>17.13209</td>\n",
              "      <td>84.56</td>\n",
              "      <td>39.900000</td>\n",
              "      <td>82.4</td>\n",
              "      <td>16.1</td>\n",
              "      <td>6.0</td>\n",
              "      <td>12.963381</td>\n",
              "      <td>131.23</td>\n",
              "      <td>3.819851</td>\n",
              "      <td>6.5</td>\n",
              "      <td>32.73</td>\n",
              "      <td>1337.393551</td>\n",
              "      <td>8.984550</td>\n",
              "      <td>94.44895</td>\n",
              "      <td>107.77737</td>\n",
              "      <td>104.83840</td>\n",
              "      <td>6.118623</td>\n",
              "      <td>130.0</td>\n",
              "      <td>-6.789013</td>\n",
              "      <td>5.11041</td>\n",
              "      <td>8.998704</td>\n",
              "      <td>12.303007</td>\n",
              "      <td>0.025</td>\n",
              "      <td>0.157953</td>\n",
              "      <td>4.632202</td>\n",
              "      <td>2.38562</td>\n",
              "      <td>135.53543</td>\n",
              "      <td>30.530973</td>\n",
              "      <td>27.711793</td>\n",
              "      <td>65.333748</td>\n",
              "      <td>86.33409</td>\n",
              "      <td>21.361426</td>\n",
              "      <td>0.19</td>\n",
              "      <td>4.0</td>\n",
              "    </tr>\n",
              "    <tr>\n",
              "      <th>Switzerland</th>\n",
              "      <td>0.929613</td>\n",
              "      <td>32.35</td>\n",
              "      <td>1.900</td>\n",
              "      <td>100.0</td>\n",
              "      <td>-1.101254</td>\n",
              "      <td>4.625230</td>\n",
              "      <td>8.567416</td>\n",
              "      <td>16.72</td>\n",
              "      <td>99.317229</td>\n",
              "      <td>173.429316</td>\n",
              "      <td>1.35</td>\n",
              "      <td>6.6</td>\n",
              "      <td>100.0</td>\n",
              "      <td>15.79043</td>\n",
              "      <td>132.18280</td>\n",
              "      <td>5.1</td>\n",
              "      <td>-1.193327</td>\n",
              "      <td>31.612511</td>\n",
              "      <td>51.075638</td>\n",
              "      <td>12.313333</td>\n",
              "      <td>0.027848</td>\n",
              "      <td>1.447043</td>\n",
              "      <td>10.963507</td>\n",
              "      <td>442.036593</td>\n",
              "      <td>54697.46682</td>\n",
              "      <td>23.417336</td>\n",
              "      <td>56431.06833</td>\n",
              "      <td>0.00000</td>\n",
              "      <td>0.6</td>\n",
              "      <td>3.6</td>\n",
              "      <td>8967.0</td>\n",
              "      <td>12.61502</td>\n",
              "      <td>87.00</td>\n",
              "      <td>39.000000</td>\n",
              "      <td>83.0</td>\n",
              "      <td>13.6</td>\n",
              "      <td>6.0</td>\n",
              "      <td>12.823485</td>\n",
              "      <td>140.54</td>\n",
              "      <td>0.013973</td>\n",
              "      <td>8.0</td>\n",
              "      <td>39.38</td>\n",
              "      <td>73.082191</td>\n",
              "      <td>0.456751</td>\n",
              "      <td>95.74914</td>\n",
              "      <td>99.52254</td>\n",
              "      <td>102.79424</td>\n",
              "      <td>6.056440</td>\n",
              "      <td>82.0</td>\n",
              "      <td>12.633200</td>\n",
              "      <td>5.27695</td>\n",
              "      <td>11.466210</td>\n",
              "      <td>10.754200</td>\n",
              "      <td>0.015</td>\n",
              "      <td>0.459401</td>\n",
              "      <td>49.659398</td>\n",
              "      <td>2.87046</td>\n",
              "      <td>96.30638</td>\n",
              "      <td>28.455285</td>\n",
              "      <td>28.906998</td>\n",
              "      <td>22.673299</td>\n",
              "      <td>55.56190</td>\n",
              "      <td>9.759124</td>\n",
              "      <td>0.22</td>\n",
              "      <td>4.2</td>\n",
              "    </tr>\n",
              "    <tr>\n",
              "      <th>Denmark</th>\n",
              "      <td>0.923328</td>\n",
              "      <td>26.88</td>\n",
              "      <td>5.101</td>\n",
              "      <td>100.0</td>\n",
              "      <td>-1.767733</td>\n",
              "      <td>7.248329</td>\n",
              "      <td>23.029974</td>\n",
              "      <td>1.83</td>\n",
              "      <td>106.057718</td>\n",
              "      <td>199.614502</td>\n",
              "      <td>1.31</td>\n",
              "      <td>6.0</td>\n",
              "      <td>100.0</td>\n",
              "      <td>18.68933</td>\n",
              "      <td>102.80640</td>\n",
              "      <td>4.1</td>\n",
              "      <td>0.475533</td>\n",
              "      <td>12.915390</td>\n",
              "      <td>70.582387</td>\n",
              "      <td>10.750000</td>\n",
              "      <td>0.048432</td>\n",
              "      <td>-0.484064</td>\n",
              "      <td>26.715854</td>\n",
              "      <td>235.722410</td>\n",
              "      <td>41990.51573</td>\n",
              "      <td>18.324442</td>\n",
              "      <td>44025.48217</td>\n",
              "      <td>0.00000</td>\n",
              "      <td>0.8</td>\n",
              "      <td>2.9</td>\n",
              "      <td>8557.0</td>\n",
              "      <td>8.32088</td>\n",
              "      <td>95.99</td>\n",
              "      <td>50.000000</td>\n",
              "      <td>80.2</td>\n",
              "      <td>13.6</td>\n",
              "      <td>5.0</td>\n",
              "      <td>12.729388</td>\n",
              "      <td>125.96</td>\n",
              "      <td>1.463291</td>\n",
              "      <td>2.7</td>\n",
              "      <td>34.24</td>\n",
              "      <td>0.000000</td>\n",
              "      <td>8.536134</td>\n",
              "      <td>96.07674</td>\n",
              "      <td>101.75368</td>\n",
              "      <td>101.26672</td>\n",
              "      <td>1.113170</td>\n",
              "      <td>73.0</td>\n",
              "      <td>-0.124352</td>\n",
              "      <td>8.74569</td>\n",
              "      <td>10.623260</td>\n",
              "      <td>12.303007</td>\n",
              "      <td>0.010</td>\n",
              "      <td>0.434292</td>\n",
              "      <td>26.767245</td>\n",
              "      <td>2.98416</td>\n",
              "      <td>124.65927</td>\n",
              "      <td>37.988827</td>\n",
              "      <td>9.909512</td>\n",
              "      <td>39.677938</td>\n",
              "      <td>79.59763</td>\n",
              "      <td>33.395651</td>\n",
              "      <td>0.40</td>\n",
              "      <td>3.5</td>\n",
              "    </tr>\n",
              "    <tr>\n",
              "      <th>Netherlands</th>\n",
              "      <td>0.921794</td>\n",
              "      <td>28.87</td>\n",
              "      <td>6.165</td>\n",
              "      <td>100.0</td>\n",
              "      <td>-0.252734</td>\n",
              "      <td>10.064490</td>\n",
              "      <td>5.922602</td>\n",
              "      <td>-4.31</td>\n",
              "      <td>107.474154</td>\n",
              "      <td>193.011289</td>\n",
              "      <td>1.38</td>\n",
              "      <td>5.6</td>\n",
              "      <td>100.0</td>\n",
              "      <td>17.92333</td>\n",
              "      <td>155.55110</td>\n",
              "      <td>4.8</td>\n",
              "      <td>3.761942</td>\n",
              "      <td>10.824437</td>\n",
              "      <td>91.447451</td>\n",
              "      <td>11.650000</td>\n",
              "      <td>0.062406</td>\n",
              "      <td>-0.251702</td>\n",
              "      <td>26.335185</td>\n",
              "      <td>755.259003</td>\n",
              "      <td>44944.59267</td>\n",
              "      <td>18.246374</td>\n",
              "      <td>45435.11660</td>\n",
              "      <td>0.00000</td>\n",
              "      <td>0.9</td>\n",
              "      <td>3.3</td>\n",
              "      <td>12800.0</td>\n",
              "      <td>5.42285</td>\n",
              "      <td>93.17</td>\n",
              "      <td>39.466667</td>\n",
              "      <td>81.6</td>\n",
              "      <td>11.7</td>\n",
              "      <td>6.0</td>\n",
              "      <td>11.889302</td>\n",
              "      <td>116.42</td>\n",
              "      <td>0.866812</td>\n",
              "      <td>0.6</td>\n",
              "      <td>31.49</td>\n",
              "      <td>0.006033</td>\n",
              "      <td>5.352625</td>\n",
              "      <td>89.04594</td>\n",
              "      <td>90.89967</td>\n",
              "      <td>105.79075</td>\n",
              "      <td>6.056440</td>\n",
              "      <td>82.0</td>\n",
              "      <td>7.619826</td>\n",
              "      <td>5.93098</td>\n",
              "      <td>12.885300</td>\n",
              "      <td>11.502260</td>\n",
              "      <td>0.063</td>\n",
              "      <td>0.183406</td>\n",
              "      <td>6.671366</td>\n",
              "      <td>2.15676</td>\n",
              "      <td>129.91277</td>\n",
              "      <td>36.888889</td>\n",
              "      <td>11.724418</td>\n",
              "      <td>23.533104</td>\n",
              "      <td>77.34356</td>\n",
              "      <td>19.724059</td>\n",
              "      <td>0.17</td>\n",
              "      <td>4.0</td>\n",
              "    </tr>\n",
              "  </tbody>\n",
              "</table>\n",
              "</div>"
            ],
            "text/plain": [
              "             Human Development Index HDI-2014  ...  Under-five Mortality 2013 thousands\n",
              "Id                                             ...                                     \n",
              "Norway                               0.943877  ...                                  2.8\n",
              "Australia                            0.934958  ...                                  4.0\n",
              "Switzerland                          0.929613  ...                                  4.2\n",
              "Denmark                              0.923328  ...                                  3.5\n",
              "Netherlands                          0.921794  ...                                  4.0\n",
              "\n",
              "[5 rows x 65 columns]"
            ]
          },
          "metadata": {
            "tags": []
          },
          "execution_count": 35
        }
      ]
    },
    {
      "cell_type": "code",
      "metadata": {
        "colab": {
          "base_uri": "https://localhost:8080/",
          "height": 302
        },
        "id": "iYpyW_gynY2x",
        "outputId": "ad74265e-bea2-4d38-e3a5-161c0e2ce883"
      },
      "source": [
        "df.plot(kind='scatter',x= 'Life expectancy at birth- years',y='Internet users percentage of population 2014')"
      ],
      "execution_count": 36,
      "outputs": [
        {
          "output_type": "execute_result",
          "data": {
            "text/plain": [
              "<matplotlib.axes._subplots.AxesSubplot at 0x7f4ebf4a8950>"
            ]
          },
          "metadata": {
            "tags": []
          },
          "execution_count": 36
        },
        {
          "output_type": "display_data",
          "data": {
            "image/png": "[encoded data removed]",
            "text/plain": [
              "<Figure size 432x288 with 1 Axes>"
            ]
          },
          "metadata": {
            "tags": [],
            "needs_background": "light"
          }
        }
      ]
    },
    {
      "cell_type": "code",
      "metadata": {
        "colab": {
          "base_uri": "https://localhost:8080/",
          "height": 311
        },
        "id": "l46FnSPvngM2",
        "outputId": "1ff85f11-58c9-47a9-bb43-3de0a19fd3f6"
      },
      "source": [
        "df.plot(kind='scatter',x= 'Forest area percentage of total land area 2012',y='Carbon dioxide emissionsAverage annual growth')"
      ],
      "execution_count": 37,
      "outputs": [
        {
          "output_type": "execute_result",
          "data": {
            "text/plain": [
              "<matplotlib.axes._subplots.AxesSubplot at 0x7f4ebf3f7590>"
            ]
          },
          "metadata": {
            "tags": []
          },
          "execution_count": 37
        },
        {
          "output_type": "display_data",
          "data": {
            "image/png": "[encoded data removed]",
            "text/plain": [
              "<Figure size 432x288 with 1 Axes>"
            ]
          },
          "metadata": {
            "tags": [],
            "needs_background": "light"
          }
        }
      ]
    },
    {
      "cell_type": "code",
      "metadata": {
        "colab": {
          "base_uri": "https://localhost:8080/",
          "height": 305
        },
        "id": "r3se6Jt-nrMO",
        "outputId": "9f924070-53f2-4500-8fb4-b80e4852a87d"
      },
      "source": [
        "df.plot(kind='scatter',x='Internet users percentage of population 2014',y= 'Forest area percentage of total land area 2012')"
      ],
      "execution_count": 38,
      "outputs": [
        {
          "output_type": "execute_result",
          "data": {
            "text/plain": [
              "<matplotlib.axes._subplots.AxesSubplot at 0x7f4ebf496350>"
            ]
          },
          "metadata": {
            "tags": []
          },
          "execution_count": 38
        },
        {
          "output_type": "display_data",
          "data": {
            "image/png": "[encoded data removed]",
            "text/plain": [
              "<Figure size 432x288 with 1 Axes>"
            ]
          },
          "metadata": {
            "tags": [],
            "needs_background": "light"
          }
        }
      ]
    },
    {
      "cell_type": "code",
      "metadata": {
        "colab": {
          "base_uri": "https://localhost:8080/",
          "height": 311
        },
        "id": "me9MUxCInzDw",
        "outputId": "f636057d-eac6-4154-8a9c-440c412342f4"
      },
      "source": [
        "df.plot(kind='scatter',x='Life expectancy at birth- years',y='Carbon dioxide emissionsAverage annual growth')"
      ],
      "execution_count": 39,
      "outputs": [
        {
          "output_type": "execute_result",
          "data": {
            "text/plain": [
              "<matplotlib.axes._subplots.AxesSubplot at 0x7f4ebf390950>"
            ]
          },
          "metadata": {
            "tags": []
          },
          "execution_count": 39
        },
        {
          "output_type": "display_data",
          "data": {
            "image/png": "[encoded data removed]",
            "text/plain": [
              "<Figure size 432x288 with 1 Axes>"
            ]
          },
          "metadata": {
            "tags": [],
            "needs_background": "light"
          }
        }
      ]
    },
    {
      "cell_type": "code",
      "metadata": {
        "colab": {
          "base_uri": "https://localhost:8080/",
          "height": 305
        },
        "id": "ai2qkUt6n6jH",
        "outputId": "25372c8a-16e4-463b-ce6c-0f16ee531dae"
      },
      "source": [
        "df.plot(kind='scatter',x='Life expectancy at birth- years',y='Forest area percentage of total land area 2012')"
      ],
      "execution_count": 40,
      "outputs": [
        {
          "output_type": "execute_result",
          "data": {
            "text/plain": [
              "<matplotlib.axes._subplots.AxesSubplot at 0x7f4ebf2d7f50>"
            ]
          },
          "metadata": {
            "tags": []
          },
          "execution_count": 40
        },
        {
          "output_type": "display_data",
          "data": {
            "image/png": "[encoded data removed]",
            "text/plain": [
              "<Figure size 432x288 with 1 Axes>"
            ]
          },
          "metadata": {
            "tags": [],
            "needs_background": "light"
          }
        }
      ]
    }
  ]
}