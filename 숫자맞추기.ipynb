{
  "nbformat": 4,
  "nbformat_minor": 0,
  "metadata": {
    "colab": {
      "name": "Untitled28.ipynb",
      "provenance": [],
      "collapsed_sections": [],
      "authorship_tag": "ABX9TyN2hXcrh7b4oqDafVWo0BTP",
      "include_colab_link": true
    },
    "kernelspec": {
      "name": "python3",
      "display_name": "Python 3"
    },
    "language_info": {
      "name": "python"
    }
  },
  "cells": [
    {
      "cell_type": "markdown",
      "metadata": {
        "id": "view-in-github",
        "colab_type": "text"
      },
      "source": [
        "<a href=\"https://colab.research.google.com/github/yoojinlee-hub/Practice_python/blob/main/%EC%88%AB%EC%9E%90%EB%A7%9E%EC%B6%94%EA%B8%B0.ipynb\" target=\"_parent\"><img src=\"https://colab.research.google.com/assets/colab-badge.svg\" alt=\"Open In Colab\"/></a>"
      ]
    },
    {
      "cell_type": "code",
      "execution_count": 7,
      "metadata": {
        "colab": {
          "base_uri": "https://localhost:8080/"
        },
        "id": "Roq-CmM5fXyw",
        "outputId": "312d87c8-8781-49de-ee95-68b02cff7ea7"
      },
      "outputs": [
        {
          "output_type": "stream",
          "name": "stdout",
          "text": [
            "기회가 4번 남았습니다. 1-20 사이의 숫자를 맞혀보세요:1\n",
            "Up\n",
            "기회가 3번 남았습니다. 1-20 사이의 숫자를 맞혀보세요:20\n",
            "Down\n",
            "기회가 2번 남았습니다. 1-20 사이의 숫자를 맞혀보세요:10\n",
            "Up\n",
            "기회가 1번 남았습니다. 1-20 사이의 숫자를 맞혀보세요:15\n",
            "Up\n",
            "아쉽습니다. 정답은 17였습니다\n"
          ]
        }
      ],
      "source": [
        "import random\n",
        "\n",
        "# 코드를 작성하세요.\n",
        "num = random.randint(1,20)\n",
        "count = 4\n",
        "cnt = 0\n",
        "while count>0 :\n",
        "    scanf = int(input(\"기회가 {}번 남았습니다. 1-20 사이의 숫자를 맞혀보세요:\".format(count)))\n",
        "    if num>scanf :\n",
        "        print(\"Up\")\n",
        "        count = count -1\n",
        "    elif num < scanf:\n",
        "        print(\"Down\")\n",
        "        count = count -1\n",
        "    elif num==scanf:\n",
        "        print(\"축하합니다. {}번 만에 숫자를 맞히셨습니다.\".format(count))\n",
        "        cnt = 1\n",
        "        break\n",
        "\n",
        "if cnt==0:\n",
        "    print(\"아쉽습니다. 정답은 {}였습니다\".format(num))"
      ]
    }
  ]
}