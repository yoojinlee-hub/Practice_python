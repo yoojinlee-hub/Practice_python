{
  "nbformat": 4,
  "nbformat_minor": 0,
  "metadata": {
    "colab": {
      "name": "Untitled28.ipynb",
      "provenance": [],
      "authorship_tag": "ABX9TyP0CvACAcANnB0tnBTdyBHe",
      "include_colab_link": true
    },
    "kernelspec": {
      "name": "python3",
      "display_name": "Python 3"
    },
    "language_info": {
      "name": "python"
    }
  },
  "cells": [
    {
      "cell_type": "markdown",
      "metadata": {
        "id": "view-in-github",
        "colab_type": "text"
      },
      "source": [
        "<a href=\"https://colab.research.google.com/github/yoojinlee-hub/Practice_python/blob/main/%ED%81%AC%EB%A1%A4%EB%A7%81%EC%97%B0%EC%8A%B5.ipynb\" target=\"_parent\"><img src=\"https://colab.research.google.com/assets/colab-badge.svg\" alt=\"Open In Colab\"/></a>"
      ]
    },
    {
      "cell_type": "markdown",
      "metadata": {
        "id": "8Dk8nkUKm2mt"
      },
      "source": [
        "엄마 블로그 글 모아보기"
      ]
    },
    {
      "cell_type": "code",
      "metadata": {
        "colab": {
          "base_uri": "https://localhost:8080/"
        },
        "id": "W-RKLlObmpGb",
        "outputId": "b2c78235-0066-4bdd-9592-5a6ee4afd36d"
      },
      "source": [
        "import requests\n",
        "page = requests.get(\"https://blog.aladin.co.kr/nama\")\n",
        "type(page)"
      ],
      "execution_count": 1,
      "outputs": [
        {
          "output_type": "execute_result",
          "data": {
            "text/plain": [
              "requests.models.Response"
            ]
          },
          "metadata": {
            "tags": []
          },
          "execution_count": 1
        }
      ]
    },
    {
      "cell_type": "code",
      "metadata": {
        "id": "hAgwTck3nYbD"
      },
      "source": [
        "rating_page=page.text\n",
        "# 출력 코드\n",
        "print(rating_page)"
      ],
      "execution_count": null,
      "outputs": []
    },
    {
      "cell_type": "code",
      "metadata": {
        "id": "_M3zjWtvoTZE"
      },
      "source": [
        "import time\n",
        "import requests\n",
        "from bs4 import BeautifulSoup"
      ],
      "execution_count": 3,
      "outputs": []
    },
    {
      "cell_type": "code",
      "metadata": {
        "id": "nIGYVtbpoViL"
      },
      "source": [
        "# 빈 리스트 생성\n",
        "pages = []\n",
        "\n",
        "# 첫 페이지 번호 지정\n",
        "page_num = 1\n",
        "\n",
        "# headers 지정\n",
        "headers = {\n",
        "    'user-agent': 'Mozilla/5.0 (Macintosh; Intel Mac OS X 11_2_3) AppleWebKit/537.36 (KHTML, like Gecko) Chrome/89.0.4389.114 Safari/537.36',\n",
        "}\n",
        "#user-agent는 사용자를 대표해서 여러가지 작업을 해 주는 프로그램"
      ],
      "execution_count": 4,
      "outputs": []
    },
    {
      "cell_type": "code",
      "metadata": {
        "id": "qcDqdQ55ocID"
      },
      "source": [
        "no_page = requests.get('https://blog.aladin.co.kr/nama?CommunityType=AllView&page=10000&cnt=1473')\n",
        "see_no_page = no_page.text\n",
        "print(see_no_page)"
      ],
      "execution_count": null,
      "outputs": []
    },
    {
      "cell_type": "markdown",
      "metadata": {
        "id": "j8jMjmFnpFQs"
      },
      "source": [
        "id가 *ctl00_ctl00_Body_Body_listMain_imgNotList* 일 때 글이 없는 것임."
      ]
    },
    {
      "cell_type": "code",
      "metadata": {
        "colab": {
          "base_uri": "https://localhost:8080/"
        },
        "id": "iuegyULnpN1j",
        "outputId": "a2f2b0de-46e4-43f4-8e5b-76698f7402dd"
      },
      "source": [
        "while True:\n",
        "    # HTML 코드 받아오기, 위에서 지정해 준 headers 설정해 주기\n",
        "    response = requests.get(\"https://blog.aladin.co.kr/nama?CommunityType=AllView&page=\" + str(page_num), headers=headers)\n",
        "\n",
        "    # BeautifulSoup 타입으로 변환하기\n",
        "    soup = BeautifulSoup(response.text, 'html.parser')\n",
        "\n",
        "    # #ctl00_ctl00_Body_Body_listMain_imgNotList가 없을 때만 HTML 코드를 리스트에 담기\n",
        "    if len(soup.select('#ctl00_ctl00_Body_Body_listMain_imgNotList')) == 0:\n",
        "        pages.append(soup)\n",
        "        print(str(page_num) + \"번째 페이지 가져오기 완료\")\n",
        "        page_num += 1\n",
        "        time.sleep(0.5) #한 페이지를 가져온 뒤 3초간 쉬었다가 다음 페이지를 가져오도록 했습니다. 처음에 import time을 하고, 3초 멈추고 싶은 곳에 time.sleep(3) 이라고 적으면 됩니다.\n",
        "    else:\n",
        "        break\n",
        "\n",
        "# 가져온 페이지 개수 출력하기\n",
        "print(len(pages))"
      ],
      "execution_count": 9,
      "outputs": [
        {
          "output_type": "stream",
          "text": [
            "285번째 페이지 가져오기 완료\n",
            "286번째 페이지 가져오기 완료\n",
            "287번째 페이지 가져오기 완료\n",
            "288번째 페이지 가져오기 완료\n",
            "289번째 페이지 가져오기 완료\n",
            "290번째 페이지 가져오기 완료\n",
            "291번째 페이지 가져오기 완료\n",
            "292번째 페이지 가져오기 완료\n",
            "293번째 페이지 가져오기 완료\n",
            "294번째 페이지 가져오기 완료\n",
            "295번째 페이지 가져오기 완료\n",
            "295\n"
          ],
          "name": "stdout"
        }
      ]
    },
    {
      "cell_type": "markdown",
      "metadata": {
        "id": "NZqDTig4rQe0"
      },
      "source": [
        "class=\"entry paper-contents\" 인 부분을 모으면 됨"
      ]
    },
    {
      "cell_type": "code",
      "metadata": {
        "id": "snamsTaxujmE"
      },
      "source": [
        "import requests\n",
        "from bs4 import BeautifulSoup"
      ],
      "execution_count": 11,
      "outputs": []
    },
    {
      "cell_type": "code",
      "metadata": {
        "colab": {
          "base_uri": "https://localhost:8080/",
          "height": 244
        },
        "id": "ghAQoyK0rmdM",
        "outputId": "1c5ce2a2-6a99-46d0-f698-524b37706ffc"
      },
      "source": [
        "# \"popular__order\" 클래스를 가진 태그에 중첩된 모든 <div> 태그 선택\n",
        "article = pages.select(\".entry paper-contents div\")\n",
        "#'list' object has no attribute 'select'\n",
        "\n",
        "# 빈 리스트 생성\n",
        "nama_article = []\n",
        "\n",
        "# 텍스트 추출해서 리스트에 담기\n",
        "for div in article:\n",
        "    nama_article.append(div.text)\n",
        "\n",
        "# 결과 출력\n",
        "print(nama_article)"
      ],
      "execution_count": 10,
      "outputs": [
        {
          "output_type": "error",
          "ename": "AttributeError",
          "evalue": "ignored",
          "traceback": [
            "\u001b[0;31m---------------------------------------------------------------------------\u001b[0m",
            "\u001b[0;31mAttributeError\u001b[0m                            Traceback (most recent call last)",
            "\u001b[0;32m<ipython-input-10-2bf0cacea1dc>\u001b[0m in \u001b[0;36m<module>\u001b[0;34m()\u001b[0m\n\u001b[1;32m      1\u001b[0m \u001b[0;31m# \"popular__order\" 클래스를 가진 태그에 중첩된 모든 <div> 태그 선택\u001b[0m\u001b[0;34m\u001b[0m\u001b[0;34m\u001b[0m\u001b[0;34m\u001b[0m\u001b[0m\n\u001b[0;32m----> 2\u001b[0;31m \u001b[0marticle\u001b[0m \u001b[0;34m=\u001b[0m \u001b[0mpages\u001b[0m\u001b[0;34m.\u001b[0m\u001b[0mselect\u001b[0m\u001b[0;34m(\u001b[0m\u001b[0;34m\".entry paper-contents div\"\u001b[0m\u001b[0;34m)\u001b[0m\u001b[0;34m\u001b[0m\u001b[0;34m\u001b[0m\u001b[0m\n\u001b[0m\u001b[1;32m      3\u001b[0m \u001b[0;34m\u001b[0m\u001b[0m\n\u001b[1;32m      4\u001b[0m \u001b[0;31m# 빈 리스트 생성\u001b[0m\u001b[0;34m\u001b[0m\u001b[0;34m\u001b[0m\u001b[0;34m\u001b[0m\u001b[0m\n\u001b[1;32m      5\u001b[0m \u001b[0mnama_article\u001b[0m \u001b[0;34m=\u001b[0m \u001b[0;34m[\u001b[0m\u001b[0;34m]\u001b[0m\u001b[0;34m\u001b[0m\u001b[0;34m\u001b[0m\u001b[0m\n",
            "\u001b[0;31mAttributeError\u001b[0m: 'list' object has no attribute 'select'"
          ]
        }
      ]
    },
    {
      "cell_type": "code",
      "metadata": {
        "id": "ZAh-eRxLvKb8"
      },
      "source": [
        "# 본문 스크래핑\n",
        "def text_scraping(url):\n",
        "    headers = {\"User-Agent\":\"Mozilla/5.0 (Windows NT 10.0; Win64; x64) AppleWebKit/537.36 (KHTML, like Gecko) Chrome/90.0.4430.93 Safari/537.36\"}\n",
        "    res = requests.get(url, headers=headers)\n",
        "    res.raise_for_status() # 문제시 프로그램 종료\n",
        "    soup = BeautifulSoup(response.text, 'html.parser')\n",
        "\n",
        "    if soup.find(\"div\", attrs={\"class\":\"entry paper-contents\"}):\n",
        "        text = soup.find(\"div\", attrs={\"class\":\"entry paper-contents\"}).get_text()\n",
        "        text = text.replace(\"\\n\",\"\") #공백 제거\n",
        "        print(\"블로그\")\n",
        "        return text\n",
        "    else:\n",
        "        return \"확인불가"
      ],
      "execution_count": 14,
      "outputs": []
    }
  ]
}