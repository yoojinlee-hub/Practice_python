{
  "nbformat": 4,
  "nbformat_minor": 0,
  "metadata": {
    "colab": {
      "name": "Untitled22.ipynb",
      "provenance": [],
      "mount_file_id": "1GbpewkY4yJ6McwmeXFK4V6ybm1cvUr8L",
      "authorship_tag": "ABX9TyO1ECfp/MD/9IV+X8Ek1mlR",
      "include_colab_link": true
    },
    "kernelspec": {
      "name": "python3",
      "display_name": "Python 3"
    },
    "language_info": {
      "name": "python"
    }
  },
  "cells": [
    {
      "cell_type": "markdown",
      "metadata": {
        "id": "view-in-github",
        "colab_type": "text"
      },
      "source": [
        "<a href=\"https://colab.research.google.com/github/yoojinlee-hub/Practice_python/blob/main/%ED%86%B5%EA%B3%84%EA%B8%B0%EB%B3%B8%EC%83%81%EC%8B%9D_%EC%83%81%EA%B4%80%EA%B3%84%EC%88%98%20%EC%8B%9C%EA%B0%81%ED%99%94.ipynb\" target=\"_parent\"><img src=\"https://colab.research.google.com/assets/colab-badge.svg\" alt=\"Open In Colab\"/></a>"
      ]
    },
    {
      "cell_type": "markdown",
      "metadata": {
        "id": "V3hCb7NfUvNF"
      },
      "source": [
        "**통계기본상식**"
      ]
    },
    {
      "cell_type": "markdown",
      "metadata": {
        "id": "nMrteyD1VBDa"
      },
      "source": [
        "\n",
        "\n",
        "*   평균mean:모든 값의 합을 값의 개수로 나눈 것 //정수값이 아닐 수 있음\n",
        "*   중간값median:데이터셋에서 중간에 있는 값 // 데이터셋이 짝수일 때 - 가운데 두 값의 합을 2로 나눈 값\n",
        "*    평균 - 잘못된 데이터,특이한 데이터의 값의 영향을 크게 받음 \n",
        "*    중간값 - 잘못된 데이터, 특이한 데이터의 값의 영향 적음\n",
        "\n"
      ]
    },
    {
      "cell_type": "markdown",
      "metadata": {
        "id": "T2ag1dIKXbCF"
      },
      "source": [
        "\n",
        "\n",
        "*   상관 계수correlation coefficient : 두 변수의 연관성 <예: 산점도에서 사용>\n",
        "*   피어슨 상관 계수 Pearson correlation coefficient : -1부터 1까지의 값/ 0이면 연관성 없음 / 1이면 정관계 /-1이면 역관계\n",
        "\n"
      ]
    },
    {
      "cell_type": "code",
      "metadata": {
        "colab": {
          "base_uri": "https://localhost:8080/",
          "height": 142
        },
        "id": "DvzKQSxpYetL",
        "outputId": "1ebc1768-e68c-4cf1-e6af-c935f7d7f389"
      },
      "source": [
        "#상관계수 시각화\n",
        "%matplotlib inline\n",
        "import pandas as pd\n",
        "\n",
        "df = pd.read_csv('/content/drive/MyDrive/exam.csv')\n",
        "#corr메소드: 상관계수\n",
        "df.corr()"
      ],
      "execution_count": 1,
      "outputs": [
        {
          "output_type": "execute_result",
          "data": {
            "text/html": [
              "<div>\n",
              "<style scoped>\n",
              "    .dataframe tbody tr th:only-of-type {\n",
              "        vertical-align: middle;\n",
              "    }\n",
              "\n",
              "    .dataframe tbody tr th {\n",
              "        vertical-align: top;\n",
              "    }\n",
              "\n",
              "    .dataframe thead th {\n",
              "        text-align: right;\n",
              "    }\n",
              "</style>\n",
              "<table border=\"1\" class=\"dataframe\">\n",
              "  <thead>\n",
              "    <tr style=\"text-align: right;\">\n",
              "      <th></th>\n",
              "      <th>math score</th>\n",
              "      <th>reading score</th>\n",
              "      <th>writing score</th>\n",
              "    </tr>\n",
              "  </thead>\n",
              "  <tbody>\n",
              "    <tr>\n",
              "      <th>math score</th>\n",
              "      <td>1.000000</td>\n",
              "      <td>0.817580</td>\n",
              "      <td>0.802642</td>\n",
              "    </tr>\n",
              "    <tr>\n",
              "      <th>reading score</th>\n",
              "      <td>0.817580</td>\n",
              "      <td>1.000000</td>\n",
              "      <td>0.954598</td>\n",
              "    </tr>\n",
              "    <tr>\n",
              "      <th>writing score</th>\n",
              "      <td>0.802642</td>\n",
              "      <td>0.954598</td>\n",
              "      <td>1.000000</td>\n",
              "    </tr>\n",
              "  </tbody>\n",
              "</table>\n",
              "</div>"
            ],
            "text/plain": [
              "               math score  reading score  writing score\n",
              "math score       1.000000       0.817580       0.802642\n",
              "reading score    0.817580       1.000000       0.954598\n",
              "writing score    0.802642       0.954598       1.000000"
            ]
          },
          "metadata": {
            "tags": []
          },
          "execution_count": 1
        }
      ]
    },
    {
      "cell_type": "code",
      "metadata": {
        "colab": {
          "base_uri": "https://localhost:8080/",
          "height": 295
        },
        "id": "jmfO2KspYpSy",
        "outputId": "3a2aac0e-d0b8-41b6-ff79-f59a56fe053d"
      },
      "source": [
        "sns.heatmap(df.corr())\n",
        "#히트맵으로 상관계수 시각화하기 //얼마나 밀집되어 있는지 보기에 좋다\n",
        "#scatter plot : 얼마나 분산되어 있는지 보기 좋음"
      ],
      "execution_count": 3,
      "outputs": [
        {
          "output_type": "execute_result",
          "data": {
            "text/plain": [
              "<matplotlib.axes._subplots.AxesSubplot at 0x7fa1facc2cd0>"
            ]
          },
          "metadata": {
            "tags": []
          },
          "execution_count": 3
        },
        {
          "output_type": "display_data",
          "data": {
            "image/png": "[encoded data removed]",
            "text/plain": [
              "<Figure size 432x288 with 2 Axes>"
            ]
          },
          "metadata": {
            "tags": [],
            "needs_background": "light"
          }
        }
      ]
    },
    {
      "cell_type": "code",
      "metadata": {
        "colab": {
          "base_uri": "https://localhost:8080/",
          "height": 295
        },
        "id": "6JNM95phYzCa",
        "outputId": "ecb9a5cc-1262-4d86-cfd1-6390400f44be"
      },
      "source": [
        "sns.heatmap(df.corr(), annot=True) #숫자도 보여주기"
      ],
      "execution_count": 4,
      "outputs": [
        {
          "output_type": "execute_result",
          "data": {
            "text/plain": [
              "<matplotlib.axes._subplots.AxesSubplot at 0x7fa1fac3b550>"
            ]
          },
          "metadata": {
            "tags": []
          },
          "execution_count": 4
        },
        {
          "output_type": "display_data",
          "data": {
            "image/png": "[encoded data removed]",
            "text/plain": [
              "<Figure size 432x288 with 2 Axes>"
            ]
          },
          "metadata": {
            "tags": [],
            "needs_background": "light"
          }
        }
      ]
    }
  ]
}